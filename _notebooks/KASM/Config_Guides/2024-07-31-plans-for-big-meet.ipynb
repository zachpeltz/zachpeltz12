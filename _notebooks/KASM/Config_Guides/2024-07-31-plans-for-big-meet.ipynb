{
 "cells": [
  {
   "cell_type": "raw",
   "id": "4a971b9b",
   "metadata": {},
   "source": [
    "---\n",
    "layout: post\n",
    "title: Plans For Big Meet Aug 1\n",
    "description: Plans for the big meeting demo\n",
    "type: ccc\n",
    "courses: {}\n",
    "menu: nav/kasm_cloud.html\n",
    "toc: true\n",
    "comments: true\n",
    "permalink: /kasm/config/autoscale\n",
    "author: Rachit Jaiswal\n",
    "---"
   ]
  },
  {
   "cell_type": "markdown",
   "id": "5ba7c344",
   "metadata": {},
   "source": [
    "<p>Plans for big meet</p>"
   ]
  },
  {
   "cell_type": "markdown",
   "id": "86fb8e25",
   "metadata": {},
   "source": [
    "<ol>\n",
    "<li><strong>Introduction/Roles</strong> - Rachit</li>\n",
    "<li><strong>Project Statement</strong> - Tanisha<ul>\n",
    "<li>Explain what Kasm is and what the program does</li>\n",
    "</ul>\n",
    "</li>\n",
    "<li><strong>Users</strong> - Tanisha<ul>\n",
    "<li>Show how users go from SQLite to RDS</li>\n",
    "</ul>\n",
    "</li>\n",
    "<li><strong>Kasm Image and API</strong> - Torin<ul>\n",
    "<li>Explain Kasm image and API stuff</li>\n",
    "<li>Pick up from RDS to Kasm and then go from there</li>\n",
    "</ul>\n",
    "</li>\n",
    "<li><strong>Ground Zero</strong> - Rachit<ul>\n",
    "<li>Explain how to initialize Kasm from the ground up</li>\n",
    "<li>Autoscale and backend stuff</li>\n",
    "<li>Recap and demo</li>\n",
    "</ul>\n",
    "</li>\n",
    "<li><strong>Demo</strong> - Rachit<ul>\n",
    "<li>Everyone picks a Kasm image:<ul>\n",
    "<li>Student (temporary S3) - Rachit</li>\n",
    "<li>Microsoft - Tanisha</li>\n",
    "<li>Image Tools - Torin</li>\n",
    "</ul>\n",
    "</li>\n",
    "<li>Each person explains how their chosen image is used</li>\n",
    "</ul>\n",
    "</li>\n",
    "<li><strong>Costs</strong> - Rachit and Tanisha<ul>\n",
    "<li>Explain image costs and go over document</li>\n",
    "</ul>\n",
    "</li>\n",
    "<li><strong>Documentation</strong> - Rachit<ul>\n",
    "<li>Show multiserver documentation (brief)</li>\n",
    "</ul>\n",
    "</li>\n",
    "<li><strong>Closing and Questions</strong></li>\n",
    "</ol>"
   ]
  }
 ],
 "metadata": {
  "language_info": {
   "name": "python"
  }
 },
 "nbformat": 4,
 "nbformat_minor": 5
}
