{
 "cells": [
  {
   "cell_type": "raw",
   "id": "a84ffcfc",
   "metadata": {},
   "source": [
    "---\n",
    "layout: post\n",
    "title: Manual Addition of Docker Images to Kasm (UPDATED)\n",
    "description: When Kasm registry is not working, even with third party additions, there are ways to directly import a docker image from dockerhub.\n",
    "type: ccc\n",
    "courses: {}\n",
    "menu: nav/kasm_cloud.html\n",
    "toc: true\n",
    "comments: true\n",
    "permalink: /kasm/config/manual_docker_add_updated\n",
    "author: Rachit Jaiswal\n",
    "---"
   ]
  },
  {
   "cell_type": "markdown",
   "id": "0d467161",
   "metadata": {},
   "source": [
    "<p>When Kasm registry is not working, even with third party additions, there are ways to directly import a docker image from dockerhub.</p>"
   ]
  },
  {
   "cell_type": "markdown",
   "id": "fd210da7",
   "metadata": {},
   "source": [
    "<h2>Step 1: Navigation</h2>"
   ]
  },
  {
   "cell_type": "markdown",
   "id": "9c7d0d51",
   "metadata": {},
   "source": [
    "<p>In the Kasm administrative panel, navigate to <code>Workspaces &gt; Workspaces</code>, then click the blue <code>Add Workspace</code> button.</p>"
   ]
  },
  {
   "cell_type": "markdown",
   "id": "d419b8fe",
   "metadata": {},
   "source": [
    "<p>On another tab, open the registry for the images: <a href=\"https://nighthawkcoders.github.io/kasm_registry/1.0/\">https://nighthawkcoders.github.io/kasm_registry/1.0/</a></p>"
   ]
  },
  {
   "cell_type": "markdown",
   "id": "eff39ed9",
   "metadata": {},
   "source": [
    "<h2>Step 2: Filling everything out</h2>"
   ]
  },
  {
   "cell_type": "markdown",
   "id": "8cc9cfb0",
   "metadata": {},
   "source": [
    "<p>Follow the below configuration, use information you can get from the registries, whatever is not here you can leave blank:</p>"
   ]
  },
  {
   "cell_type": "markdown",
   "id": "dee8840c",
   "metadata": {},
   "source": [
    "<ul>\n",
    "<li>Workspace Type &gt; Container</li>\n",
    "<li>Registry Entry &gt; <em>BLANK</em></li>\n",
    "<li>Friendly Name &gt; <em>Name you want users to see</em></li>\n",
    "<li>Description &gt; <em>Description</em></li>\n",
    "<li>Thumbnail URL &gt; <em>From registry</em></li>\n",
    "<li>Enabled &gt; Yes</li>\n",
    "<li>Docker Image &gt; <em>Get from image info in registry, ie <code>nighthawkcoders/pusd-student-ubuntu:1.14.0-rolling</code></em></li>\n",
    "<li>Cores &gt; <em>From registry: JSON config</em></li>\n",
    "<li>Memory (MB) &gt; <em>From registry: JSON config</em></li>\n",
    "<li>GPU Count &gt; <em>From registry: JSON config</em></li>\n",
    "<li>Uncompressed Image Size (MB) &gt; <em>From registry: JSON config</em></li>\n",
    "<li>CPU Allocation Method &gt; <em>From registry: JSON config</em></li>\n",
    "<li>Docker Registry &gt; <em>From registry: JSON config</em></li>\n",
    "<li>Docker Registry Username &gt; nighthawkcoders</li>\n",
    "<li>Web Filter Policy &gt; Inherit (autofilled)</li>\n",
    "<li>All <em>(JSON)</em> fields should be left with: <code>{}</code></li>\n",
    "</ul>"
   ]
  }
 ],
 "metadata": {
  "language_info": {
   "name": "python"
  }
 },
 "nbformat": 4,
 "nbformat_minor": 5
}
