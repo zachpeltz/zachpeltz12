{
 "cells": [
  {
   "cell_type": "raw",
   "id": "be89fa61",
   "metadata": {},
   "source": [
    "---\n",
    "layout: post\n",
    "title: Kasm Persistent Data Configuration Guide \n",
    "description: How to configure Kasm to store data on the agent servers\n",
    "type: ccc\n",
    "courses: {}\n",
    "menu: nav/kasm_cloud.html\n",
    "toc: true\n",
    "comments: true\n",
    "permalink: /kasm/config/agent_persistent_data\n",
    "author: Rachit Jaiswal\n",
    "---"
   ]
  },
  {
   "cell_type": "markdown",
   "id": "8236250c",
   "metadata": {},
   "source": [
    "<p>Persistent data or persistent profiles is a setup that allows users to retain their data even after their images close using the storage availible on the agent servers. While this is beneficial, we recommend important data be backed up in Git, or moved into Drive.</p>"
   ]
  },
  {
   "cell_type": "markdown",
   "id": "4a1e0261",
   "metadata": {},
   "source": [
    "<h2>Step 1: Setup</h2>"
   ]
  },
  {
   "cell_type": "markdown",
   "id": "addd5775",
   "metadata": {},
   "source": [
    "<p>Go into the settings of the image that you are trying to modify.</p>"
   ]
  },
  {
   "cell_type": "markdown",
   "id": "ca2cc69d",
   "metadata": {},
   "source": [
    "<p>Scroll down to Persistent Profile Path. Put: <code>/mnt/kasm_profiles/{image_id}/{user_id}</code> (location to store user data)</p>"
   ]
  },
  {
   "cell_type": "markdown",
   "id": "5d37bac0",
   "metadata": {},
   "source": [
    "<h2>OPTIONAL Restrict user storage (WORK IN PROGRESS)</h2>"
   ]
  },
  {
   "cell_type": "markdown",
   "id": "baea5918",
   "metadata": {},
   "source": [
    "<p>To restrict storage size, put this in Docker Run Config Override:</p>"
   ]
  },
  {
   "cell_type": "code",
   "execution_count": null,
   "id": "edb4e640",
   "metadata": {},
   "outputs": [],
   "source": [
    "json\n",
    "{\n",
    "  \"KASM_PROFILE_SIZE_LIMIT\": \"2000000\"\n",
    "}\n",
    "```"
   ]
  }
 ],
 "metadata": {
  "language_info": {
   "name": "python"
  }
 },
 "nbformat": 4,
 "nbformat_minor": 5
}
