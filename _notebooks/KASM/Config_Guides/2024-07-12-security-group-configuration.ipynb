{
 "cells": [
  {
   "cell_type": "raw",
   "id": "f489c025",
   "metadata": {},
   "source": [
    "---\n",
    "layout: post\n",
    "title: Kasm Security Group Configuration\n",
    "description: How to configure the Kasm security groups to make sure all services are running. \n",
    "type: ccc\n",
    "courses: {}\n",
    "menu: nav/kasm_cloud.html\n",
    "toc: true\n",
    "comments: true\n",
    "permalink: /kasm/config/sec_grp_config\n",
    "author: Rachit Jaiswal\n",
    "---"
   ]
  },
  {
   "cell_type": "markdown",
   "id": "2354c0e4",
   "metadata": {},
   "source": [
    "<p>Whenever Kasm is launched, the security group needs to allow access to the ports that the Kasm services run on. Here is a screenshot of the ports needed. Make sure to also add the port the Kasm service is running on.</p>"
   ]
  },
  {
   "cell_type": "markdown",
   "id": "b9956776",
   "metadata": {},
   "source": [
    "<p><img alt=\"image\" src=\"https://github.com/nighthawkcoders/kasmv2-ansiblecode/assets/56803677/4562a14d-5fe6-4c84-865d-b498a98da6df\" /></p>"
   ]
  }
 ],
 "metadata": {
  "language_info": {
   "name": "python"
  }
 },
 "nbformat": 4,
 "nbformat_minor": 5
}
