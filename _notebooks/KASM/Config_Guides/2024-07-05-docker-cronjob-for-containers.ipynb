{
 "cells": [
  {
   "cell_type": "raw",
   "id": "ed34a521",
   "metadata": {},
   "source": [
    "---\n",
    "layout: post\n",
    "title: Cronjob for Container Restart\n",
    "description: How to create a cronjob to check if the Kasm Docker images are running and auto-start them if not.\n",
    "type: ccc\n",
    "courses: {}\n",
    "menu: nav/kasm_cloud.html\n",
    "toc: true\n",
    "comments: true\n",
    "permalink: /kasm/config/docker_cronjob_for_containers\n",
    "author: Rachit Jaiswal\n",
    "---"
   ]
  },
  {
   "cell_type": "markdown",
   "id": "60890a4f",
   "metadata": {},
   "source": [
    "<ol>\n",
    "<li><strong>Create a Script to Check the Docker Container and Manage Port 443:</strong></li>\n",
    "</ol>"
   ]
  },
  {
   "cell_type": "markdown",
   "id": "753f6aa7",
   "metadata": {},
   "source": [
    "<p>Create a script, say <code>check_and_restart_docker.sh</code>, with the following content:</p>"
   ]
  },
  {
   "cell_type": "markdown",
   "id": "d448283d",
   "metadata": {},
   "source": [
    "<p>```bash\n",
    "   #!/bin/bash</p>"
   ]
  },
  {
   "cell_type": "markdown",
   "id": "196ae64f",
   "metadata": {},
   "source": [
    "<p># Docker container ID to check\n",
    "   CONTAINER_ID=\"875ca0bef633\"</p>"
   ]
  },
  {
   "cell_type": "markdown",
   "id": "8872d179",
   "metadata": {},
   "source": [
    "<p># Check if the Docker container is running\n",
    "   if ! docker ps | grep -q \"$CONTAINER_ID\"; then\n",
    "     echo \"Docker container $CONTAINER_ID is not running.\"</p>"
   ]
  },
  {
   "cell_type": "markdown",
   "id": "ac5e3745",
   "metadata": {},
   "source": [
    "<pre><code> # Find the process using port 443\n",
    " PID=$(sudo lsof -t -i:443)\n",
    "</code></pre>"
   ]
  },
  {
   "cell_type": "markdown",
   "id": "c4a063d2",
   "metadata": {},
   "source": [
    "<pre><code> if [ -n \"$PID\" ]; then\n",
    "   echo \"Killing process $PID using port 443.\"\n",
    "   sudo kill -9 $PID\n",
    " fi\n",
    "</code></pre>"
   ]
  },
  {
   "cell_type": "markdown",
   "id": "bbee12bd",
   "metadata": {},
   "source": [
    "<pre><code> # Start the Docker container\n",
    " echo \"Starting Docker container $CONTAINER_ID.\"\n",
    " docker start $CONTAINER_ID\n",
    "</code></pre>\n",
    "<p>else\n",
    "     echo \"Docker container $CONTAINER_ID is running.\"\n",
    "   fi\n",
    "   ```</p>"
   ]
  },
  {
   "cell_type": "markdown",
   "id": "28e1eb02",
   "metadata": {},
   "source": [
    "<ol>\n",
    "<li><strong>Make the Script Executable:</strong></li>\n",
    "</ol>"
   ]
  },
  {
   "cell_type": "markdown",
   "id": "6faef023",
   "metadata": {},
   "source": [
    "<p><code>bash\n",
    "   sudo chmod +x /path/to/check_and_restart_docker.sh</code></p>"
   ]
  },
  {
   "cell_type": "markdown",
   "id": "8bed1cdc",
   "metadata": {},
   "source": [
    "<ol>\n",
    "<li><strong>Create a Cron Job to Run the Script Periodically:</strong></li>\n",
    "</ol>"
   ]
  },
  {
   "cell_type": "markdown",
   "id": "335b532d",
   "metadata": {},
   "source": [
    "<p>Open the cron job editor:</p>"
   ]
  },
  {
   "cell_type": "markdown",
   "id": "11037853",
   "metadata": {},
   "source": [
    "<p><code>bash\n",
    "   sudo crontab -e</code></p>"
   ]
  },
  {
   "cell_type": "markdown",
   "id": "d66a489c",
   "metadata": {},
   "source": [
    "<p>Add the following line to run the script every 5 minutes (adjust the interval as needed):</p>"
   ]
  },
  {
   "cell_type": "markdown",
   "id": "36128544",
   "metadata": {},
   "source": [
    "<p><code>bash\n",
    "   */5 * * * * /path/to/check_and_restart_docker.sh &gt;&gt; /var/log/check_and_restart_docker.log 2&gt;&amp;1</code></p>"
   ]
  },
  {
   "cell_type": "markdown",
   "id": "09e08492",
   "metadata": {},
   "source": [
    "<p>This will run the script every 5 minutes and log the output to <code>/var/log/check_and_restart_docker.log</code>.</p>"
   ]
  },
  {
   "cell_type": "markdown",
   "id": "1b63625b",
   "metadata": {},
   "source": [
    "<ol>\n",
    "<li><strong>Save and Exit the Cron Job Editor:</strong></li>\n",
    "</ol>"
   ]
  },
  {
   "cell_type": "markdown",
   "id": "05d65ded",
   "metadata": {},
   "source": [
    "<p>Save the file and exit the editor (for <code>nano</code>, press <code>Ctrl+X</code>, then <code>Y</code>, and <code>Enter</code>).</p>"
   ]
  },
  {
   "cell_type": "markdown",
   "id": "4092309c",
   "metadata": {},
   "source": [
    "<p>This setup will ensure that the specified Docker container is checked every 5 minutes. If it is not running, it will kill any process using port 443 and restart the Docker container.</p>"
   ]
  }
 ],
 "metadata": {
  "language_info": {
   "name": "python"
  }
 },
 "nbformat": 4,
 "nbformat_minor": 5
}
