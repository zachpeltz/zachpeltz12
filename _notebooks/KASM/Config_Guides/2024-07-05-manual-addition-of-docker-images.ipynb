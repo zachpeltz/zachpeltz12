{
 "cells": [
  {
   "cell_type": "raw",
   "id": "dd47e9ca",
   "metadata": {},
   "source": [
    "---\n",
    "layout: post\n",
    "title: Manual Addition of Docker Images to Kasm\n",
    "description: When Kasm registry is not working, even with third party additions, there are ways to directly import a docker image from dockerhub.\n",
    "type: ccc\n",
    "courses: {}\n",
    "menu: nav/kasm_cloud.html\n",
    "toc: true\n",
    "comments: true\n",
    "permalink: /kasm/config/manual_docker_add\n",
    "author: Rachit Jaiswal\n",
    "---"
   ]
  },
  {
   "cell_type": "markdown",
   "id": "bb7b8d0b",
   "metadata": {},
   "source": [
    "<h2>Step 1: Navigation</h2>"
   ]
  },
  {
   "cell_type": "markdown",
   "id": "9b4e4d8c",
   "metadata": {},
   "source": [
    "<p>In the Kasm administrative panel, navigate to <code>Workspaces &gt; Workspaces</code>, then click the blue <code>Add Workspace</code> button.</p>"
   ]
  },
  {
   "cell_type": "markdown",
   "id": "82cab9a7",
   "metadata": {},
   "source": [
    "<p><img width=\"1495\" alt=\"image\" src=\"https://github.com/nighthawkcoders/kasmv2/assets/56803677/891129d1-cca3-4c26-ad6f-3f7d0bd73399\"></p>"
   ]
  },
  {
   "cell_type": "markdown",
   "id": "1f6b2a1e",
   "metadata": {},
   "source": [
    "<p>On another tab, open the registry for the images: <a href=\"https://nighthawkcoders.github.io/kasm_registry/1.0/\">https://nighthawkcoders.github.io/kasm_registry/1.0/</a></p>"
   ]
  },
  {
   "cell_type": "markdown",
   "id": "0e324779",
   "metadata": {},
   "source": [
    "<h2>Step 2: Filling everything out</h2>"
   ]
  },
  {
   "cell_type": "markdown",
   "id": "d1b763e0",
   "metadata": {},
   "source": [
    "<p>Follow the below configuration, use information you can get from the registries, whatever is not here you can leave blank:</p>"
   ]
  },
  {
   "cell_type": "markdown",
   "id": "cdfc94d2",
   "metadata": {},
   "source": [
    "<p>Workspace Type &gt; Container\n",
    "\n",
    "Registry Entry &gt; <em>BLANK</em>\n",
    "\n",
    "Friendly Name &gt; <em>Name you want users to see</em>\n",
    "\n",
    "Description &gt; <em>Description</em>\n",
    "\n",
    "Thumbnail URL &gt; <em>From registry</em>\n",
    "\n",
    "Enabled &gt; Yes\n",
    "\n",
    "Docker Image &gt; <em>Get from image info in registry, ie <code>nighthawkcoders/pusd-student-ubuntu:1.14.0-rolling</code></em>\n",
    "\n",
    "Cores &gt; <em>From registry: JSON config</em>\n",
    "\n",
    "Memory (MB) &gt; <em>From registry: JSON config</em>\n",
    "\n",
    "GPU Count &gt; <em>From registry: JSON config</em>\n",
    "\n",
    "Uncompressed Image Size (MB) &gt; <em>From registry: JSON config</em>\n",
    "\n",
    "CPU Allocation Method &gt; <em>From registry: JSON config</em>\n",
    "\n",
    "Docker Registry &gt; <em>From registry: JSON config</em>\n",
    "\n",
    "Docker Registry Username &gt; nighthawkcoders\n",
    "\n",
    "Web Filter Policy &gt; Inherit (autofilled)\n",
    "\n",
    "All <em>(JSON)</em> fields should be left with: <code>{}</code></p>"
   ]
  },
  {
   "cell_type": "markdown",
   "id": "7dbbb4f9",
   "metadata": {},
   "source": [
    "<h3>Persistent Setup Using Volume Storage</h3>\n",
    "<p>In Persistent Profile Path: <code>/mnt/kasm_profiles/{image_id}/{user_id}</code> (location to store user data)\n",
    "To restrict storage size, put this in Docker Run Config Override:\n",
    "<code>json\n",
    "{\n",
    "  \"KASM_PROFILE_SIZE_LIMIT\": \"2000000\"\n",
    "}</code></p>"
   ]
  }
 ],
 "metadata": {
  "language_info": {
   "name": "python"
  }
 },
 "nbformat": 4,
 "nbformat_minor": 5
}
