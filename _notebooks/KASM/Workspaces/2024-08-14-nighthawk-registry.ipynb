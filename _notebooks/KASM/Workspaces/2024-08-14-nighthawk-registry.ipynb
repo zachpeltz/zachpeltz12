{
 "cells": [
  {
   "cell_type": "raw",
   "metadata": {
    "vscode": {
     "languageId": "raw"
    }
   },
   "source": [
    "---\n",
    "layout: post\n",
    "title: Nighthawk Registry Guide\n",
    "permalink: /kasm/workspaces/registry\n",
    "menu: nav/kasm_cloud.html\n",
    "categories: [Kasm]\n",
    "author: Torin Wolff\n",
    "toc: true\n",
    "comments: true\n",
    "---"
   ]
  },
  {
   "cell_type": "markdown",
   "metadata": {},
   "source": [
    "## Nighthawk Registry Description\n",
    "\n",
    "The registry works with DockerHub has an instance of the developed containers for Kasm Workspaces. The items on the registry can be referenced by Kasm through its Workspace Registry management tool.\n",
    "\n",
    "- `Nighthawk Coders Published Registry:` [kasm_registry GitHub Pages](https://nighthawkcoders.github.io/kasm_registry/1.0/)\n",
    "\n",
    "- `NightHawd Coder GitHub location`: [kasm_registry files](https://github.com/nighthawkcoders/kasm_registry)\n",
    "\n"
   ]
  },
  {
   "cell_type": "markdown",
   "metadata": {},
   "source": [
    "## Reistry Schema\n",
    "\n",
    "The registry contains a schema as show below and a PNG.  In the Workspace SDLC, a developer will come to the point where they want to publish to the registry. \n",
    "\n",
    "The requirements include ...\n",
    "- `friendly_name`  The name visible to the Users on the Kasm.\n",
    "- `compatibility` The Kasm versions that will read your registry.\n",
    "- `cores, cpus` The resource allocations you require from the Kasm system.\n",
    "- `docker_registry, name` References to [dockerhub](hhttps://hub.docker.com/repository/docker/nighthawkcoders/pusd-student-ubuntu/general)\n",
    "\n",
    "```json\n",
    "{\n",
    "  \"friendly_name\": \"Ubuntu 22.04 Student Edition\",\n",
    "  \"image_src\": \"nighthawkcoders-stu-edition.png\",\n",
    "  \"description\": \"This Dockerfile creates a Docker image based on Ubuntu, with Google Chrome and Visual Studio Code pre-installed. It's designed to provide students with a consistent, ready-to-use development environment on any device.\",\n",
    "  \"name\": \"nighthawkcoders/pusd-student-ubuntu:1.14.0-rolling\",\n",
    "  \"cores\": 2,\n",
    "  \"memory\": 2768,\n",
    "  \"gpu_count\": 0,\n",
    "  \"cpu_allocation_method\": \"Inherit\",\n",
    "  \"docker_registry\": \"https://index.docker.io/v1.1/\",\n",
    "  \"categories\": [\n",
    "    \"Desktop\",\n",
    "    \"Development\"\n",
    "  ],\n",
    "  \"require_gpu\": false,\n",
    "  \"enabled\": true,\n",
    "  \"image_type\": \"Container\",\n",
    "  \"run_config\": {\n",
    "    \"hostname\": \"kasm\"\n",
    "  },\n",
    "  \"architecture\": [\n",
    "    \"amd64\"\n",
    "  ],\n",
    "  \"compatibility\": [\n",
    "    \"1.14.x\",\n",
    "    \"1.15.x\"\n",
    "  ],\n",
    "  \"uncompressed_size_mb\": 4200\n",
    "}\n",
    "```"
   ]
  }
 ],
 "metadata": {
  "language_info": {
   "name": "python"
  }
 },
 "nbformat": 4,
 "nbformat_minor": 2
}
