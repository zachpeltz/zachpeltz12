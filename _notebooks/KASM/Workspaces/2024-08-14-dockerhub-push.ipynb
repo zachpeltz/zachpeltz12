{
 "cells": [
  {
   "cell_type": "raw",
   "metadata": {
    "vscode": {
     "languageId": "raw"
    }
   },
   "source": [
    "---\n",
    "layout: post\n",
    "title: Kasm DockerHub Push \n",
    "permalink: /kasm/workspaces/dockerhub\n",
    "menu: nav/kasm_cloud.html\n",
    "categories: [Kasm]\n",
    "author: Torin Wolff\n",
    "toc: true\n",
    "comments: true\n",
    "---"
   ]
  },
  {
   "cell_type": "markdown",
   "metadata": {},
   "source": [
    "## DockerHub Versions \n",
    "\n",
    "DockerHub contains an instance of each Nighthawk Coders custom Kasm workspace.  \n",
    "\n",
    "Workspace History. To date there have been updates starting with Focal for development, transitioning to Jammy for class of 2024, and now plans to support Noble in the class of 2025 time frame as Kasm will support Noble Sep 1, 2024.\n",
    "\n",
    "- `NightHawk DockerHub for Jammy`: [nighthawkcoders/pusd-student-ubuntu](https://hub.docker.com/repository/docker/nighthawkcoders/pusd-student-ubuntu/general)\n"
   ]
  },
  {
   "cell_type": "markdown",
   "metadata": {},
   "source": [
    "### DockerHub Conventions \n",
    "\n",
    "Describe ...."
   ]
  }
 ],
 "metadata": {
  "language_info": {
   "name": "python"
  }
 },
 "nbformat": 4,
 "nbformat_minor": 2
}
