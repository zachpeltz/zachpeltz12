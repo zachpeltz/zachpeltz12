{
 "cells": [
  {
   "cell_type": "raw",
   "id": "49f4acfd",
   "metadata": {
    "vscode": {
     "languageId": "raw"
    }
   },
   "source": [
    "---\n",
    "layout: post\n",
    "title: S3 Persistent Storage\n",
    "description: How to configure Kasm to Store Persistent Data on S3\n",
    "type: ccc\n",
    "categories: [Kasm]\n",
    "menu: nav/kasm_cloud.html\n",
    "toc: true\n",
    "comments: true\n",
    "permalink: /kasm/multiserver/persistent\n",
    "author: Rachit Jaiswal\n",
    "---"
   ]
  },
  {
   "cell_type": "markdown",
   "id": "5f9faad8",
   "metadata": {},
   "source": [
    "<p>Guide on how to configure S3 for persistent storage configuration.</p>"
   ]
  },
  {
   "cell_type": "markdown",
   "id": "f53fd954",
   "metadata": {},
   "source": [
    "<h2>Step 1: Create a bucket</h2>"
   ]
  },
  {
   "cell_type": "markdown",
   "id": "6f35d2f7",
   "metadata": {},
   "source": [
    "<p>Go to AWS S3 and create a bucket.</p>"
   ]
  },
  {
   "cell_type": "markdown",
   "id": "ff335a99",
   "metadata": {},
   "source": [
    "<h2>Step 2: Define AWS access and secret keys</h2>"
   ]
  },
  {
   "cell_type": "markdown",
   "id": "dc198cf7",
   "metadata": {},
   "source": [
    "<p>The administrator needs to define the AWS Access Key ID and Access Secret in the Server Settings of Kasm.</p>"
   ]
  },
  {
   "cell_type": "markdown",
   "id": "37ba9632",
   "metadata": {},
   "source": [
    "<h2>Step 3: Configure the persistent profile path in the workspace image</h2>"
   ]
  },
  {
   "cell_type": "markdown",
   "id": "87758d05",
   "metadata": {},
   "source": [
    "<p>See Persistent Profile guide, just change the path to something like this:</p>"
   ]
  },
  {
   "cell_type": "code",
   "execution_count": null,
   "id": "7741dbe7",
   "metadata": {},
   "outputs": [],
   "source": [
    "s3://kasm-profile.s3.amazonaws.com/ubuntu_22_04/{username}/"
   ]
  },
  {
   "cell_type": "markdown",
   "id": "ba8aa516",
   "metadata": {},
   "source": [
    "<p>This will store the profile in the S3 bucket.</p>"
   ]
  },
  {
   "cell_type": "markdown",
   "id": "5a9e9da7",
   "metadata": {},
   "source": [
    "<h2>Step 4: Make sure to change the bucket policy</h2>"
   ]
  },
  {
   "cell_type": "code",
   "execution_count": null,
   "id": "fffa2308",
   "metadata": {},
   "outputs": [],
   "source": [
    "json\n",
    "{\n",
    "    \"Version\": \"2012-10-17\",\n",
    "    \"Statement\": [\n",
    "        {\n",
    "            \"Sid\": \"PolicyForAllowKasmS3UserReadWrite\",\n",
    "            \"Effect\": \"Allow\",\n",
    "            \"Principal\": {\n",
    "                \"AWS\": \"arn:aws:iam::<some arn number>:user/jm1021\"\n",
    "            },\n",
    "            \"Action\": [\n",
    "                \"s3:GetObject\",\n",
    "                \"s3:PutObject\",\n",
    "                \"s3:DeleteObject\"\n",
    "            ],\n",
    "            \"Resource\": \"arn:aws:s3:::kasm-profile/*\"\n",
    "        },\n",
    "        {\n",
    "            \"Sid\": \"PolicyForAllowKasmS3UserListLocate\",\n",
    "            \"Effect\": \"Allow\",\n",
    "            \"Principal\": {\n",
    "                \"AWS\": \"arn:aws:iam::<some arn number>:user/jm1021\"\n",
    "            },\n",
    "            \"Action\": [\n",
    "                \"s3:ListBucket\",\n",
    "                \"s3:GetBucketLocation\"\n",
    "            ],\n",
    "            \"Resource\": \"arn:aws:s3:::kasm-profile\"\n",
    "        }\n",
    "    ]\n",
    "}"
   ]
  }
 ],
 "metadata": {
  "language_info": {
   "name": "python"
  }
 },
 "nbformat": 4,
 "nbformat_minor": 5
}
