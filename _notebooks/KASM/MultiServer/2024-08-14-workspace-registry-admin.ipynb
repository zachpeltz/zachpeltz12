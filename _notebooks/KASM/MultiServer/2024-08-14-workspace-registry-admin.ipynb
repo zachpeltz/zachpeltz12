{
 "cells": [
  {
   "cell_type": "raw",
   "id": "49f4acfd",
   "metadata": {
    "vscode": {
     "languageId": "raw"
    }
   },
   "source": [
    "---\n",
    "layout: post\n",
    "title: Multi-Server Workspace Registry \n",
    "description: How to configure the Kasm Muti-Server Workspaces \n",
    "categories: [Kasm]\n",
    "menu: nav/kasm_cloud.html\n",
    "toc: true\n",
    "comments: true\n",
    "permalink: /kasm/multiserver/workspace-registry\n",
    "author: Rachit Jaiswal\n",
    "---"
   ]
  },
  {
   "cell_type": "markdown",
   "id": "8173a79f",
   "metadata": {},
   "source": [
    "## Workspace Registry Administration\n",
    "Manual configuration is required to activite Workspaces that are published from the Nighthawk Registry.\n",
    "\n",
    "### Workspace Server Configs\n",
    "Each time you perform a Terraform deployment you should make these adjustments to the server.\n",
    "\n",
    "- CPU and Memory override.   As admin.kasm.local user goes to `Compute` / Docker Agents on the left panel. Go to triple dots (...) on the far right of listed Docker Agent override values as follows:\n",
    "\n",
    "```\n",
    "# Values have been increased according to use case expectations\n",
    "\n",
    "CPU Cores: 2  ---> CPU Cores Override: 6\n",
    "Memory: 4110970880 ---> Memory Override: 12123456789\n",
    "```\n",
    "\n",
    "- Proxy Port adjustment.  As admin.kasm.local user goes to `Zones` on the left panel.  Go to triple dots (...) on the far right of the listed Zone set the value as follows:\n",
    "\n",
    "```\n",
    "# Nginx reverse proxy eliminates need for this setting\n",
    "\n",
    "Proxy Port: 8443 ---> Proxy Port: 0\n",
    "```\n",
    "\n",
    "### Workspaces Configs\n",
    "Each time you set up a server you need to consider configuring these items.\n",
    "\n",
    "- Workspace Registry Add.  As admin.kasm.local user go to `Workspaces` on left panel and select `Workspace Registry`.  First, get link by following link and clicking [Workspace Registry Link](https://nighthawkcoders.github.io/kasm_registry/).  Add the copied link to the `Add New`.  The \"Del Norte HS Computer Science\" registry should appear, select small icons in box to filter.\n",
    "- Install Workspace.  Click in the box of the desired and pick Install to add the workspace to the server's workspace.  This can take a while \"10 minutes\".  After installation, you need to make the following adjustments to the installed workspace.   For each workspace, admin.kasm.local user goes to `Workspaces` on the left panel and observes the catalog of installed workspace(s).  Go to triple dots (...) on the far right of the listed Workspace and set the value as follows:\n",
    "```\n",
    "# Persistent Home Directory (Kasm recommend different setting per workspace, here we use coders)\n",
    "\n",
    "Persistent Profile Path:  /mnt/kasm_profiles/coders/{username}\n",
    "\n",
    "# Setup Sudo and more.  This will require adding of File Mapping at bottom of page\n",
    "\n",
    "Name: kasm_post_run_root.sh\n",
    "Description: Install root updates\n",
    "Destination Path: /dockerstartup/kasm_post_run_root.sh\n",
    "Executable: Slide to True\n",
    "\n",
    "Large box for Jammy:\n",
    "set -ex\n",
    "echo \"kasm-user  ALL=(ALL) NOPASSWD: ALL\" >> /etc/sudoers\n",
    "```"
   ]
  }
 ],
 "metadata": {
  "language_info": {
   "name": "python"
  }
 },
 "nbformat": 4,
 "nbformat_minor": 5
}
