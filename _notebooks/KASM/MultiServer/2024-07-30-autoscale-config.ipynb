{
 "cells": [
  {
   "cell_type": "raw",
   "id": "b86cbda8",
   "metadata": {
    "vscode": {
     "languageId": "raw"
    }
   },
   "source": [
    "---\n",
    "layout: post\n",
    "title: Autoscale Configuration Guide \n",
    "description: How to configure Kasm to automatically scale agents\n",
    "type: ccc\n",
    "categories: [Kasm]\n",
    "menu: nav/kasm_cloud.html\n",
    "toc: true\n",
    "comments: true\n",
    "permalink: /kasm/multiserver/autoscale\n",
    "author: Rachit Jaiswal\n",
    "---"
   ]
  },
  {
   "cell_type": "markdown",
   "id": "aa775b30",
   "metadata": {},
   "source": [
    "## Step 1: Licensing the Kasm Workspaces Installation\n",
    "\n",
    "A key is required to activate Kasm Enterprise Concurrent features. Keys will be updated based on evaluation and licensing periods. The keys are time-based and will expire on the due date. Become familiar with Kasm Enterprise Concurrent licensing on [Kasm Licensing](https://www.kasmweb.com/docs/latest/license.html).\n",
    "\n",
    "- Enterprise allows autoscaling configuration.  The ability to automatically provision and destroy Servers and Docker Agents based on user demand.\n",
    "- Concurrent refers to the number of user sessions that can run at one time."
   ]
  },
  {
   "cell_type": "markdown",
   "id": "ffdd89ff",
   "metadata": {},
   "source": [
    "### Edit License Key\n",
    "Go to the administration menu to add a license: <code>Diagnostics &gt; System Info &gt; Licenses</code>.\n",
    "\n",
    "Use the \"Add License\" button and enter the key you obtained from Kasm."
   ]
  },
  {
   "cell_type": "markdown",
   "id": "dd6c6c3b",
   "metadata": {},
   "source": [
    "## Step 2: Update Deployment Zone\n",
    "\n",
    "Deployment Zones are created to enable the logical grouping of Kasm services, i.e., workspaces. Go to [Kasm Deployment Zones](https://www.kasmweb.com/docs/latest/guide/zones/deployment_zones.html) to become familiar with their purpose and functionality.\n",
    "\n",
    "### Restricting Workspaces to Certain Users\n",
    "\n",
    "By default, all users are placed in a single zone (zone1 based on our installation).\n",
    "\n",
    "For the Poway district, we want specialized network enclaves where only certain Workspaces and certain Users are allowed access.\n",
    "- Restrict certain [Workspaces](https://www.kasmweb.com/docs/latest/glossary.html#term-Workspace) to only provision on Agents within a given Deployment Zone.\n",
    "- See [Add/Edit Kasm Workspace](https://www.kasmweb.com/docs/latest/guide/workspaces.html#add-edit-workspaces) for more details."
   ]
  },
  {
   "cell_type": "markdown",
   "id": "c95b7085",
   "metadata": {},
   "source": [
    "### Edit Deployment Zone\n",
    "\n",
    "Go to the admin menu: <code>Infrastructure &gt; Zones</code>. Locate the zone(s) and select edit with the pencil icon. Review our specific requirements below:"
   ]
  },
  {
   "cell_type": "markdown",
   "id": "942868d8",
   "metadata": {},
   "source": [
    "| Field                 | Description                                      |\n",
    "|-----------------------|--------------------------------------------------|\n",
    "| Zone Name             | Name of the zone (e.g., zone1)                   |\n",
    "| Allow Origin Domain   | Kasm domain (e.g., kasm.nighthawkcodingsociety.com) |\n",
    "| Upstream Auth Address | The Kasm-web \"Private IPv4 address\" from AWS     |\n",
    "| Others                | Leave as default                                 |"
   ]
  },
  {
   "cell_type": "markdown",
   "id": "74133214",
   "metadata": {},
   "source": [
    "## Step 3: Create Pool\n",
    "\n",
    "Pools are used in Kasm configuration to manage Docker Agents. Users will see a single Workspace icon on their dashboard, but their session will be distributed to an available server in the pool. Go to [Kasm Pools](https://www.kasmweb.com/docs/latest/guide/compute/pools.html) to become familiar with their purpose and functionality.\n",
    "\n",
    "Inside a pool, there are items that are managed within the pool:\n",
    "- `VM Provider Config`: The virtual machine vendor used to support servers in the pool.\n",
    "- `Autoscale Configs`: The rules for creating new servers to support users entering the pool.\n",
    "\n",
    "`Alert`.  It is best review these configs in a working `Pool` setup, compare and edit in new `Pool` as you work through each configuration item."
   ]
  },
  {
   "cell_type": "markdown",
   "id": "893847c4",
   "metadata": {},
   "source": [
    "### Edit Pool\n",
    "\n",
    "Go to <code>Infrastructure &gt; Pools</code>.\n",
    "\n",
    "Use the \"Add\" button and enter the details.\n",
    "\n",
    "| Field            | Description                        |\n",
    "|------------------|------------------------------------|\n",
    "| Name             | Name of the pool (e.g., autoscaler)|\n",
    "| Type             | Docker Agent                       |"
   ]
  },
  {
   "cell_type": "markdown",
   "id": "568fce09",
   "metadata": {},
   "source": [
    "### Step 3.1: Create VM Provider Config\n",
    "\n",
    "This configuration manages important AWS details like Region, AMI, and startup Scripts. "
   ]
  },
  {
   "cell_type": "markdown",
   "id": "72f4200b",
   "metadata": {},
   "source": [
    "Go to <code>Infrastructure &gt; Pools</code>. Click on the button that says <code>All VM Provider Configs</code>."
   ]
  },
  {
   "cell_type": "markdown",
   "id": "f519969d",
   "metadata": {},
   "source": [
    "Use the \"Add\" button for new configuration.  Or select pencil icon to edit existing configuration.\n"
   ]
  },
  {
   "cell_type": "markdown",
   "id": "9a32401d",
   "metadata": {},
   "source": [
    "| Field                                 | Description                                                                                     | Recommended Value                                             |\n",
    "|---------------------------------------|-------------------------------------------------------------------------------------------------|---------------------------------------------------------------|\n",
    "| VM Provider Configs                   | If you want to create a new config or edit one                                                  | Create new (unless you are editing)                           |\n",
    "| Provider                              | Which cloud provider you are using                                                              | AWS                                                           |\n",
    "| Name                                  | Choose preferred name of hosting config                                                         | N/A                                                           |\n",
    "| AWS Access Key ID                     | Get this by running the command <code>cat ~/.aws/credentials</code> or something similar        | Output                                                        |\n",
    "| AWS Secret Access Key                 | Get this by running the command <code>cat ~/.aws/credentials</code> or something similar        | Output                                                        |\n",
    "| AWS Region                            | Region where Kasm is running on AWS where it will build servers                                 | us-west-#                                                     |\n",
    "| AWS: EC2 AMI Id                       | AMI ID for instances. Cannot use ubu24 as it is not supported yet.                              | ami-0075013580f6322a1 (ubu22)                                 |\n",
    "| AWS: EC2 Instance Type                | Type of instance for AWS                                                                        | t3.medium / c6a.8xlarge                                       |\n",
    "| AWS Max EC2 Nodes                     | Depends on instance...                                                                          | 15                                                            |\n",
    "| AWS: EC2 Security Group IDs           | ID of the security group that Kasm runs on                                                      | [\"sg-idhere\"]                                                 |\n",
    "| AWS: EC2 Subnet ID                    | ID of the subnet the web server is running on. Can be found in the description of the instance. | subnet-idhere                                                 |\n",
    "| AWS: EC2 EBS Volume Size              | Size of EC2 instance volume                                                                     | 50                                                            |\n",
    "| AWS: EC2 EBS Volume Type              | Type of EC2 volume                                                                              | gp2 / gp3                                                     |\n",
    "| AWS: EC2 Custom Tags                  | Custom EC2 tags                                                                                 | {}                                                            |\n",
    "| AWS: EC2 Startup Script               | Script to set up Kasm                                                                           | Shown Below \"Adapted EC2 Startup Script\" |\n",
    "| AWS Config Override                   | AWS configuration override parameters                                                           | {\"instance_config\": {}}                                       |\n",
    "| Retrieve Windows VM Password from AWS | N/A since we don't use Windows                                                                  | Disabled                                                      |\n",
    "| SSH Keys                              | SSH keys you want to use to access the VM                                                       | Use the deployer keys stated for the machine, but can use any |"
   ]
  },
  {
   "cell_type": "markdown",
   "id": "4902a9db",
   "metadata": {},
   "source": [
    "#### Adapted EC2 Startup Script\n",
    "\n",
    "Obtain the [Kasm EC2 Startup Script](https://github.com/kasmtech/workspaces-autoscale-startup-scripts/blob/develop/1.15.0/docker_agents/ubuntu.sh)\n",
    "\n",
    "The AWS Internal IP did not work in script as obtained from Kasm Web Site did not work.  It was switched to obtain the `IP` using the more conventional `hostname -I`.  This is simply done by commenting out the `AWS Internal IP` line and using `OCI Internal IP`."
   ]
  },
  {
   "cell_type": "markdown",
   "id": "d6ad41e9",
   "metadata": {},
   "source": [
    "Comment out AWS `IP` assignment lines\n",
    "\n",
    "```sh\n",
    "#AWS Internal IP\n",
    "#IP=(`curl -s http://169.254.169.254/latest/meta-data/local-ipv4`)\n",
    "\n",
    "#AWS Public IP\n",
    "#IP=(`curl -s http://169.254.169.254/latest/meta-data/public-ipv4`)\n",
    "```\n",
    "\n",
    "Activate `IP` assignment from OCI Internal IP.  BTW, this is more common way to obtain an IP\n",
    "\n",
    "```sh\n",
    "# OCI Internal IP\n",
    "IP=(`hostname -I | cut -d  ' ' -f1 |  tr -d '\\\\n'`)\n",
    "```"
   ]
  },
  {
   "cell_type": "markdown",
   "id": "9c1e8637",
   "metadata": {},
   "source": [
    "### Step 3.2: Create Autoscale Config"
   ]
  },
  {
   "cell_type": "markdown",
   "id": "ee071047",
   "metadata": {},
   "source": [
    "<p>Go back to <code>Infrastructure &gt; Pools</code>. Click the button that says <code>All Autoscale Configs</code>. It will be there if the license is accepted.</p>"
   ]
  },
  {
   "cell_type": "markdown",
   "id": "ee94b661",
   "metadata": {},
   "source": [
    "<p>Add an autoscale config. Use the Parameters Below:</p>"
   ]
  },
  {
   "cell_type": "markdown",
   "id": "3db730cc",
   "metadata": {},
   "source": [
    "#### Page 1: Autoscale Details\n",
    "\n",
    "This configuration manages details and rules to create a new server.  There page contains rule for when to autscale, for example the need for a certain amount of cores and memory required for standby. It also has a standby time when to stop the server."
   ]
  },
  {
   "cell_type": "markdown",
   "id": "be1c5222",
   "metadata": {},
   "source": [
    "| Field                 | Description                                                                                                               | Recommended Values |\n",
    "|-----------------------|---------------------------------------------------------------------------------------------------------------------------|--------------------|\n",
    "| Name                  | Put in the autoscale config name                                                                                          | N/A                |\n",
    "| Autoscale Type        | Set to \"Docker Agent\"                                                                                                     | N/A                |\n",
    "| Pool                  | Set to created pool                                                                                                       | N/A                |\n",
    "| Enabled               | Should be activated                                                                                                       | Enabled            |\n",
    "| Aggressive Scaling    | Optional, but recommended                                                                                                 | Enabled            |\n",
    "| Deployment Zone       | Set to created zone                                                                                                       | N/A                |\n",
    "| Standby Cores<em>     | Cores available                                                                                                           | 2                  |\n",
    "| Standby GPUs</em>     | GPUs available                                                                                                            | 0                  |\n",
    "| Standby Memory*       | RAM available                                                                                                             | 5536               |\n",
    "| Downscale Backoff     | Time for instances to shut off if not being used                                                                          | 900                |\n",
    "| Agent Cores Override  | Forceful usage of agent server cores                                                                                      | 4                  |\n",
    "| Agent GPUs Override   | Forceful usage of agent server GPUs                                                                                       | 0                  |\n",
    "| Agent Memory Override | Forceful usage of agent memory (rec value tbr)                                                                            | 5536               |\n",
    "| Nginx Cert            | Go to  <code>/opt/kasm/current/certs/</code>  on the web server, and pull the nginx cert, that begins with \"Begin Nginx Certificate\" | N/A                |\n",
    "| Nginx Key             | Go to  <code>/opt/kasm/current/certs/</code>  on the web server, and pull the nginx cert, that begins with \"Begin Nginx Certificate\" | N/A                |\n",
    "| Register DNS          | Google it                                                                                                                 | Disabled           |"
   ]
  },
  {
   "cell_type": "markdown",
   "id": "a355cb52",
   "metadata": {},
   "source": [
    "#### Paged 2: VM Provider Configs\n",
    "\n",
    "This page cycles to the VM Provider Config discussed in previous section."
   ]
  },
  {
   "cell_type": "markdown",
   "id": "dddd7bfe",
   "metadata": {},
   "source": [
    "## Step 4: Autoscale Testing\n",
    "\n",
    "To quickly test if your autoscaling is working use [Session Staging](https://www.kasmweb.com/docs/latest/guide/staging.html).  This bring up agents and allow you to see if configuration is running correctly.  However, this method was not recommended for scheduling pre-provion of containers by Kasm support.\n",
    "\n",
    "### Session Stagging Workflow\n",
    "\n",
    "Use this workflow to test configurations after changes to development.\n",
    "\n",
    "1. Add a Session Stagging configuration. Activates testing of Agents.\n",
    "2. Go to <code>Infrastructure &gt; Docker/Agents</code>.\n",
    "  - Observe starting of Agents\n",
    "  - See that Agents go from Null IP address to a AWS Private IP address.\n",
    "  - See that you reach desired sessions, this will take some math.\n",
    "3. Delete Session Stagging configuration. Agents should retire based off of Downscale Backoff\n"
   ]
  },
  {
   "cell_type": "markdown",
   "id": "90e8a565",
   "metadata": {},
   "source": [
    "Go to <code>Sessions &gt; Staging</code>. Add a new staging config. Choose the workspace, zone, desired sessions, expiration, and the pool and autoscale config you just made. Allow all permissions except printing. A sample config is shown below."
   ]
  },
  {
   "cell_type": "markdown",
   "id": "366aa848",
   "metadata": {},
   "source": [
    "| Field                | Sample Input                 |\n",
    "|----------------------|------------------------------|\n",
    "| Workspace            | Ubuntu 22.04 Student Edition |\n",
    "| Zone                 | zone1                        |\n",
    "| Desired Sessions     | 25                           |\n",
    "| Expiration           | 1                            |\n",
    "| Pool                 | autoscaler                   |\n",
    "| AutoScale Config     | autoscaler-main              |\n",
    "| Allow Audio - Webcam | Enabled                      |\n",
    "| Allow Printing       | Disabled                     |"
   ]
  }
 ],
 "metadata": {
  "language_info": {
   "name": "python"
  }
 },
 "nbformat": 4,
 "nbformat_minor": 5
}
