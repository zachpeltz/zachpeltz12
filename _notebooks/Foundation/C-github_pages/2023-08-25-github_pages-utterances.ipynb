{
 "cells": [
  {
   "cell_type": "raw",
   "metadata": {
    "vscode": {
     "languageId": "raw"
    }
   },
   "source": [
    "---\n",
    "layout: post\n",
    "title: Setting up utterances\n",
    "description: Learn how to set up utterances for your blog. Utterances is a tool that allows you to have comments on your blog posts.\n",
    "categories: [DevOps, Github Pages]\n",
    "permalink: /github/pages/utterances\n",
    "author: Trevor Huang\n",
    "menu: nav/github_pages.html\n",
    "toc: true\n",
    "comments: true\n",
    "---"
   ]
  },
  {
   "cell_type": "markdown",
   "metadata": {},
   "source": [
    "## What is utterances?\n",
    "> Utterances is a comments widget built on Github which allows you to comment on blog posts using Github Pages\n",
    "- When you comment on a blog post, utterances will create a GitHub issue in the designated repository to store the comments\n",
    "- You need to authenticate with your Github account as this prevents spam\n",
    "- If you scroll down to the bottom of a page, you can see if utterances are there or not\n",
    "- If you cloned one of nighthawkcoders repositories, utterances.html will be within your blog's _includes folder"
   ]
  },
  {
   "cell_type": "markdown",
   "metadata": {},
   "source": [
    "## How to install\n",
    "- Visit this page [Utterances](https://github.com/apps/utterances) and press the button that says \"install\"\n",
    "- Select the option which applies utterances to all of your repositories\n",
    "- You can check if it was installed correctly by going to your repository\n",
    "    - Repository --> Settings --> Github apps (this is under integrations)\n",
    "    - You should see utterances under installed Github apps\n"
   ]
  },
  {
   "cell_type": "markdown",
   "metadata": {
    "vscode": {
     "languageId": "raw"
    }
   },
   "source": [
    "## How to use\n",
    "- If Github pages was set up correctly, then posts/ipynb files using **hacks** and **tangibles** should have utterances enabled\n",
    "- If the category is not a hack or tangible, OR utterances is not working for whatever reason, then use the script below to enable utterances on the post"
   ]
  },
  {
   "cell_type": "code",
   "execution_count": null,
   "metadata": {
    "vscode": {
     "languageId": "html"
    }
   },
   "outputs": [],
   "source": [
    "<!-- Use this script to add comments to your blog posts manually\n",
    "<script src=\"https://utteranc.es/client.js\"\n",
    "        repo=\"{{ site.github_username }}/{{ site.github_repo | default: site.baseurl | remove: \"/\" }}\"\n",
    "        issue-term=\"title\"\n",
    "        label=\"blogpost-comment\"\n",
    "        theme=\"github-light\"\n",
    "        crossorigin=\"anonymous\"\n",
    "        async>\n",
    "</script>\n",
    "-->"
   ]
  },
  {
   "cell_type": "markdown",
   "metadata": {},
   "source": [
    "## Troubleshooting/Common Mistakes\n",
    "- Make sure that the category is a hack or a tangible. **Utterances will not automatically work on plans**\n",
    "    - Use the script above if you want comments on posts such as plans\n",
    "- Check if Github Pages is working\n",
    "    - Go to your repository on Github. Settings -> Pages -> Change deploy from branch to Github Actions\n",
    "        - If this wasn't done, the website wouldn't exist and utterances would only work on localhost"
   ]
  }
 ],
 "metadata": {
  "kernelspec": {
   "display_name": "Python 3",
   "language": "python",
   "name": "python3"
  },
  "language_info": {
   "codemirror_mode": {
    "name": "ipython",
    "version": 3
   },
   "file_extension": ".py",
   "mimetype": "text/x-python",
   "name": "python",
   "nbconvert_exporter": "python",
   "pygments_lexer": "ipython3",
   "version": "3.10.12"
  }
 },
 "nbformat": 4,
 "nbformat_minor": 2
}
