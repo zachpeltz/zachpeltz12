{
 "cells": [
  {
   "attachments": {},
   "cell_type": "raw",
   "metadata": {
    "vscode": {
     "languageId": "raw"
    }
   },
   "source": [
    "---\n",
    "layout: post\n",
    "title: Anatomy of GitHub Pages\n",
    "description: Learn the Files and development work flow of GitHub Pages.  This includes working with you home page, theme, markdown, and more. \n",
    "categories: [GitHub Pages]\n",
    "permalink: /github/pages/anatomy\n",
    "menu: nav/github_pages.html\n",
    "toc: true\n",
    "comments: true\n",
    "---"
   ]
  },
  {
   "attachments": {},
   "cell_type": "markdown",
   "metadata": {},
   "source": [
    "## Anatomy of GitHub Pages files\n",
    "> Discuss how to develop a home page, code, run local server test, and then sync to deploy to GitHub Pages.\n",
    "- Review tools setup and make in README.md to support this lesson.  "
   ]
  },
  {
   "attachments": {},
   "cell_type": "markdown",
   "metadata": {},
   "source": [
    "## Files and Directories in this Project\n",
    "> Here are some defintion to key files and directories in this project\n",
    "\n",
    "- `README.md`: This file contains instructions and background information about the project. It is a standard file present in all properly set up GitHub projects.\n",
    "\n",
    "- `index.md`: This is the source file for the home page of the project. It is a standard file for all GitHub Pages projects. Note that Markdown (.md) files are converted to HTML by the Jekyll build process. HTML files are the only file type that is rendered on a website.\n",
    "\n",
    "- `_notebooks`: This directory contains Jupyter Notebook (.ipynb) files. These files are converted to Markdown (.md) files by the Makefile rules in the build process. The Markdown files are then converted to HTML by the Jekyll build process.\n",
    "\n",
    "- `_posts`: This directory contains Markdown (.md) files that will be part of the website. These files are formatted similarly to index.md and include frontmatter (metadata coded in YAML) and Markdown, HTML, JavaScript, and CSS source code. You will also find Liquid code in these files, which is used to generate Markdown, HTML, JavaScript, and CSS.\n",
    "\n",
    "- `_data`: This directory is the standard location for storing data files that support the _posts or _notebooks directories.\n",
    "\n",
    "- `images`: This directory is the standard location for storing image files (JPEG, PNG, etc.) that support the _posts or _notebooks directories.\n",
    "\n",
    "- `_config.yml`: This file contains YAML definitions (key-value properties) used to build the Jekyll website.\n",
    "\n",
    "- `.gitignore`: This file specifies elements to be excluded from version control. Files are excluded when they are derived from the original source and not considered part of the project's source code. In the VSCode Explorer, you may notice some files appearing dimmed, indicating that they are purposely excluded by the rules in .gitignore.\n",
    "\n",
    "- `layouts`: This directory contains HTML files used by Jekyll to generate the structure of the website, including blogs, schedules, and home pages. Each post or notebook specifies a layout in its frontmatter, which determines how the content is presented.\n",
    "\n",
    "- `scripts`: This directory contains scripts such as `convert_notebooks.py`, which converts Jupyter Notebook (.ipynb) files into Markdown (.md) files. These scripts automate parts of the build process, ensuring that content is properly formatted for the website.\n",
    "\n",
    "Please note that there are many other key files and directories in a GitHub Pages project, but we will highlight those as the development progresses.\n"
   ]
  },
  {
   "cell_type": "markdown",
   "metadata": {
    "vscode": {
     "languageId": "ruby"
    }
   },
   "source": [
    "### Configuration Notes, behind the scenses\n",
    "The `_config.yml` file is the configuration file for Jekyll. It is a YAML file that defines the configuration of the site. The configuration file can be used to set site-wide variables, and can be used to set variables for specific environments (development, production, etc).\n",
    "\n",
    "Often in code we use the `site.baseurl` to indentfy the path to files.  GitHub actions uses this location in its build to identify the name of the project.  Be sure the values of these keys match your GitHub Repo.\n",
    "\n",
    "```yml\n",
    "github_repo: \"portfolio_2025\" \n",
    "baseurl: \"/portfolio_2025\"\n",
    "```\n",
    "\n",
    "Many remote theme files are commented out, you can only have one at a time.  The Teacher is in favor of using the `minima` theme. To change these themes it could require many other changes to make it effective.  Themes and related CSS changes are below, but they are not complete.  IMO, you would need to disable minima or reorganize a lot of files.\n",
    "\n",
    "```yml\n",
    "# theme requirements\n",
    "remote_theme: pages-themes/midnight@v0.2.0\n",
    "# remote_theme: pages-themes/dinky@v0.2.0\n",
    "# remote_theme: pages-themes/minimal@v0.2.0\n",
    "# remote_theme: pages-themes/hacker@v0.2.0\n",
    "# remote_theme: pages-themes/cayman@v0.2.0\n",
    "# remote_theme: pages-themes/time-machine@v0.2.0\n",
    "```\n",
    "\n",
    "Under _includes/theme you will see directories that correspond to your selection.  In each of these directories there is a base.html.   This is the foundation for the page:  head, body, footer.  When you select a layout in the frontmatter of your pages, it ultimately includes the base.html from one of these directories.   To understand how a web page is formed, these are excellent studies."
   ]
  },
  {
   "attachments": {},
   "cell_type": "markdown",
   "metadata": {},
   "source": [
    "## Customizations.\n",
    "> Each student should perform customization to their project.  This is an opportunity to learn a few concepts from 'teacher' repository and then customize your own page to your personal interests.  "
   ]
  },
  {
   "cell_type": "markdown",
   "metadata": {},
   "source": [
    "### Customize a Page\n",
    "The home page to  other pages is a common first step in building a project.  To start you will need to form your `index.md` in your project, which behind the scenes is generated into an `index.html` by the GitHub Pages build process. "
   ]
  },
  {
   "cell_type": "markdown",
   "metadata": {},
   "source": [
    "### Change Title\n",
    " Every page should have a `title`.  Here is frontmatter sample.  This uses the _layouts/page.html that reads the frontmatter title and places it at the top page.  \n",
    "\n",
    "```yml\n",
    "---\n",
    "layout: page\n",
    "title: My Title\n",
    "---\n",
    "```\n",
    "\n",
    "If you look at the page layout you will see it includes base, or base.html according to the selected theme.  This nesting is foundation of how GitHub Pages and Jekyll work.\n",
    "\n",
    "Look at some of the layouts that form schedule, search, blogs, and each post.  Between this structure and Jekyll you can automate almost any reconfiguration of the notebooks and posts."
   ]
  },
  {
   "attachments": {},
   "cell_type": "markdown",
   "metadata": {},
   "source": [
    "### Making a Submenu\n",
    "> There are many submenus made in `_includes/nav`.\n",
    "- ```index.md``` is the file that contains markdown for a submenu\n",
    "- ```_includes/nav/home.html``` contains code for submenu, it is included in every page in this dialog\n",
    "- ```{{site.baseurl}}``` refers to baseurl defined in _config.yml, this is the localtion of all files in WebSite.   Note, this changes as you run on localhost and deployed; make sure you remember to use this for locations of files in site.\n",
    "\n",
    "```html\n",
    "<table>\n",
    "    <tr>\n",
    "        <td><img src=\"{{site.baseurl}}//images/logo.png\" height=\"60\" title=\"Frontend\" alt=\"\"></td>\n",
    "        <td><a href=\"{{site.baseurl}}/index\">Course</a></td>\n",
    "        <td><a href=\"{{site.baseurl}}/home/table\">Table</a></td>\n",
    "        <td><a href=\"{{site.baseurl}}/home/about\">About</a></td>\n",
    "    </tr>\n",
    "</table>\n",
    "```\n",
    "\n",
    "Look how the same submenu is included on all of the pages it calls, you will notices this in the frontmatter menu key."
   ]
  },
  {
   "cell_type": "markdown",
   "metadata": {},
   "source": [
    "### Style revolves around _sass\n",
    "> In the `_sass` folder there are many theme files.   Remeber that are themes are `remote` as designated in the `_config.yml` line.  However, some files are placed in the _sass directory to make customizations.  It is best to only have files in your project that you need to customize.\n",
    "\n",
    "The  `_sass/minima` folder is a theme with many subthemes that can be changed in the `_sass/minima/custom-styles.scss` file.  In the below example `_dracula`.  You could switch to leaf, hacker, hamilton, etc.  Then you will want to decide if you want `dark-mode`.  Always include the `nighthawk/main` as it has customization to style for Nighthawk Pagees.\n",
    "\n",
    "\n",
    "```scss\n",
    "// Comment in or Uncomment out the following themes to use them \n",
    "\n",
    "// Dark themes\n",
    "//@import \"minima/leaf/_leaf\";  //Leaf theme\n",
    "//@import \"minima/hacker/jekyll-theme-hacker\"; //Hacker theme \n",
    "@import \"minima/dracula/_dracula\";\n",
    "\n",
    "// Light themes\n",
    "//@import \"minima/hamilton/main\"; //Hamilton theme\n",
    "//@import \"minima/monophase/main\"; //Monophase theme \n",
    "//@import \"minima/minimal-mistakes/__minimal-mistakes\"; //Minimal Mistakes theme \n",
    "// Mix Light themes with this if your eyes are bleeding \n",
    "@import \"minima/dracula/dark-mode\";\n",
    "\n",
    "// Styles for nighthawk theme, do not remove\n",
    "@import \"nighthawk/main\";\n",
    "```\n"
   ]
  }
 ],
 "metadata": {
  "language_info": {
   "name": "python"
  },
  "orig_nbformat": 4
 },
 "nbformat": 4,
 "nbformat_minor": 2
}
