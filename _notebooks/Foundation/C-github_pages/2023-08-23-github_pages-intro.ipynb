{
 "cells": [
  {
   "cell_type": "raw",
   "metadata": {
    "vscode": {
     "languageId": "raw"
    }
   },
   "source": [
    "---\n",
    "layout: post\n",
    "title: GitHub Pages Playground \n",
    "description: The Web Programming topics are focused on learning Frontend programming, GitHub Pages, and Jupyter Notebooks.\n",
    "categories: [Javascript]\n",
    "permalink: /github/pages/intro\n",
    "type: ccc\n",
    "courses: { csse: {week: 1}, csp: {week: 1}, csa: {week: 0} }\n",
    "author: John Mortensen\n",
    "menu: nav/github_pages.html\n",
    "---"
   ]
  },
  {
   "cell_type": "markdown",
   "metadata": {},
   "source": [
    "\n",
    "## GitHub Pages Mini Project\n",
    "Your Teacher wants you to enage in a mini project!  This project is intended to help you and your programming pair to make an information site.  The required topics for this nini project include ...\n",
    "\n",
    "- Making a submenu\n",
    "- Using the submenu headings to Guide sub topics\n",
    "- Make your own customized pages for each submenu\n",
    "- Create some data that will help you track information about your topic\n",
    "- Make some submenu pages that perform actions through JavaScript\n",
    "- Review the anatomy of GitHub pages\n",
    "  - Review and experiment with the usage of Styles in GitHub Pages\n",
    "Start the process of inspecting and debugging"
   ]
  },
  {
   "cell_type": "markdown",
   "metadata": {},
   "source": [
    "## Topics\n",
    "The topic for your mini project is up to you.\n",
    "- Perhaps you wnat to make a submenu of your favorite games and inside each article you can capture data and talk about techniques to enhance place (list discord groups, list communities you have joined, share a list of key videos to enhance success, make a list of popular mods you have added, discuss properties of avatars, etc )  \n",
    "- In fitness training you could make menus that highlight highlight topics and results by define a training regimine, track results/data on regimine, define key offline preparations (sleep, nutrition, water, calories, steps), etc\n"
   ]
  },
  {
   "cell_type": "markdown",
   "metadata": {},
   "source": [
    "### Brainstorm\n",
    "To brainstorm is often done by sharing or talking about topics with a pair.  In your project you will capture your brainstorm of your project.\n",
    "\n",
    "- Gaming Blog\n",
    "- Fitness Blog\n",
    "- Raising Fish\n",
    "- Career Humor"
   ]
  },
  {
   "cell_type": "markdown",
   "metadata": {
    "vscode": {
     "languageId": "javascript"
    }
   },
   "source": [
    "## Brainwrite \n",
    "The Teacher descited to create a mini project on Career Humor.  As a Brainwrite activity, the Teacher decided to think about careers that are possible pursuts of subjects taught at Del Norte High School.\n",
    "\n",
    "### Brainwrite Submenu\n",
    "My brainwrite took the brainstorm idea of **Career Humor** and established some categories.   \n",
    "\n",
    "1. Computer Science\n",
    "2. Accountant\n",
    "3. Jounalism\n",
    "4. Film and Media\n",
    "5. Mechanical Engineer\n",
    "6. Biomedical Engineer\n",
    "7. Astronomer\n"
   ]
  },
  {
   "cell_type": "markdown",
   "metadata": {},
   "source": [
    "### Brainwrite Data\n",
    "Beyond initial categories, my brainwrite went into the direction of authoring joke data.  Amazingly, after some initial research on Computer Science, the Teacher found that ChatGPT could help with jokes on Accountings.\n",
    "\n",
    "**Note** To observe outputs from Javascript **console.log**, open the Developer Tools\n",
    "  - In VSCode, go to **Help->Toggle Developer Tools**\n",
    "  - Click on **Console** in the newly opened Window\n",
    "  - Clear screen by pressing **Clear Console** (circle with line)\n",
    "  - Then press **Play button** to left of cell\n",
    "  - Observer random output in Console"
   ]
  },
  {
   "cell_type": "code",
   "execution_count": 1,
   "metadata": {
    "vscode": {
     "languageId": "javascript"
    }
   },
   "outputs": [
    {
     "data": {
      "application/javascript": "\nvar compsci_joke_list = [\n    { joke: \"Why do programmers prefer dark mode? Because light attracts bugs.\", complexity: \"O(1)\" },\n    { joke: \"Why do Java developers wear glasses? Because they don't see sharp.\", complexity: \"O(1)\" },\n    { joke: \"How many programmers does it take to change a light bulb? None, that's a hardware problem.\", complexity: \"O(1)\" },\n    { joke: \"Why do programmers hate nature? It has too many bugs.\", complexity: \"O(n)\" },\n    { joke: \"Why do Python programmers prefer snake_case? Because they can't C.\", complexity: \"O(1)\" },\n    { joke: \"Why was the JavaScript developer sad? Because he didn't know how to 'null' his feelings.\", complexity: \"O(1)\" },\n    { joke: \"Why do programmers always mix up Christmas and Halloween? Because Oct 31 == Dec 25.\", complexity: \"O(1)\" },\n    { joke: \"Why did the programmer quit his job? Because he didn't get arrays.\", complexity: \"O(n)\" },\n    { joke: \"Why do programmers prefer using the terminal? Because they don't like Windows.\", complexity: \"O(1)\" },\n    { joke: \"Why was the function sad after a breakup? It couldn't find its closure.\", complexity: \"O(1)\" }\n];\nvar randomIndex = Math.floor(Math.random() * compsci_joke_list.length);\nvar selectedJoke = compsci_joke_list[randomIndex];\nconsole.log(\"Joke #\" + (randomIndex + 1) + \": \" + selectedJoke.joke + \" (Complexity: \" + selectedJoke.complexity + \")\");\n",
      "text/plain": [
       "<IPython.core.display.Javascript object>"
      ]
     },
     "metadata": {},
     "output_type": "display_data"
    }
   ],
   "source": [
    "%%javascript\n",
    "\n",
    "var compsci_joke_list = [\n",
    "    { joke: \"Why do programmers prefer dark mode? Because light attracts bugs.\", complexity: \"O(1)\" },\n",
    "    { joke: \"Why do Java developers wear glasses? Because they don't see sharp.\", complexity: \"O(1)\" },\n",
    "    { joke: \"How many programmers does it take to change a light bulb? None, that's a hardware problem.\", complexity: \"O(1)\" },\n",
    "    { joke: \"Why do programmers hate nature? It has too many bugs.\", complexity: \"O(n)\" },\n",
    "    { joke: \"Why do Python programmers prefer snake_case? Because they can't C.\", complexity: \"O(1)\" },\n",
    "    { joke: \"Why was the JavaScript developer sad? Because he didn't know how to 'null' his feelings.\", complexity: \"O(1)\" },\n",
    "    { joke: \"Why do programmers always mix up Christmas and Halloween? Because Oct 31 == Dec 25.\", complexity: \"O(1)\" },\n",
    "    { joke: \"Why did the programmer quit his job? Because he didn't get arrays.\", complexity: \"O(n)\" },\n",
    "    { joke: \"Why do programmers prefer using the terminal? Because they don't like Windows.\", complexity: \"O(1)\" },\n",
    "    { joke: \"Why was the function sad after a breakup? It couldn't find its closure.\", complexity: \"O(1)\" }\n",
    "];\n",
    "var randomIndex = Math.floor(Math.random() * compsci_joke_list.length);\n",
    "var selectedJoke = compsci_joke_list[randomIndex];\n",
    "console.log(\"Joke #\" + (randomIndex + 1) + \": \" + selectedJoke.joke + \" (Complexity: \" + selectedJoke.complexity + \")\");"
   ]
  },
  {
   "cell_type": "code",
   "execution_count": 14,
   "metadata": {
    "vscode": {
     "languageId": "javascript"
    }
   },
   "outputs": [
    {
     "data": {
      "application/javascript": "\nvar accounting_joke_list = [\n    \"Why did the accountant cross the road? To bore the people on the other side.\",\n    \"What do accountants do when they're constipated? They work it out with a pencil.\",\n    \"Why don't accountants read novels? Because the only numbers in them are page numbers.\",\n    \"How does an accountant stay out of debt? He learns to act his wage.\",\n    \"Why did the accountant break up with the calculator? It couldn't handle his complex calculations.\",\n    \"Why did the accountant stare at his glass of orange juice for three hours? Because on the box it said 'concentrate'.\",\n    \"Why did the accountant bring a ladder to work? To reach the high interest rates.\",\n    \"Why did the accountant get promoted? Because he knew how to balance his work and play.\",\n    \"Why did the accountant go broke? Because he lost his balance.\",\n    \"Why did the accountant get a job at the bakery? Because he was good at making dough.\",\n    \"Why did the accountant get a job at the zoo? Because he was good with cheetahs.\",\n    \"Why did the accountant get a job at the bank? Because he was good at counting on it.\",\n    \"Why did the accountant get a job at the library? Because he was good at keeping books.\",\n    \"Why did the accountant get a job at the circus? Because he was good at juggling numbers.\",\n    \"Why did the accountant get a job at the restaurant? Because he was good at serving up the numbers.\",\n    \"Why did the accountant get a job at the gym? Because he was good at working out the numbers.\",\n    \"Why did the accountant get a job at the hospital? Because he was good at taking care of the accounts.\",\n    \"Why did the accountant get a job at the school? Because he was good at teaching the numbers.\",\n    \"Why did the accountant get a job at the farm? Because he was good at counting the chickens before they hatched.\"\n]\nvar randomIndex = Math.floor(Math.random() * accounting_joke_list.length);\nconsole.log(\"Joke #\" + (randomIndex + 1) + \": \" + accounting_joke_list[randomIndex]);\n",
      "text/plain": [
       "<IPython.core.display.Javascript object>"
      ]
     },
     "metadata": {},
     "output_type": "display_data"
    }
   ],
   "source": [
    "%%javascript\n",
    "\n",
    "var accounting_joke_list = [\n",
    "    \"Why did the accountant cross the road? To bore the people on the other side.\",\n",
    "    \"What do accountants do when they're constipated? They work it out with a pencil.\",\n",
    "    \"Why don't accountants read novels? Because the only numbers in them are page numbers.\",\n",
    "    \"How does an accountant stay out of debt? He learns to act his wage.\",\n",
    "    \"Why did the accountant break up with the calculator? It couldn't handle his complex calculations.\",\n",
    "    \"Why did the accountant stare at his glass of orange juice for three hours? Because on the box it said 'concentrate'.\",\n",
    "    \"Why did the accountant bring a ladder to work? To reach the high interest rates.\",\n",
    "    \"Why did the accountant get promoted? Because he knew how to balance his work and play.\",\n",
    "    \"Why did the accountant go broke? Because he lost his balance.\",\n",
    "    \"Why did the accountant get a job at the bakery? Because he was good at making dough.\",\n",
    "    \"Why did the accountant get a job at the zoo? Because he was good with cheetahs.\",\n",
    "    \"Why did the accountant get a job at the bank? Because he was good at counting on it.\",\n",
    "    \"Why did the accountant get a job at the library? Because he was good at keeping books.\",\n",
    "    \"Why did the accountant get a job at the circus? Because he was good at juggling numbers.\",\n",
    "    \"Why did the accountant get a job at the restaurant? Because he was good at serving up the numbers.\",\n",
    "    \"Why did the accountant get a job at the gym? Because he was good at working out the numbers.\",\n",
    "    \"Why did the accountant get a job at the hospital? Because he was good at taking care of the accounts.\",\n",
    "    \"Why did the accountant get a job at the school? Because he was good at teaching the numbers.\",\n",
    "    \"Why did the accountant get a job at the farm? Because he was good at counting the chickens before they hatched.\"\n",
    "]\n",
    "var randomIndex = Math.floor(Math.random() * accounting_joke_list.length);\n",
    "console.log(\"Joke #\" + (randomIndex + 1) + \": \" + accounting_joke_list[randomIndex]);"
   ]
  },
  {
   "cell_type": "markdown",
   "metadata": {},
   "source": [
    "## Mini Project Files\n",
    "Learning how to manage files in GitHub Pages is a key skill.  This class will continually share files and have challenges using GitHup Pages and Jupyter Notebooks.  Even though you will be working as a pair, you will need to share files with your partner.\n",
    "- Each pair will have their own GitHub Pages repository with their own files.\n",
    "- To copy files between repostories, \n",
    "  - **git clone** both repositories, yours and your pairs\n",
    "  - **git pull** keeps repostitories up to date, mostly you will need to do this on your pairs\n",
    "  - **code .** in directory you cloned will open vscode windows \n",
    "  - **drag and drop** files between repositories, be sure to put them in correct folders\n",
    "\n",
    "### Key Locations for this mini Project\n",
    "- The **_includes** directory is a location to place files that you want to share across many notebooks.  \n",
    "  - In this directory on porfolio_2025 you submenu files.\n",
    "  - The location **_includes/nav/github_pages.html** is a shared submenu\n",
    "  - Inside the file you will see tags: **table**, **tr** (table row), **td** (table data), and **a** (link) \n",
    "\n",
    "- The **_notebooks** directory is the default location to place all **.ipynb** files.  This is the location for all interactive notebooks in our GitHub Pages projects.  If files are in the location they are converted to Web Pages through GitHub Pages Actions.\n",
    "  - For starters you could copy **_notebooks/Foundation/C-github_pages** to your project.\n",
    "  - Then you could rename or make modification to thes files as required.\n",
    "\n",
    "\n",
    "- The **_notebooks/Foundations/C-github_pages** contains the files that use the submenu\n",
    "  - In **frontmatter** of each file you will \n",
    "    - **menu: nav/github_pages.html** the menu (submenu) that is included for the page\n",
    "    - **permalink: /github/pages/intro** the reference for this pages that corresponds to **a** tage in in submenu table\n",
    "\n",
    "\n"
   ]
  }
 ],
 "metadata": {
  "kernelspec": {
   "display_name": "Python 3",
   "language": "python",
   "name": "python3"
  },
  "language_info": {
   "codemirror_mode": {
    "name": "ipython",
    "version": 3
   },
   "file_extension": ".py",
   "mimetype": "text/x-python",
   "name": "python",
   "nbconvert_exporter": "python",
   "pygments_lexer": "ipython3",
   "version": "3.11.9"
  },
  "orig_nbformat": 4
 },
 "nbformat": 4,
 "nbformat_minor": 2
}
