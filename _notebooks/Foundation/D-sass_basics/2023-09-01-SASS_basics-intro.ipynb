{
 "cells": [
  {
   "cell_type": "raw",
   "metadata": {
    "vscode": {
     "languageId": "raw"
    }
   },
   "source": [
    "---\n",
    "layout: post\n",
    "title: SASS basics\n",
    "description: Understanding the concepts behind SASS\n",
    "type: ccc\n",
    "courses: { csse: {week: 2}, csp: {week: 2}, csa: {week: 0} }\n",
    "permalink: /sass_basics/intro\n",
    "menu: nav/sass_basics.html\n",
    "toc: true\n",
    "comments: true\n",
    "---"
   ]
  },
  {
   "cell_type": "markdown",
   "metadata": {},
   "source": [
    "# What is SASS?\n",
    "\n",
    "> Sass is a preprocessor language that's interpreted into CSS. A preprocessor language takes input data and converts it to an output that's used as input by another program. This means when you run Sass code, you're actually converting your code to CSS. That CSS code output is then used directly by a browser.\n",
    "<br>\n",
    "![](https://encrypted-tbn0.gstatic.com/images?q=tbn:ANd9GcTMd7eiGMX9FwRLC0uJTDewSjw_7_WvCF4ABLdwztLrCnPEXrqW0gG-pH8eT-fYPLlghjY&usqp=CAU)"
   ]
  },
  {
   "cell_type": "markdown",
   "metadata": {},
   "source": [
    "#  SCSS vs. CSS \n",
    "> Understanding the differences between SCSS and CSS\n",
    "\n",
    "## What is CSS\n",
    "- CSS is the default technology that most programmers use when styling webpages. It is one of the 3 fundamental web technologies along with HTML and JavaScript. HTML manages the structure, JavaScript makes pages interactive, and CSS changes the style by taking a markup language like HTML and describes how it should be presented to the user.\n",
    "\n",
    "- However, CSS is not very easy to work with lacking a lot features often making using CSS very confusing and difficult or hard to work with on lengthy projects. This is why there are tools like Bootstrap, Sass, and Tailwind that make styling a lot easier and more efficient. We will be using Sass in this course.  \n",
    "\n",
    "### CSS Example\n",
    "- This is an example of CSS that can be used to change body text of an HTML document\n",
    "- Hack Question: Can you guess what its changing style of the text to? "
   ]
  },
  {
   "cell_type": "markdown",
   "metadata": {},
   "source": [
    "```css\n",
    "\n",
    "body{\n",
    "color: #0000FF;\n",
    "font-family: Ariel, sans-serif;\n",
    "font-size: 16px;\n",
    "}\n",
    "\n",
    "```"
   ]
  },
  {
   "cell_type": "markdown",
   "metadata": {},
   "source": [
    "\n",
    "## What is SCSS\n",
    "SASS (Syntactically Awesome Stylesheets) is a powerful preprocessor scripting language that enhances CSS with advanced features. It's compiled into standard CSS, making it a robust tool for modern web development.\n",
    "\n",
    "### Sass Code Example"
   ]
  },
  {
   "cell_type": "markdown",
   "metadata": {},
   "source": [
    "```scss\n",
    "$blue: #0000FF;\n",
    "body{\n",
    "color: $blue;\n",
    "font-family: Ariel, sans-serif;\n",
    "font-size: 16px;\n",
    "}\n",
    "```"
   ]
  },
  {
   "cell_type": "markdown",
   "metadata": {},
   "source": [
    "\n",
    "- This example is doing the same thing as the other code segment above but the difference being that here we defined the color as $blue which makes it much easier for us to recall later on. In fact, we have done this before, if you have been using the dark mode/midnight theme then go ahead and navigate your your _sass folder and check out the dark-mode.scss and you'll see something similar to the example above\n",
    "\n",
    "### So which one is better to use?\n",
    "- CSS tends to be better for really simple styling where not many complex or nested styles are required and in small projects that don't require a lot of customization. \n",
    "- SCSS on the other hand is very good for more complex styling and working with a project with more than one page where a lot of customization may be needed.\n",
    "\n",
    "## Benefits Of SASS Over Traditional CSS\n",
    "\n",
    "### Improved Code Organization\n",
    "- **Nesting Capabilities**: SASS allows you to nest your CSS selectors in a way that follows the same visual hierarchy of your HTML.\n",
    "- **Modular Approach**: You can split your CSS into multiple files (partials) and import them into a main file, making your project more organized.\n",
    "\n",
    "### Maintainability\n",
    "- **Use of Variables**: Define colors, fonts, and other CSS values as variables for easy updates and consistency across the project.\n",
    "- **Mixins for Reusable Code**: Create reusable pieces of code for things like buttons, forms, which can be included wherever needed.\n",
    "- **Extend/Inheritance**: Share a set of CSS properties from one selector to another, reducing the amount of code you need to write and maintain.\n",
    "\n",
    "### Advanced Features\n",
    "- **Control Directives**: Use if/else statements and for/each loops in your CSS, which are not possible in plain CSS.\n",
    "- **Built-in Functions**: SASS offers functions for color manipulation, mathematics and more, enhancing the functionality of CSS.\n",
    "- **Compatibility**: Automatically handles browser prefixing, ensuring that your styles work across different browsers without extra code."
   ]
  },
  {
   "cell_type": "markdown",
   "metadata": {},
   "source": [
    "## Preprocessing\n",
    "This is changing SASS files to CSS files.  A browser can only use CSS for styling at runtime. \n",
    "\n",
    "The GitHub Pages project we use compiles SASS files each time you save, so **these compile commands are NOT ncessary**!!!\n",
    "\n",
    "For reference, these commands happen behind the scenes in GitHub Pages.\n",
    "\n",
    "- **Compilation**: Sass files are preprocessed to generate standard CSS files.\n",
    "- **Usage**: Use the `sass` command in the terminal to compile Sass files. For example, `sass input.sass output.css`.\n",
    "- **Watching Files**: The `--watch` flag allows Sass to monitor files for changes and recompile automatically."
   ]
  },
  {
   "cell_type": "markdown",
   "metadata": {},
   "source": [
    "```scss\n",
    "// Command to compile Sass, if you are not using GitHub pages\n",
    "sass input.scss output.css\n",
    "\n",
    "// Command to watch and compile Sass\n",
    "sass --watch input.scss output.css\n",
    "```"
   ]
  },
  {
   "cell_type": "markdown",
   "metadata": {},
   "source": [
    "# Modular SCSS \n",
    "> Understanding how to use modular SCSS\n",
    "- Modular SCSS allows you to break your SCSS files into multiple files and compile them into a single CSS file.\n",
    "- How do you do this? Well all you need to do is have _filenames.scss so that is compiled into its own file.\n",
    "- Now after adding the _ before the file name you can import it into you file without the _ and all the styles will be carried over. \n",
    "- The benefits of a partial is that it allows you to break up the code of multiple components for larger websites. This way you can easiliy organize and make changes to components using these separate files instead of having to go through one massive file.\n",
    "- All styles in the partial will be added to and can be used in the main file as if they were defined in the main file itself.\n",
    "\n",
    "## File 1 _variable.scss"
   ]
  },
  {
   "cell_type": "markdown",
   "metadata": {},
   "source": [
    "```scss\n",
    "\n",
    "$primary-button-color: #009494;\n",
    "$hover-color: black;\n",
    "$menu-color: #f2f2f2;\n",
    "\n",
    "```"
   ]
  },
  {
   "cell_type": "markdown",
   "metadata": {},
   "source": [
    "## File 2 style.scss\n",
    "- We can see the importing of the .scss file's content into the other main .scss file style.scss"
   ]
  },
  {
   "cell_type": "markdown",
   "metadata": {},
   "source": [
    "```scss\n",
    "{@import 'variables';\n",
    "@import \"{{ site.theme }}\";}\n",
    "/* \"row style\" is flexible size and aligns pictures in center */\n",
    ".row {\n",
    "    align-items: center;\n",
    "    display: flex;\n",
    "  }\n",
    "  \n",
    "  /* \"column style\" is one-third of the width with padding */\n",
    "  .column {\n",
    "    flex: 33.33%;\n",
    "    padding: 5px;\n",
    "  }\n",
    "\n",
    ".menu a {\n",
    "  // float: left;\n",
    "  display: block;\n",
    "  color: $menu-color;\n",
    "  text-align: center;\n",
    "  // padding: 14px 16px;\n",
    "  text-decoration: none;\n",
    "}\n",
    ".menu a:hover {\n",
    "  background: $primary-button-color;\n",
    "    color: $hover-color;\n",
    "}\n",
    "```"
   ]
  },
  {
   "cell_type": "markdown",
   "metadata": {},
   "source": [
    "# Nesting\n",
    "\n",
    "- Nesting is a way to organize your code and make it easier to read.\n",
    "- Nesting is when you put one selector inside another selector.\n",
    "- When we make HTML we often nest different elements within each other to have a clear structure when we look at it.\n",
    "- The problem is that in regular CSS we don't have that so we need to use SASS to help us organize our code.\n",
    "\n",
    "- Warning: Don't nest too much as when the CSS is processed it can make overqualified selectors which can be hard to read and maintain. Which means that it would only target that specific element type and not any other elements that have the same class name.\n",
    "\n",
    "## Sass Nesting\n",
    "- Through nesting the ul, li, and a selectors within the nav selector makes your CSS better and increases its readability overall."
   ]
  },
  {
   "cell_type": "markdown",
   "metadata": {},
   "source": [
    "```scss\n",
    "nav {\n",
    "  ul {\n",
    "    margin: 0;\n",
    "    padding: 0;\n",
    "    list-style: none;\n",
    "  }\n",
    "\n",
    "  li { display: inline-block; }\n",
    "\n",
    "  a {\n",
    "    display: block;\n",
    "    padding: 6px 12px;\n",
    "    text-decoration: none;\n",
    "  }\n",
    "}\n",
    "```"
   ]
  },
  {
   "cell_type": "markdown",
   "metadata": {},
   "source": [
    "## CSS - Lack of Nesting\n",
    "- We can see that through the lack of nesting the CSS is not as organized and needs extra information to be able to make it more clear exactly what is being targeted."
   ]
  },
  {
   "cell_type": "markdown",
   "metadata": {},
   "source": [
    "```css\n",
    "nav ul {\n",
    "  margin: 0;\n",
    "  padding: 0;\n",
    "  list-style: none;\n",
    "}\n",
    "nav li {\n",
    "  display: inline-block;\n",
    "}\n",
    "nav a {\n",
    "  display: block;\n",
    "  padding: 6px 12px;\n",
    "  text-decoration: none;\n",
    "}\n",
    "```"
   ]
  },
  {
   "cell_type": "markdown",
   "metadata": {},
   "source": [
    "# Variables\n",
    "> What is a variable?\n",
    "- A variable is a container that stores a value so when you have multiple places that refer to one value you can just use the variable name instead of the value.\n",
    "- This is valuable in SASS because it allows you to reuse that value in multiple places throughout your stylesheet. \n",
    "- The $ symbol is used in Sass to designate a variable. \n",
    "\n",
    "## Variable Example Syntax\n",
    "- $variable-name: value;\n",
    "- Once the sass is processed the variable name is replaced with the value throughout the program."
   ]
  },
  {
   "cell_type": "markdown",
   "metadata": {},
   "source": [
    "```scss\n",
    "$main-font: Calibri, sans-serif;\n",
    "$main-color: #000;\n",
    "$main-color-hover: #000;\n",
    "```"
   ]
  }
 ],
 "metadata": {
  "language_info": {
   "name": "python"
  }
 },
 "nbformat": 4,
 "nbformat_minor": 2
}
