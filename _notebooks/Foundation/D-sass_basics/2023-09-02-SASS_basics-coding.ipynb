{
 "cells": [
  {
   "cell_type": "raw",
   "metadata": {
    "vscode": {
     "languageId": "raw"
    }
   },
   "source": [
    "---\n",
    "layout: post\n",
    "title: SASS coding\n",
    "description: Understanding the fundamental aspects of coding with SASS\n",
    "categories: [SASS]\n",
    "permalink: /sass_basics/coding\n",
    "menu: nav/sass_basics.html\n",
    "toc: true\n",
    "comments: true\n",
    "---"
   ]
  },
  {
   "cell_type": "markdown",
   "metadata": {},
   "source": [
    "# Fundementals SASS\n",
    "SASS can go far beyond making a single CSS like document that can theme and entire website or makeing your CSS like script more readible and more managable using nesting and partials. In this lesson we will be going over some of the more advanced features of SASS.\n",
    "\n",
    "[Example Code](https://github.com/nighthawkcoders/teacher_portfolio/blob/main/_sass/minima/platformer-styles.scss) for GameLevels project"
   ]
  },
  {
   "cell_type": "markdown",
   "metadata": {},
   "source": [
    "# Operators\n",
    "- Operators are used to perform operations on variables and other aspects of the language. Similar to python syntax, we can use operators to see if values are equal, add, divide, subtract, multiply, etc.\n",
    "- SASS has a lot of operators that can be used to perform operations on variables and other aspects of the language as well. They can include\n",
    "    - `== to check if two values are equal and != to check if two values are not equal`\n",
    "    - `+ to add two values together` \n",
    "    - `- to subtract two values`\n",
    "    - `* to multiply two values`\n",
    "    - `/ to divide two values`\n",
    "    - `% to find the remainder of two values`\n",
    "    - `< to check if one value is less than another`\n",
    "    - `> to check if one value is greater than another`\n",
    "    - `<= to check if one value is less than or equal to another`\n",
    "    - `>= to check if one value is greater than or equal to another`\n",
    "    - `Also there is and, or, & not to be able to use boolean operations`\n",
    "\n",
    "## Operator Example Syntax\n",
    "- Operators are used in this example to perform string concatenation"
   ]
  },
  {
   "cell_type": "markdown",
   "metadata": {},
   "source": [
    "```\n",
    "// Html\n",
    "<p id=\"testing\">original text and</p>\n",
    "\n",
    "// SASS\n",
    "#testing:after{\n",
    "  content: \" some\" + \" more\" + \" text\";\n",
    "}\n",
    "\n",
    "// Output\n",
    "original text and some more text\n",
    "```"
   ]
  },
  {
   "cell_type": "markdown",
   "metadata": {},
   "source": [
    "# Conditional Statements \n",
    "- There are conditional statements in SASS just like in Python and JavaScript they work the same way as well.\n",
    "- Conditional statements are used to perform different actions based on different conditions. Such as if a certain condition is true then do this, if it is false then do that and so on.\n",
    "- SASS has @if which allows for different styles based on if a boolean expression was true or false.\n",
    "- SASS has @else which allows for different set of styles if the if condition was not met or false. \n",
    "- SASS has @else if which allows for an alternative conditions to be run if the first is not met. "
   ]
  },
  {
   "cell_type": "markdown",
   "metadata": {},
   "source": [
    "```scss\n",
    "$color: red;\n",
    "\n",
    "button {\n",
    "  @if $color == red {\n",
    "    background-color: $color;\n",
    "  }\n",
    "}\n",
    "// @else: allows you to provide an alternative set of styles to apply if the condition in the @if statement isn't met\n",
    "$color: blue;\n",
    "\n",
    "button {\n",
    "  @if $color == red {\n",
    "    background-color: red;\n",
    "  } @else {\n",
    "    background-color: $color;\n",
    "  }\n",
    "}\n",
    "// @else if: allows you to provide multiple alternative conditions to test\n",
    "$color: green;\n",
    "\n",
    "button {\n",
    "  @if $color == red {\n",
    "    background-color: red;\n",
    "  } @else if $color == blue {\n",
    "    background-color: blue;\n",
    "  } @else {\n",
    "    background-color: $color;\n",
    "  }\n",
    "}\n",
    "```"
   ]
  },
  {
   "cell_type": "markdown",
   "metadata": {},
   "source": [
    "# Loops In Sass\n",
    "- Loops are present in SASS through the @for and @while decorators, along with @each. \n",
    "- Loops are used to repeat a block of code a certain number of times or until a certain condition is met just like in any other programming language.\n",
    "    - For Loops: Are used to iterate through a value like a list or a range of numbers\n",
    "    - While Loops: Are used to iterate through a block of code until a certain condition is met such as a value is being equal to a certain value through an incrementing or decrementing a variable or any other condition that is met.\n",
    "\n",
    "- When using while loops they can be necessary but it is better to use @each and @for as it will make it clear and be able to compile faster.\n",
    "\n",
    "- Side Note: In SASS lists care a any group of values that are separated by a comma or a space there is no special brackets used in JavaScript. Lists can be searched for values however they are immutable meaning that they cannot be changed once they are created.\n",
    "\n",
    "## Some Code Examples of Loops and Lists"
   ]
  },
  {
   "cell_type": "markdown",
   "metadata": {},
   "source": [
    "```scss\n",
    "// A for each loop is used to interact with a group of sizes changing \n",
    "// the size of the element for each item in the list\n",
    "\n",
    "$sizes: 40px, 50px, 80px;\n",
    "\n",
    "@each $size in $sizes {\n",
    "  .icon-#{$size} {\n",
    "    font-size: $size;\n",
    "    height: $size;\n",
    "    width: $size;\n",
    "  }\n",
    "}\n",
    "\n",
    "\n",
    "// @each: allows you to loop over a list of values and generate styles\n",
    "$colors: red, green, blue;\n",
    "\n",
    "@each $color in $colors {\n",
    "  .color-#{$color} {\n",
    "    background-color: $color;\n",
    "  }\n",
    "}\n",
    "```"
   ]
  },
  {
   "cell_type": "markdown",
   "metadata": {},
   "source": [
    "The @debug directive is used to print messages to the Sass output. It's a handy tool for inspecting variable values, checking the flow of your code, and identifying issues during development."
   ]
  },
  {
   "cell_type": "markdown",
   "metadata": {},
   "source": [
    "```scss\n",
    "@debug list.index(1px solid red, 1px); // 1\n",
    "@debug list.index(1px solid red, solid); // 2\n",
    "@debug list.index(1px solid red, dashed); // null\n",
    "```"
   ]
  },
  {
   "cell_type": "markdown",
   "metadata": {},
   "source": [
    "```scss\n",
    "$base-color: #036;\n",
    "\n",
    "@for $i from 1 through 3 {\n",
    "  ul:nth-child(3n + #{$i}) {\n",
    "    background-color: lighten($base-color, $i * 5%);\n",
    "  }\n",
    "}\n",
    "\n",
    "// @for:  allows you to loop over a range of values and generate styles\n",
    "\n",
    "@for $i from 1 through 3 {\n",
    "  .item-#{$i} {\n",
    "    width: 100px * $i;\n",
    "  }\n",
    "}\n",
    "```"
   ]
  },
  {
   "cell_type": "markdown",
   "metadata": {},
   "source": [
    "#  Functions in SASS\n",
    "> What is a function?\n",
    "- A function is a block of code that performs a specific task. This is a great method to be able to reuse code and processes in a manner that is more efficient and allows for the reuse of code. We do this all the time in programming languages such as JavaScript.\n",
    "\n",
    "## SASS functions\n",
    "- Sass Functions allow you to define complex calculations and transformations that can be used throughout your stylesheet and allow you to perform complex operations on values, manipulate data, plus you can generate content dynamically.\n",
    "\n",
    "- There a are built in functions and ones you can make on your own like languages such as JavaScript.\n",
    "  \n",
    "- SASS functions can be used to perform arithmetic operations, manipulate colors, work with strings, and more.\n",
    "\n",
    "- Functions in SASS are similar to functions in programming languages, but they can be used within SASS stylesheets to generate CSS code dynamically.\n",
    "\n",
    "## Using Built-in Functions\n",
    "- Like Python and Javascript SASS provides a variety of built-in functions for  math, color manipulation, string manipulation, and more. \n",
    "\n",
    "\n",
    "## Math Functions\n",
    "- SASS has many functions that allow you to be able to perform wide range of math operations similar to the ones present in python including more complex operations. \n"
   ]
  },
  {
   "cell_type": "markdown",
   "metadata": {},
   "source": [
    "```scss\n",
    "\n",
    ".round(1.2);          // returns 1\n",
    ".ceil(1.2);           // returns 2\n",
    ".floor(1.2);          // returns 1\n",
    ".abs(-1.2);           // returns 1.2\n",
    ".min(1, 2, 3);        // returns 1\n",
    ".max(1, 2, 3);        // returns 3\n",
    ".random(1, 100);      // returns a random number between 1 and 100\n",
    "\n",
    "```"
   ]
  },
  {
   "cell_type": "markdown",
   "metadata": {},
   "source": [
    "## Color Functions\n",
    "- Color is an important component of any website and SASS provides a wide range of functions that allow you to manipulate colors in a variety of ways."
   ]
  },
  {
   "cell_type": "markdown",
   "metadata": {},
   "source": [
    "```scss\n",
    "\n",
    ".lighten(#007fff, 20%);       // returns a lighter shade of blue\n",
    ".darken(#007fff, 20%);        // returns a darker shade of blue\n",
    ".opacify(#007fff, 0.2);       // makes the color more opaque\n",
    ".transparentize(#007fff, 0.2); // makes the color more transparent\n",
    ".mix(#007fff, #ff0000, 50%);  // returns a mix of two colors\n",
    "\n",
    "```"
   ]
  },
  {
   "cell_type": "markdown",
   "metadata": {},
   "source": [
    "## String Functions\n",
    "- SASS provides a variety of string functions that allow you to manipulate strings. Here are some examples:"
   ]
  },
  {
   "cell_type": "markdown",
   "metadata": {},
   "source": [
    "```scss\n",
    "\n",
    ".to-upper-case(\"hello world\");  // returns \"HELLO WORLD\"\n",
    ".to-lower-case(\"HELLO WORLD\");  // returns \"hello world\"\n",
    ".str-index(\"hello world\", \"world\"); // returns the index of the first occurrence of \"world\"\n",
    ".str-insert(\"hello\", \" world\", 5);  // inserts \" world\" into \"hello\" at position 5\n",
    "\n",
    "```"
   ]
  },
  {
   "cell_type": "markdown",
   "metadata": {},
   "source": [
    "## Creating Custom Functions\n",
    "\n",
    "- In addition to using built-in functions, you can also create your own functions in SASS using the ``@function name(arguments){}``\n",
    "- @return is similar to the return statement in JavaScript. It returns a value from a function.\n",
    "- Functions take input values, perform calculations, and return a result. Here's an example of a simple function that calculates the area of a rectangle:"
   ]
  },
  {
   "cell_type": "markdown",
   "metadata": {},
   "source": [
    "```scss\n",
    "\n",
    "@function rectangle-area($width, $height) {\n",
    "  @return $width * $height;\n",
    "}\n",
    "\n",
    "// Usage:\n",
    "$area: rectangle-area(10px, 20px); // Returns 200px\n",
    "\n",
    "```"
   ]
  },
  {
   "cell_type": "markdown",
   "metadata": {},
   "source": [
    "- We can combine functions and loops just like you would in javascript or python to achieve complex behavior with your styling"
   ]
  },
  {
   "cell_type": "markdown",
   "metadata": {},
   "source": [
    "```scss\n",
    "//Combining functions and loops to achieve different sass effects\n",
    "\n",
    "@function sum($numList){\n",
    "  $sum: 0;\n",
    "  @each $num in $numList {\n",
    "    $sum: $sum+$num;\n",
    "  }\n",
    "  @return $num;\n",
    "}\n",
    "\n",
    "@function tri($num){\n",
    "  $sum: 0;\n",
    "  @for $i from 1 through $num {\n",
    "    $sum: $sum+$num;\n",
    "  }\n",
    "  @return $sum;\n",
    "}\n",
    "\n",
    "@function max($nums){\n",
    "  $i:0;\n",
    "  $value:0px;\n",
    "  @while $i<length($nums){\n",
    "    @if $value<list.nth($nums,$i){\n",
    "      $value:list.nth($nums,$i);\n",
    "    }\n",
    "  }\n",
    "}\n",
    "```"
   ]
  },
  {
   "cell_type": "markdown",
   "metadata": {},
   "source": [
    "# Extending & Inheritance\n",
    "Extending in SASS allows you to share styles between selectors, reducing redundancy. You have to use the @extend directive to do this. Inheritance in SASS involves using a placeholder selector, and they are represented with the percent sign %. These are essentially templates for styles. This allows for more abstraction and less repetition."
   ]
  },
  {
   "cell_type": "markdown",
   "metadata": {},
   "source": [
    "```scss\n",
    "// common styles\n",
    "%common-style\n",
    "  color: #333\n",
    "  font-size: 16px\n",
    "\n",
    "// Use @extend to apply the common style to specific selectors\n",
    ".button\n",
    "  @extend %common-style\n",
    "  background-color: #007bff\n",
    "\n",
    ".link\n",
    "  @extend %common-style\n",
    "  text-decoration: underline\n",
    "```"
   ]
  },
  {
   "cell_type": "markdown",
   "metadata": {},
   "source": [
    "# Hacks\n",
    "- Use some of the topics learned here to modify your CPT warmup project.\n",
    "- Apply SASS theming to the frontend of your CPT project as you begin ideation and design of the frontend."
   ]
  }
 ],
 "metadata": {
  "language_info": {
   "name": "python"
  }
 },
 "nbformat": 4,
 "nbformat_minor": 2
}
