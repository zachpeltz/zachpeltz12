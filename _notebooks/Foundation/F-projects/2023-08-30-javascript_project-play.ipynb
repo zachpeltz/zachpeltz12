{
 "cells": [
  {
   "attachments": {},
   "cell_type": "raw",
   "metadata": {
    "vscode": {
     "languageId": "raw"
    }
   },
   "source": [
    "---\n",
    "layout: post\n",
    "title: Javascript Project Playground\n",
    "description: Build a simple project with Javascript \n",
    "categories: [Javascript]\n",
    "courses: { csse: {week: 4}, csp: {week: 3}, csa: {week: 0} }\n",
    "type: ccc\n",
    "permalink: /javascript/project/play\n",
    "menu: nav/javascript_project.html\n",
    "toc: true\n",
    "comments: true\n",
    "---"
   ]
  },
  {
   "attachments": {},
   "cell_type": "markdown",
   "metadata": {},
   "source": [
    "## Introduction to JavaScript and Projects \n",
    "What do beginning developers like to work on?  Everyones says the best way to learn a language is to build something. What would beginning developers like to build? \n",
    "- [Geeks for Geeks Research Ideas](https://www.geeksforgeeks.org/top-10-projects-for-beginners-to-practice-html-and-css-skills/#)\n",
    "    - Talk to someone who rembers their 1st Web project.  What did the build?\n",
    "    - Ask someone what they need.   It is always best to be working on something that is useful.\n",
    "    - Think about your school year.  Computer Science is often thought about as a tool box.  How would you use the tools of Computer Science to help you become a better student this year? "
   ]
  },
  {
   "cell_type": "markdown",
   "metadata": {},
   "source": [
    "### Importance of Designing Before Coding\n",
    "It's important to design your site using a resource like canva or google drawings before hand because it allows you make a plan on how your elements are going to work together before you start coding. This eliminates a lot of future headache and frustration. "
   ]
  },
  {
   "cell_type": "markdown",
   "metadata": {},
   "source": [
    "### How to Pair Program/Split up Work: \n",
    "The best way to split work between people is to split major features up, so that you can work on them seperately without interfering with each other. After that, you can start integrating your code, which requires more collaboration. Another way to split up work in pair programming is to have one person code, while the other one reviews their code, then switch periodically. "
   ]
  },
  {
   "cell_type": "markdown",
   "metadata": {},
   "source": [
    "### Create a Cookie Clicker Game\n",
    "- Add 1 point every time the user clicks on the \"cookie\" or whatever icon you choose\n",
    "\n",
    "> 90% Hack: add sound effects to the \"cookie\" when you click it\n",
    "\n",
    "> 100% Hack: add a shop to buy workers to increase cookie count passively. You can take a look at the [original project](https://orteil.dashnet.org/cookieclicker/) to see how the shop works."
   ]
  },
  {
   "attachments": {},
   "cell_type": "markdown",
   "metadata": {},
   "source": [
    "### Complete a Calculator\n",
    "Students can grab a simple calculator using HTML, CSS, and JavaScript. This project will introduce them to basic user interface design and event handling in JavaScript.\n",
    "- Learn about STYLE with SASS and SCRIPT with JavaScript\n",
    "- Show how style usage is integrated into the GITHUB THEME\n",
    "\n",
    "* Many calculators are available on Internet and ChatGPT, search \"calculator in javascript\".  Additionally, Teacher has these calculators...\n",
    "    * [Calculator]({{site.baseurl}}/javascript/project/calculator)\n",
    "        > 90% Hack: Add 3 more operations on the calculator (EX: exponent). Hint: take a look at the calculator function in the calculator markdown file.\n",
    "\n",
    "        > 100% Hack: Implement a calculations history. A good example is the google chrome [default calculator](https://www.google.com/search?q=calculator)\n",
    "    * [Binary Calculator]({{site.baseurl}}/javascript/project/binary-calculator)\n",
    "        > 90% Hack: Fix overflow/underflow error. Take a look at when the binary bit is all 1s or 0s and see what happen when you try to add 1 when it's 255 or subtract 1 when it's 0.\n",
    "\n",
    "        > 100% Hack: Add 2 more sets of binary manipulation sections and then display those binary values as colors. Take a look at the [RGB Section](https://www.csfieldguide.org.nz/en/chapters/data-representation/images-and-colours/) of this page to see what's expected."
   ]
  },
  {
   "attachments": {},
   "cell_type": "markdown",
   "metadata": {},
   "source": [
    "###  Complete a Game\n",
    "Building a game is an excellent project for students to explore more advanced JavaScript concepts, such as game logic, handling user interactions, and managing state.\n",
    "\n",
    "* Many Tic Tac Toe games are available on Internet and ChatGPT, search \"tic-tack-toe in javascript\".  Additionally, Here are a couple of games that are very common...\n",
    "    * [Snake Game]({{site.baseurl}}/javascript/project/snake)\n",
    "        > 90% Hack: Make grid and make it so that arrow keys dont move the screen around. [Original game](https://www.google.com/search?q=snake)\n",
    "\n",
    "        > 100% Hack: Make powerups (EX: Extra life)        \n",
    "    * [Game of Life]({{site.baseurl}}/javascript/project/game-of-life)\n",
    "        > 90% Hack: Make a counter that automatically updates for each round that plays\n",
    "\n",
    "        > 100% Hack: Make a slider to increase x and y length of the game of life grid"
   ]
  },
  {
   "cell_type": "markdown",
   "metadata": {},
   "source": [
    "### Explore the world of API's\n",
    "There are many providers of data on the internet, they service that data through API's.  As a programmer,we find data, searc data and format data.  We NEVER turn in \"static\" data that we type into Javascript.  There is ALWAYS a BETTER WAY than static data.\n",
    "\n",
    "#### iTunes API\n",
    "The music API example is an endpoint for itunes.apple.com.   A request to itunes providea a response.   They create and manage the iTunes data, we code and do not perform data entry.   The formatting of the response provides the Input and Output interaction with the itunes data.  \n",
    "\n",
    "We do not create or manage their data.  The itunes system has  backend processes that create and store data.  \n",
    "\n",
    "As we play with the API, we itunes could provide:\n",
    "\n",
    "- A better starting screen.  Perhaps provide sample queries on screen.\n",
    "- Provide local storage to show recent or liked queries by the user.\n",
    "- Have interaction between this API and other functions on our site.  For instance, we could allow music selection to dictate background music while playing a platformer game.\n",
    "\n",
    "But additionally, we could explore backend service from itunes to:\n",
    "\n",
    "- Show most popular queries.\n",
    "- Show songs by genre.\n",
    "- Show songs by era.\n"
   ]
  }
 ],
 "metadata": {
  "language_info": {
   "name": "python"
  },
  "orig_nbformat": 4
 },
 "nbformat": 4,
 "nbformat_minor": 2
}
