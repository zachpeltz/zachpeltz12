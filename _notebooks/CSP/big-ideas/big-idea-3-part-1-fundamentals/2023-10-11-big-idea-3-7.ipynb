{
 "cells": [
  {
   "cell_type": "raw",
   "metadata": {
    "vscode": {
     "languageId": "raw"
    }
   },
   "source": [
    "---\n",
    "toc: false\n",
    "comments: true\n",
    "layout: post\n",
    "title: 3.7 Nested Conditionals\n",
    "description: A supplemental blog on nested conditionals. Learn how nested conditionals allow for more complex decision-making by enabling multiple levels of conditions than regular conditionals. \n",
    "permalink: /csp/big-idea/3-7\n",
    "author: Isabel Marilla\n",
    "menu: nav/csp_units/csp_unit3_p1_fundamentals.html\n",
    "---"
   ]
  },
  {
   "cell_type": "markdown",
   "metadata": {},
   "source": [
    "## Nested Conditionals"
   ]
  },
  {
   "cell_type": "markdown",
   "metadata": {},
   "source": [
    "\n",
    "\n",
    "## Introduction\n",
    "\n",
    "**Nested conditionalsare a fundamental concept in programming where one conditional statement is placed inside another. This allows for more complex decision-making processes and enables programs to handle a wider range of scenarios.\n",
    "\n",
    "## Objectives\n",
    "\n",
    "By the end of this lesson, students will be able to:\n",
    "1. **Understand what nested conditionals are.**\n",
    "2. **Write pseudocode using nested conditionals.**\n",
    "3. **Apply nested conditionals to solve problems.**\n",
    "\n",
    "## Key Concepts\n",
    "\n",
    "1. `Conditional Statements`: Used to perform different actions based on different conditions.\n",
    "2. `Nested Conditionals`: A conditional statement inside another conditional statement.\n",
    "\n",
    "## Example Syntax (College Board Pseudocode)\n",
    "\n",
    "College Board pseudocode uses the following structure for conditional statements:\n",
    "\n",
    "```plaintext\n",
    "IF condition1\n",
    "{\n",
    "    // Code block for condition1\n",
    "    IF condition2\n",
    "    {\n",
    "        // Code block for condition2\n",
    "    }\n",
    "    ELSE\n",
    "    {\n",
    "        // Code block if condition2 is false\n",
    "    }\n",
    "}\n",
    "ELSE\n",
    "{\n",
    "    // Code block if condition1 is false\n",
    "}\n"
   ]
  },
  {
   "cell_type": "markdown",
   "metadata": {},
   "source": [
    "`Example 1: Checking Grade Categories`\n",
    "\n",
    "## Pseudocode\n",
    "Let's write a pseudocode to determine the grade category based on a score:"
   ]
  },
  {
   "cell_type": "code",
   "execution_count": null,
   "metadata": {
    "vscode": {
     "languageId": "html"
    }
   },
   "outputs": [],
   "source": [
    "IF score >= 90\n",
    "{\n",
    "    DISPLAY \"A\"\n",
    "}\n",
    "ELSE\n",
    "{\n",
    "    IF score >= 80\n",
    "    {\n",
    "        DISPLAY \"B\"\n",
    "    }\n",
    "    ELSE\n",
    "    {\n",
    "        IF score >= 70\n",
    "        {\n",
    "            DISPLAY \"C\"\n",
    "        }\n",
    "        ELSE\n",
    "        {\n",
    "            IF score >= 60\n",
    "            {\n",
    "                DISPLAY \"D\"\n",
    "            }\n",
    "            ELSE\n",
    "            {\n",
    "                DISPLAY \"F\"\n",
    "            }\n",
    "        }\n",
    "    }\n",
    "}\n"
   ]
  },
  {
   "cell_type": "markdown",
   "metadata": {},
   "source": [
    "## Python\n",
    "Here is the equivalent Python code:"
   ]
  },
  {
   "cell_type": "code",
   "execution_count": 1,
   "metadata": {},
   "outputs": [
    {
     "name": "stdout",
     "output_type": "stream",
     "text": [
      "B\n"
     ]
    }
   ],
   "source": [
    "score = 85\n",
    "\n",
    "if score >= 90:\n",
    "    print(\"A\")\n",
    "else:\n",
    "    if score >= 80:\n",
    "        print(\"B\")\n",
    "    else:\n",
    "        if score >= 70:\n",
    "            print(\"C\")\n",
    "        else:\n",
    "            if score >= 60:\n",
    "                print(\"D\")\n",
    "            else:\n",
    "                print(\"F\")\n"
   ]
  },
  {
   "cell_type": "markdown",
   "metadata": {},
   "source": [
    "`Example 2: Determining Eligibility for a Loan`\n",
    "\n",
    "\n",
    "## Pseudocode\n",
    "Let's consider a scenario where we determine if a person is eligible for a loan based on their credit score and income:"
   ]
  },
  {
   "cell_type": "code",
   "execution_count": null,
   "metadata": {
    "vscode": {
     "languageId": "html"
    }
   },
   "outputs": [],
   "source": [
    "IF credit_score >= 700\n",
    "{\n",
    "    IF income >= 50000\n",
    "    {\n",
    "        DISPLAY \"Eligible for loan\"\n",
    "    }\n",
    "    ELSE\n",
    "    {\n",
    "        DISPLAY \"Not eligible for loan due to low income\"\n",
    "    }\n",
    "}\n",
    "ELSE\n",
    "{\n",
    "    DISPLAY \"Not eligible for loan due to low credit score\"\n",
    "}\n"
   ]
  },
  {
   "cell_type": "markdown",
   "metadata": {},
   "source": [
    "## Python\n",
    "Here is the equivalent Python code:\n",
    "\n"
   ]
  },
  {
   "cell_type": "code",
   "execution_count": null,
   "metadata": {},
   "outputs": [],
   "source": [
    "credit_score = 750\n",
    "income = 60000\n",
    "\n",
    "if credit_score >= 700:\n",
    "    if income >= 50000:\n",
    "        print(\"Eligible for loan\")\n",
    "    else:\n",
    "        print(\"Not eligible for loan due to low income\")\n",
    "else:\n",
    "    print(\"Not eligible for loan due to low credit score\")\n"
   ]
  },
  {
   "cell_type": "markdown",
   "metadata": {},
   "source": [
    "`Example 3`\n",
    "Write pseudocode to determine if a person qualifies for a discount based on their membership status and purchase amount:\n",
    "\n",
    "If the person is a member:\n",
    "  - If the purchase amount is greater than $100, they get a 20% discount.\n",
    "  - Otherwise, they get a 10% discount.\n",
    "If the person is not a member:\n",
    "   - If the purchase amount is greater than $100, they get a 5% discount.\n",
    "    - Otherwise, they get no discount.\n"
   ]
  },
  {
   "cell_type": "code",
   "execution_count": null,
   "metadata": {
    "vscode": {
     "languageId": "html"
    }
   },
   "outputs": [],
   "source": [
    "IF is_member = TRUE\n",
    "{\n",
    "    IF purchase_amount > 100\n",
    "    {\n",
    "        DISPLAY \"20% discount\"\n",
    "    }\n",
    "    ELSE\n",
    "    {\n",
    "        DISPLAY \"10% discount\"\n",
    "    }\n",
    "}\n",
    "ELSE\n",
    "{\n",
    "    IF purchase_amount > 100\n",
    "    {\n",
    "        DISPLAY \"5% discount\"\n",
    "    }\n",
    "    ELSE\n",
    "    {\n",
    "        DISPLAY \"No discount\"\n",
    "    }\n",
    "}\n"
   ]
  },
  {
   "cell_type": "markdown",
   "metadata": {},
   "source": [
    "## Hacks\n",
    "Review each of the sections above and produce ...\n",
    "\n",
    "- Write pseudocode to determine if a student passes a class based on their exam scores and attendance using nested conditionals.\n",
    "- Write a python segment  to decide the shipping cost based on the weight of a package and the delivery speed chosen (standard or express) using nested conditionals. \n",
    "\n"
   ]
  }
 ],
 "metadata": {
  "kernelspec": {
   "display_name": "Python 3",
   "language": "python",
   "name": "python3"
  },
  "language_info": {
   "codemirror_mode": {
    "name": "ipython",
    "version": 3
   },
   "file_extension": ".py",
   "mimetype": "text/x-python",
   "name": "python",
   "nbconvert_exporter": "python",
   "pygments_lexer": "ipython3",
   "version": "3.11.4"
  }
 },
 "nbformat": 4,
 "nbformat_minor": 2
}
