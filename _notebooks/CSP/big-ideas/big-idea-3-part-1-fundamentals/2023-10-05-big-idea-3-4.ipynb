{
 "cells": [
  {
   "cell_type": "raw",
   "metadata": {
    "vscode": {
     "languageId": "raw"
    }
   },
   "source": [
    "---\n",
    "toc: false\n",
    "comments: true\n",
    "layout: post\n",
    "title: 3.4 Strings\n",
    "description: Student led teaching on Strings. Learn how strings are sequences of characters used to represent text and how to manipulate them. \n",
    "permalink: /csp/big-idea/3-4\n",
    "categories: [CSP Big Ideas]\n",
    "author: Eshika, Aditi, Cindy, Samhita\n",
    "menu: nav/csp_units/csp_unit3_p1_fundamentals.html\n",
    "---"
   ]
  },
  {
   "cell_type": "markdown",
   "metadata": {},
   "source": [
    "## Strings\n",
    "- Strings are ordered sequence of characters (characters = numbers, letters, even space)\n",
    "- Substring is part of an existing string \n",
    "- Some procedures exist that can be used with strings, each language has its own functions\n",
    "- len (str)\n",
    "- Returns the number of characters in the string"
   ]
  },
  {
   "cell_type": "code",
   "execution_count": 1,
   "metadata": {},
   "outputs": [
    {
     "data": {
      "text/plain": [
       "5"
      ]
     },
     "execution_count": 1,
     "metadata": {},
     "output_type": "execute_result"
    }
   ],
   "source": [
    "len (\"APCSP\")\n",
    "# returns 5, length of the string"
   ]
  },
  {
   "cell_type": "markdown",
   "metadata": {},
   "source": [
    "<span style=\"color:pink\">\n",
    "- Concat\n",
    "- Merges both strings together, returns it so that they are one word \n",
    "</span>"
   ]
  },
  {
   "cell_type": "code",
   "execution_count": null,
   "metadata": {},
   "outputs": [],
   "source": [
    "concat = \"AP\" + \"CSP\"\n",
    "# Concat is simply a variable\n",
    "print(concat)"
   ]
  },
  {
   "cell_type": "markdown",
   "metadata": {},
   "source": [
    "## Popcorn hack #4: \n",
    "<span style=\"color:turquoise\">\n",
    "Find the number of characters in your last name using len. Use concat to merge your first and last name together. Use Substring to show only the 3rd to 6th characters. \n",
    "</span>"
   ]
  },
  {
   "cell_type": "code",
   "execution_count": 2,
   "metadata": {},
   "outputs": [
    {
     "name": "stdout",
     "output_type": "stream",
     "text": [
      "9\n",
      "AditiBharadwaj\n",
      "itiB\n"
     ]
    }
   ],
   "source": [
    "#Find the number of characters in your last name using len.\n",
    "length = len(\"Bharadwaj\")\n",
    "print(length)\n",
    "\n",
    "\n",
    "# Use concat to merge your first and last name together.\n",
    "concat = \"Aditi\" + \"Bharadwaj\"\n",
    "print (concat)\n",
    "\n",
    "\n",
    "# Use Substring to show only the 3rd to 6th characters.\n",
    "# be sure to start at 2 because it starts counting at 0\n",
    "substring = concat[2:6]\n",
    "print (substring)"
   ]
  },
  {
   "cell_type": "markdown",
   "metadata": {},
   "source": [
    "## Palindromes\n",
    "<span style=\"color:pink\">\n",
    "A palindrome is a string that reads the same from right to left as left to right.\n",
    "For example, 2112 and mom are palindromes\n",
    "</span>"
   ]
  },
  {
   "cell_type": "code",
   "execution_count": 3,
   "metadata": {},
   "outputs": [
    {
     "name": "stdout",
     "output_type": "stream",
     "text": [
      "True\n",
      "False\n"
     ]
    }
   ],
   "source": [
    "\n",
    "def palindrome(input_str):\n",
    "    # Remove spaces and convert the string to lowercase\n",
    "    clean_str = input_str.replace(\" \", \"\").lower()\n",
    "    # Check if the cleaned string is equal to its reverse\n",
    "    return clean_str == clean_str[::-1]\n",
    "\n",
    "\n",
    "print(palindrome(\"taco cat\")) # True\n",
    "print(palindrome(\"hi\")) # False"
   ]
  },
  {
   "cell_type": "markdown",
   "metadata": {},
   "source": [
    "## Hacks\n",
    "Review each of the sections above and produce ...\n",
    "1. CREATE TEXT (string) ANALYZER:\n",
    "- Accepts input from user\n",
    "- Counts total letters, numbers, spaces in a string\n",
    "- Counts number of vowels\n",
    "- Calculates average word length\n",
    "- Correctly displays: total # of characters (including spaces + numbers), total vowels, average word length\n",
    "other criteria:\n",
    "- ensure that program handles upper and lowercase spelling\n",
    "- Test multiple inputs to ensure accuracy\n",
    "- Add a unique program, function, or feature not specified by criterion\n",
    "\n"
   ]
  }
 ],
 "metadata": {
  "kernelspec": {
   "display_name": "Python 3",
   "language": "python",
   "name": "python3"
  },
  "language_info": {
   "codemirror_mode": {
    "name": "ipython",
    "version": 3
   },
   "file_extension": ".py",
   "mimetype": "text/x-python",
   "name": "python",
   "nbconvert_exporter": "python",
   "pygments_lexer": "ipython3",
   "version": "3.11.4"
  }
 },
 "nbformat": 4,
 "nbformat_minor": 2
}
