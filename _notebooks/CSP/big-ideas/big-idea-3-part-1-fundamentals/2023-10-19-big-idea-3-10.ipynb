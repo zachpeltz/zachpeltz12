{
 "cells": [
  {
   "cell_type": "raw",
   "metadata": {
    "vscode": {
     "languageId": "raw"
    }
   },
   "source": [
    "---\n",
    "toc: false\n",
    "comments: true\n",
    "layout: post\n",
    "title: 3.10 Lists\n",
    "description: Student led teaching on Lists. Learn how storage and manipulation of multiple items using indexing to access individual elements.\n",
    "permalink: /csp/big-idea/3-10\n",
    "categories: [CSP Big Ideas]\n",
    "author:  Brandon, Ninaad, Aaron, Eshaan, (p5) David, Austin, Peyton, Aiden (p1)\n",
    "menu: nav/csp_units/csp_unit3_p1_fundamentals.html\n",
    "---"
   ]
  },
  {
   "cell_type": "markdown",
   "metadata": {},
   "source": [
    "## Lists"
   ]
  },
  {
   "cell_type": "markdown",
   "metadata": {},
   "source": [
    "\n",
    "\n",
    "A Python list is an ordered and changeable collection of data objects. Unlike an array, which can contain objects of a single type, a list can contain a mixture of objects.\n",
    "They start from 0. (The 1st element would actually be the 0th element)"
   ]
  },
  {
   "cell_type": "markdown",
   "metadata": {},
   "source": [
    "\n",
    "\n",
    "## List Operations \n",
    "\n",
    "- aList[i] - This access your list at index i. An index is a numeric value that represents the position of an element within that data structure. For example, the first element of aList is at index 1, represented by aList[1]. \n",
    "- x <- aList[i] - Assigns value of aList[i] to variable x\n",
    "- aList[i] <- x - Assigns value of x to aList[i]\n",
    "- aList[i] <- aList[j] - Assigns value of aList[j] to aList[i]\n",
    "    \n",
    "- INSERT(aList, i , value) - aList is the list in which you want to insert the value. i is the index at which you want to insert the value. value is the value you want to insert at that index\n",
    "- APPEND(aList, value) - The value you put in is placed at the end of aList\n",
    "- REMOVE(aList, i) - aList is the list in which you want to delete the value. i is the index at which you want to delete the value.\n",
    "- LENGTH(aList) - Gives you the number of elements in aList\n",
    "\n",
    "- FOR EACH item IN aList {\n",
    "    \n",
    "} - Item is a var assigned each element of aList in order from first element to last. The code inside the for loop is run once for every assignment of item."
   ]
  },
  {
   "cell_type": "markdown",
   "metadata": {},
   "source": [
    "**Creating a list:**\n",
    "\n",
    "In order to create a list named \"aList\", type aList = [].\n",
    "This creates an empty list.\n",
    "A list with elements would look like this aList = [element1,element2,element3]\n",
    "\n",
    "**Append:**\n",
    "\n",
    "In Python, the append() method is used to add an element to the end of a list.\n",
    "The element in the parenthesis is what is added to the list."
   ]
  },
  {
   "cell_type": "code",
   "execution_count": null,
   "metadata": {},
   "outputs": [],
   "source": [
    "# College Board Pseudo Code\n",
    "aList ← []\n",
    "\n",
    "USER_INPUT ← (\"Enter an item you want (or 'q' to quit): \")\n",
    "\n",
    "REPEAT UNTIL USER_INPUT ← q{\n",
    "    APPEND (aList, USER_INPUT)\n",
    "}\n",
    "\n",
    "DISPLAY(aList)"
   ]
  },
  {
   "cell_type": "code",
   "execution_count": 1,
   "metadata": {},
   "outputs": [
    {
     "name": "stdout",
     "output_type": "stream",
     "text": [
      "Things You Want: ['1', 'item', '2']\n"
     ]
    }
   ],
   "source": [
    "aList = []\n",
    "\n",
    "while True:\n",
    "    user_input = input(\"Enter an item you want (or 'q' to quit): \")\n",
    "    \n",
    "    if user_input.lower() == 'q':\n",
    "        break\n",
    "    \n",
    "    aList.append(user_input)\n",
    "\n",
    "print(\"Things You Want:\", aList)"
   ]
  },
  {
   "cell_type": "markdown",
   "metadata": {},
   "source": [
    "**Accessing an element:**\n",
    "\n",
    "In order to access a specific element from a list, you would put the element in []. For example, If I had to access the third element in the list aList, I would say \"aList[2]\". "
   ]
  },
  {
   "cell_type": "code",
   "execution_count": null,
   "metadata": {},
   "outputs": [],
   "source": [
    "# College Board Pseudo Code\n",
    "aList ← []\n",
    "\n",
    "USER_INPUT ← (\"Enter an item you want (or 'q' to quit): \")\n",
    "\n",
    "REPEAT UNTIL USER_INPUT ← q{\n",
    "    APPEND (aList, USER_INPUT)\n",
    "}\n",
    "\n",
    "DISPLAY(aList[2])"
   ]
  },
  {
   "cell_type": "code",
   "execution_count": 9,
   "metadata": {},
   "outputs": [
    {
     "name": "stdout",
     "output_type": "stream",
     "text": [
      "The Second thing on your list is 3\n",
      "['2', '3', '6', 'hunt']\n"
     ]
    }
   ],
   "source": [
    "aList = []\n",
    "\n",
    "while True:\n",
    "    user_input = input(\"Enter an item you want (or 'q' to quit): \")\n",
    "    \n",
    "    if user_input.lower() == 'q':\n",
    "        break\n",
    "    \n",
    "    aList.append(user_input)\n",
    "\n",
    "print(\"The Second thing on your list is\", aList[1])\n",
    "print(aList)"
   ]
  },
  {
   "cell_type": "markdown",
   "metadata": {},
   "source": [
    "**Deleting an element:**\n",
    "\n",
    "In order to delete an element, choose the element the same way you would access it but put \"del\" before it. For example, If I had to delete the third element in a list called aList, I would say \"del aList[2]\"."
   ]
  },
  {
   "cell_type": "code",
   "execution_count": null,
   "metadata": {},
   "outputs": [],
   "source": [
    "# College Board Pseudo Code\n",
    "aList ← []\n",
    "\n",
    "USER_INPUT ← (\"Enter an item you want (or 'q' to quit): \")\n",
    "\n",
    "REPEAT UNTIL USER_INPUT ← q{\n",
    "    APPEND (aList, USER_INPUT)\n",
    "}\n",
    "\n",
    "REMOVE (aList, 2)\n",
    "\n",
    "DISPLAY(aList)"
   ]
  },
  {
   "cell_type": "code",
   "execution_count": 10,
   "metadata": {},
   "outputs": [
    {
     "name": "stdout",
     "output_type": "stream",
     "text": [
      "This is your list:  ['5', '4', '4']\n",
      "This is your new list:  ['5', '4']\n"
     ]
    }
   ],
   "source": [
    "aList = []\n",
    "\n",
    "while True:\n",
    "    user_input = input(\"Enter an item you want (or 'q' to quit): \")\n",
    "    \n",
    "    if user_input.lower() == 'q':\n",
    "        break\n",
    "    \n",
    "    aList.append(user_input)\n",
    "\n",
    "print(\"This is your list: \", aList)\n",
    "\n",
    "del aList[1]\n",
    "\n",
    "print(\"This is your new list: \", aList)"
   ]
  },
  {
   "cell_type": "markdown",
   "metadata": {},
   "source": [
    "**Assigning a value:**\n",
    "\n",
    "To assign the values a list named bList to aList of one list to another you simply have to do aList = bList.\n",
    "\n",
    "**Length of a list:**\n",
    "\n",
    "To get the length of a list named aList, you just need to do len(aList). This gives you the number of elements in a list."
   ]
  },
  {
   "cell_type": "code",
   "execution_count": 11,
   "metadata": {},
   "outputs": [
    {
     "name": "stdout",
     "output_type": "stream",
     "text": [
      "Things I want: ['Yeezys', 'Yeezys']\n",
      "How many yeezys: 2\n"
     ]
    }
   ],
   "source": [
    "aList = [\"Yeezys\",\"Yeezys\"]\n",
    "bList = [\"No Yeezys\"]\n",
    "\n",
    "bList = aList\n",
    "list_length = len(bList)\n",
    "\n",
    "print(\"Things I want:\", bList)\n",
    "print(\"How many yeezys:\",list_length)"
   ]
  },
  {
   "cell_type": "markdown",
   "metadata": {},
   "source": [
    "For each item in a list:\n",
    "\n",
    "If you want to do something to each item in a list, you will need to iterate over ir. an example of it is shown below."
   ]
  },
  {
   "cell_type": "code",
   "execution_count": 19,
   "metadata": {},
   "outputs": [
    {
     "name": "stdout",
     "output_type": "stream",
     "text": [
      "Original List: [1, 2, 3, 4, 5]\n",
      "Modified List: [2, 3, 4, 5, 6]\n",
      "Length of the list: 5\n"
     ]
    }
   ],
   "source": [
    "my_list = [1, 2, 3, 4, 5]\n",
    "print(\"Original List:\", my_list)\n",
    "\n",
    "for i in range(len(my_list)):\n",
    "    my_list[i] += 1\n",
    "\n",
    "print(\"Modified List:\", my_list)\n",
    "print(\"Length of the list:\", len(my_list))"
   ]
  },
  {
   "cell_type": "markdown",
   "metadata": {},
   "source": [
    "# Sum of Even Numbers of a list\n",
    "\n",
    "## Pseudocode"
   ]
  },
  {
   "cell_type": "code",
   "execution_count": 3,
   "metadata": {
    "vscode": {
     "languageId": "html"
    }
   },
   "outputs": [
    {
     "ename": "SyntaxError",
     "evalue": "invalid character '←' (U+2190) (4254972530.py, line 3)",
     "output_type": "error",
     "traceback": [
      "\u001b[0;36m  Cell \u001b[0;32mIn[3], line 3\u001b[0;36m\u001b[0m\n\u001b[0;31m    nums ← [1, 2, 3, 4, 5, 6, 7, 8, 9, 10]\u001b[0m\n\u001b[0m         ^\u001b[0m\n\u001b[0;31mSyntaxError\u001b[0m\u001b[0;31m:\u001b[0m invalid character '←' (U+2190)\n"
     ]
    }
   ],
   "source": [
    "\n",
    "sum -> 10\n",
    "nums ← [1, 2, 3, 4, 5, 6, 7, 8, 9, 10]\n",
    "even_sum ← 0\n",
    "\n",
    "FOR EACH score IN nums\n",
    "    IF score MOD 2 = 0 THEN\n",
    "        even_sum ← even_sum + score\n",
    "    END IF\n",
    "END FOR\n",
    "\n",
    "DISPLAY (\"Sum of even numbers in the list:\", even_sum)\n",
    "\n",
    "\n"
   ]
  },
  {
   "cell_type": "code",
   "execution_count": 1,
   "metadata": {
    "vscode": {
     "languageId": "powershell"
    }
   },
   "outputs": [
    {
     "name": "stdout",
     "output_type": "stream",
     "text": [
      "Sum of even numbers in the list: 30\n"
     ]
    }
   ],
   "source": [
    "nums = [1, 2, 3, 4, 5, 6, 7, 8, 9, 10]\n",
    "even_sum = 0\n",
    "for score in nums:\n",
    "    if score % 2 == 0: # Check if the remainder when divided by 2 is 0 (even number)\n",
    "        even_sum += score # If previous requirement is fulfilled, add to sum\n",
    "print(\"Sum of even numbers in the list:\", even_sum)"
   ]
  },
  {
   "cell_type": "code",
   "execution_count": null,
   "metadata": {
    "vscode": {
     "languageId": "html"
    }
   },
   "outputs": [],
   "source": [
    "## Overview of  Python and College Board Pseudo Code\n",
    "\n",
    "\n",
    "Creating a List\n",
    "Python: my_list = [1, 2, 3]\n",
    "Pseudo Code: my_list ← [1, 2, 3]\n",
    "\n",
    "Accessing Elements\n",
    "Python: value = my_list[index]\n",
    "Pseudo Code: value <- my_list[index]\n",
    "\n",
    "Appending Elements\n",
    "Python: my_list.append(new_value)\n",
    "Pseudo Code: Append new_value to my_list\n",
    "\n",
    "Inserting Elements\n",
    "Python: my_list.insert(index, new_value)\n",
    "Pseudo Code: Insert new_value at index in my_list\n",
    "\n",
    "Removing Elements\n",
    "Python: my_list.remove(value)\n",
    "Pseudo Code: Remove value from my_list\n",
    "\n",
    "Modifying Elements\n",
    "Python: my_list[index] = new_value\n",
    "Pseudo Code: my_list[index] <- new_value\n",
    "\n",
    "Checking Length\n",
    "Python: length = len(my_list)\n",
    "Pseudo Code: length <- Length of my_list\n",
    "\n",
    "Iterating through a List\n",
    "Python: for item in my_list: \n",
    "{ <block of statement> }\n",
    "Pseudo Code: For each item in my_list: \n",
    "{ <block of statement> }\n",
    "\n",
    "\n",
    "\n",
    "\n",
    "Checking for Existence\n",
    "Python: if value in my_list:\n",
    "{ <block of statement> }\n",
    "Pseudo Code: If value is in my_list: \n",
    "{ <block of statement> }\n",
    "\n",
    "List Slicing\n",
    "Python: sub_list = my_list[start:end]\n",
    "Pseudo Code: sub_list <- my_list[start:end]"
   ]
  },
  {
   "cell_type": "markdown",
   "metadata": {},
   "source": [
    "## Hacks\n",
    "\n",
    "Review each of the following and produce....\n",
    "\n",
    "- A  list (with user input) using objects with different types and attributes. \n",
    "- Create a function that find the maximum and minimum number in a list using iteration "
   ]
  }
 ],
 "metadata": {
  "kernelspec": {
   "display_name": "Python 3",
   "language": "python",
   "name": "python3"
  },
  "language_info": {
   "codemirror_mode": {
    "name": "ipython",
    "version": 3
   },
   "file_extension": ".py",
   "mimetype": "text/x-python",
   "name": "python",
   "nbconvert_exporter": "python",
   "pygments_lexer": "ipython3",
   "version": "3.11.4"
  },
  "orig_nbformat": 4
 },
 "nbformat": 4,
 "nbformat_minor": 2
}
