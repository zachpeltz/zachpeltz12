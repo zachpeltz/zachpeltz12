{
 "cells": [
  {
   "cell_type": "raw",
   "metadata": {
    "vscode": {
     "languageId": "raw"
    }
   },
   "source": [
    "---\n",
    "toc: false\n",
    "comments: true\n",
    "layout: post\n",
    "title: 3.1 Variables and Assignments\n",
    "description: Student led teaching on Variables and Assignments.  Learn how variables store information and are manipulated in a program.\n",
    "permalink: /csp/big-idea/3-1\n",
    "categories: [CSP Big Ideas]\n",
    "author: Christina, Shubhay, Arushi, Harkirat, Aashray\n",
    "menu: nav/csp_units/csp_unit3_p1_fundamentals.html\n",
    "---"
   ]
  },
  {
   "cell_type": "markdown",
   "metadata": {},
   "source": [
    "## Variables \n",
    "\n",
    "A Variable is defined as an abstraction inside of a program that can hold a value or values.\n",
    "\n",
    "Variables can be named from letters like n for number, or description like name or fav_food.  The point of these names is to store some sort of Data to a sensible name.\n",
    "\n",
    "```python\n",
    "n = 10\n",
    "name = \"Gerald\"\n",
    "fav_food = \"Cookies\"\n",
    "```\n",
    "\n",
    "`Popcorn Hack`: Try making your own set of 3 variable variables\n"
   ]
  },
  {
   "cell_type": "code",
   "execution_count": 5,
   "metadata": {},
   "outputs": [],
   "source": [
    "# Popcorn Hack Cell\n",
    "\n",
    "# Run this cell to define the variables in Python\n",
    "\n",
    "n = 10\n",
    "name = \"Gerald\"\n",
    "fav_food = \"Cookies\"\n",
    "\n",
    "# Complete the Popcorn Hack from the Variables cell\n",
    "\n",
    "# How could you tell if Python is storing the variables correctly?\n"
   ]
  },
  {
   "cell_type": "markdown",
   "metadata": {},
   "source": [
    "<hr style=\"solid\">\n",
    "\n",
    "## Variable Naming\n",
    "\n",
    "This brings us to the topic of naming Variables. The names of variables are really important when working in groups. For example when one of your teammates review your code they use the names of your variables to quickly understand your code. In the code above you can understand that the variable fav_food represents a favorite food\n",
    "\n",
    "There are 3 Important Coding Practices to follow when it comes to naming variables\n",
    "\n",
    "### SnakeCase\n",
    "\n",
    "SnakeCase is where you replace spaces in the words in a variable names to an underscore.  This is the standard naming convention for variables in Python.\n",
    "\n",
    "```python\n",
    "name_one = \"Aashray\"\n",
    "```\n",
    "Here's an example of a SnakeCase variable that uses a _ as a space. \n",
    "\n",
    "`Popcorn Hacks`:  Now try making your own SnakeCase variable and set the variable equal to a integer. \n",
    "\n",
    "### PascalCase\n",
    "\n",
    "PascalCase is where you capitialize every word in your variable, but keep it all as one singluar phrase with no spaces.  Altough this is shown in example, it should not be used for varialbes in Python.  This is reserved for class names.\n",
    "\n",
    "```python\n",
    "NameOne = \"Chrissie\"\n",
    "```\n",
    "\n",
    "Here you can clearly see that the vairable has two diffrent words, and we didn't need to use a space to seperate it. \n",
    "\n",
    "`Popcorn Hack`: Try making your own PascalCase variable\n",
    "\n",
    "### CamelCase\n",
    "\n",
    "CamelCase is where you captalize the second and subsequent words in the variable name.  This is not normally used in Python conventions.\n",
    "\n",
    "```python\n",
    "nameOne = \"Arushi\"\n",
    "```\n",
    "\n",
    "Here the One is captalized to indicate a second word in the variable without using a space.\n",
    "\n",
    "`PopCorn Hack`: Try making your own CamelCase"
   ]
  },
  {
   "cell_type": "code",
   "execution_count": 4,
   "metadata": {},
   "outputs": [
    {
     "name": "stdout",
     "output_type": "stream",
     "text": [
      "Aashray Chrissie Arushi\n"
     ]
    }
   ],
   "source": [
    "# Popcorn Hack Cell\n",
    "name_one = \"Aashray\"\n",
    "NameOne = \"Chrissie\"\n",
    "nameOne = \"Arushi\"\n",
    "\n",
    "# All three variables are different.  Programming languages are sensitive to snake case, upper case, etc.\n",
    "print(name_one, NameOne, nameOne)\n",
    "\n",
    "# Complete the Popcorn Hack from the previous Variable Naming cell"
   ]
  },
  {
   "cell_type": "markdown",
   "metadata": {},
   "source": [
    "## Variable Types\n",
    "\n",
    "Earlier we explained how to assign variables and properly name them. However in the code above even though I followed all these steps and properly named them I ran into a error.\n",
    "\n",
    "This is because the types of data, string and int cannot be added. But what are integers and strings?\n",
    "\n",
    "In python there are multiple types of data that a variable can be, for now lets look at the most commonly use ones.\n",
    "\n",
    "### Integers\n",
    "\n",
    "Integers are numerical values such as 1, 2, 3, 4 or -1, -2, -3, etc. These are numbers with no decimals and are usually called \"ints\".\n",
    "\n",
    "```python\n",
    "# Python integer assignment, loosely typed\n",
    "n = 3\n",
    "```\n",
    "\n",
    "In this case (loosely typed), we call the variable `n` and assign it the number `3`. You don't need to specify the data type before the variable in Python. \n",
    "\n",
    "However, in other languages like Java or C++ (strongly typed), you need to prefix the variable name with the word int.\n",
    "\n",
    "```java\n",
    "// Java integer assignment using type prefix, strongly typed\n",
    "int n = 3;\n",
    "```\n",
    "\n",
    "### Strings\n",
    "\n",
    "Strings are a chain of text, numbers or charcters that are all inside of \" \"\n",
    "\n",
    "```python\n",
    "# camel case, not typically used in python\n",
    "cookiesStatement = \"My Fav cookies are Choclate Chip\"\n",
    "# snake case\n",
    "cookies_statement = \"My Fav cookies are Choclate Chip\"\n",
    "```\n",
    "\n",
    "Here we set a string cookieStatement \"My Fav Cookies are Choclate Chip\"  The \" \" marks are what determine it is a string in Python and most coding languages.\n",
    "\n",
    "### Boolean\n",
    "\n",
    "Booleans are True or False, and they are used for condtional statements\n",
    " \n",
    "\n",
    "```python\n",
    "ChrissieGetsSleep = False\n",
    "    \n",
    "if ChrissieGetsSleep = True:\n",
    "    return 1 \n",
    " else: \n",
    "    return 0\n",
    "```\n",
    "\n",
    "Here we have a if statement that checks if the boolean variable is currently true and if its true it will return 1, but if its false it will return 0.\n",
    "\n",
    "### Float\n",
    "\n",
    "Floats are numbers that can have decimal values\n",
    "```python\n",
    "pi = 3.1415\n",
    "```\n",
    "\n",
    "In this case we assign pi to be 3.1415, and this is a float because of its decimal points.\n",
    "\n",
    "### Lists\n",
    "\n",
    "Lists are ordered collections of items in Python. They can contain a mix of different data types, including integers, floats, strings, and more.  However, it is more common to have list contain the same data type.\n",
    "\n",
    "```python\n",
    "my_list = [1, 2, 3, 4, 5]\n",
    "```\n",
    "\n",
    "In this list we have define a series of integers.\n",
    "\n",
    "### Dictionaries in Python\n",
    "\n",
    "Dictionaries are versatile data structures in Python that store key-value pairs. Each value in a dictionary is associated with a unique key, which allows for efficient lookups and retrieval of values.\n",
    "\n",
    "```python\n",
    "my_dict = {\n",
    "    \"name\": \"Alice\",\n",
    "    \"age\": 30,\n",
    "    \"city\": \"San Diego\"\n",
    "}\n",
    "```\n",
    "\n",
    "In this dictionary we are collecting data to represent the attributes of a person."
   ]
  },
  {
   "cell_type": "code",
   "execution_count": 3,
   "metadata": {},
   "outputs": [
    {
     "name": "stdout",
     "output_type": "stream",
     "text": [
      "Example 1: Hello Jane Doe is see you are 18 years old.\n",
      "Exammpl 2: Hello Jane Doe is see you are 18 years old.\n",
      "Example 3: Hello Jane Doe is see you are 18 years old.\n"
     ]
    }
   ],
   "source": [
    "# Data types cell\n",
    "\n",
    "# Variable names in Python typically follow snake_case \n",
    "friendly_greeting = \"Hello\"\n",
    "my_name = \"Jane Doe\"\n",
    "my_age = 18\n",
    "\n",
    "# Printing data types often requires mixing types and formatting them correctly\n",
    "\n",
    "# print with concatenation\n",
    "print(\"Example 1: \" + friendly_greeting + \" \" + my_name + \" is see you are \" + str(my_age) + \" years old.\")\n",
    "\n",
    "# or you can use f-strings\n",
    "print(f\"Exammpl 2: {friendly_greeting} {my_name} is see you are {my_age} years old.\")\n",
    "\n",
    "# or you can separate the variable in the print statement\n",
    "print(\"Example 3:\", friendly_greeting, my_name, \"is see you are\", my_age, \"years old.\")\n"
   ]
  },
  {
   "cell_type": "markdown",
   "metadata": {},
   "source": [
    "## Addition versus Concatenation\n",
    "Operaterors such as + will produce different results on different data types.  Most are familiar with + on numbers, but on characters it connects the sequences of characters.  This connection is called concatenation."
   ]
  },
  {
   "cell_type": "code",
   "execution_count": null,
   "metadata": {},
   "outputs": [],
   "source": [
    "# Addition of two integer variables\n",
    "\n",
    "int1 = 1\n",
    "int2 = 2\n",
    "print(\"Concatation between two non strings in a print statement will EVALUATE them.\")\n",
    "print(\"Notice how they get ADDED together.\")\n",
    "print(int1 + int2)\n",
    "print()\n",
    "\n",
    "# Concatenation of two string variables\n",
    "\n",
    "print(\"Concatation between two  strings in a print statement will CONNECT them.\")\n",
    "print(\"Notice how they get CONNECTED together.\")\n",
    "string1 = \"1\"\n",
    "string2 = \"2\"\n",
    "print(string1 + string2) # notice how this CONNECTS the variables\n",
    "\n",
    "# Print statements like the above can be used to EVALUATE the result of + on two variables"
   ]
  },
  {
   "cell_type": "markdown",
   "metadata": {},
   "source": [
    "## Hacks\n",
    "Review each of the sections above and produce a python program that stores:\n",
    "- Name as a string\n",
    "- Age as a integer\n",
    "- Favorite food as a string\n",
    "- Mix the name, age, food into a List and a Dictionary\n",
    "\n",
    "1. Be sure to follow Snake case convention for your variables\n",
    "2. Build your own code cell(s) that define each variable types\n",
    "3. Experiment with the + operator on string types, integer types, and float types.  What operations can the + operator perform?\n",
    "4. Provide comments and outputs in the cell that are easy to follow"
   ]
  }
 ],
 "metadata": {
  "kernelspec": {
   "display_name": "Python 3",
   "language": "python",
   "name": "python3"
  },
  "language_info": {
   "codemirror_mode": {
    "name": "ipython",
    "version": 3
   },
   "file_extension": ".py",
   "mimetype": "text/x-python",
   "name": "python",
   "nbconvert_exporter": "python",
   "pygments_lexer": "ipython3",
   "version": "3.11.9"
  },
  "orig_nbformat": 4
 },
 "nbformat": 4,
 "nbformat_minor": 2
}
