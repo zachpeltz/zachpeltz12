{
 "cells": [
  {
   "cell_type": "raw",
   "metadata": {
    "vscode": {
     "languageId": "raw"
    }
   },
   "source": [
    "---\n",
    "toc: false\n",
    "comments: true\n",
    "layout: post\n",
    "title: 3.2 Data Abstraction\n",
    "description: Student led teaching on Data Abstraction. Learn how data abstraction involves managing complexity in programs\n",
    "permalink: /csp/big-idea/3-2\n",
    "categories: [CSP Big Ideas]\n",
    "author: Christina, Shubhay, Arushi, Harkirat, Aashray\n",
    "menu: nav/csp_units/csp_unit3_p1_fundamentals.html\n",
    "---"
   ]
  },
  {
   "cell_type": "markdown",
   "metadata": {},
   "source": [
    "<hr style=\"solid\">\n",
    "\n",
    "## Data Abstraction\n",
    "\n",
    "\n",
    "## Choosing the Right Data Type in Python\n",
    "\n",
    "In Python, choosing the appropriate data type for your variables is essential to ensure efficient and correct program execution. Here's when to use some common data types:\n",
    "\n",
    "### Integers (`int`)\n",
    "\n",
    "- **Use Cases**: Use integers when you need to represent whole numbers without fractional parts. Integers are suitable for counting, indexing, and performing integer arithmetic.\n",
    "\n",
    "### Floating-Point Numbers (`float`)\n",
    "\n",
    "- **Use Cases**: Use floating-point numbers when you need to represent real numbers with decimal points. They are suitable for calculations that involve fractions or decimal values.\n",
    "\n",
    "### Strings (`str`)\n",
    "\n",
    "- **Use Cases**: Use strings when you need to work with text data, such as names, sentences, or any sequence of characters. Strings are versatile and can store both plain text and formatted text.\n",
    "\n",
    "### Lists (`list`)\n",
    "\n",
    "- **Use Cases**: Use lists when you need an ordered collection of items that can be modified. Lists are ideal for storing multiple values of the same or different data types.\n",
    "\n",
    "### Tuples (`tuple`)\n",
    "\n",
    "- **Use Cases**: Use tuples when you need an ordered collection of items that should remain immutable (unchangeable). Tuples are useful for representing fixed sequences of data.\n",
    "\n",
    "### Dictionaries (`dict`)\n",
    "\n",
    "- **Use Cases**: Use dictionaries when you need to store key-value pairs, where each key maps to a specific value. Dictionaries are efficient for looking up values based on keys.\n",
    "\n",
    "### Sets (`set`)\n",
    "\n",
    "- **Use Cases**: Use sets when you need an unordered collection of unique elements. Sets are useful for tasks like removing duplicates from a list or performing set operations.\n",
    "\n",
    "### Booleans (`bool`)\n",
    "\n",
    "- **Use Cases**: Use booleans to represent binary values, such as `True` or `False`. They are essential for making decisions and controlling the flow of your program using conditional statements.\n",
    "\n",
    "### None (`NoneType`)\n",
    "\n",
    "- **Use Cases**: Use `None` when you want to represent the absence of a value or indicate that a variable has no assigned value. It's often used as a placeholder or default initial value.\n",
    "\n",
    "Choosing the right data type helps make your code more readable, efficient, and easier to maintain. Understanding the characteristics and limitations of each data type is essential for effective Python programming.\n"
   ]
  },
  {
   "cell_type": "markdown",
   "metadata": {},
   "source": [
    "<hr style=\"solid\">\n",
    "\n",
    "## Represent a list or string using a variable."
   ]
  },
  {
   "cell_type": "code",
   "execution_count": null,
   "metadata": {},
   "outputs": [],
   "source": [
    "# We are going to cover representing lists or strings with a variable. \n",
    "# A list is an ordered sequence of elements. An element is an individual value in a list that is assigned a unique index.\n",
    "\n",
    "# For example, if I have a grocery list with milk, eggs, and cookies, each item is an element. \n",
    "groceryList = [\"milk\", \"eggs\", \"cookies\"] \n",
    "#               one ^  two ^    three ^\n",
    "\n",
    "# The index is a method for referencing the elements in the list. For example, if I reference item 1, it will be milk.\n",
    "\n",
    "# IMPORTANT: most if not all programming languages index at 0. This means that the 0th element would be milk and the 1st element is eggs. \n",
    "# For the AP Exam, indexing will be at 1.\n",
    "\n",
    "\n",
    "# Next is a string which is an ordered sequence of characters. \n",
    "# This may contain letters, numbers, and special characters. Examples include:\n",
    "string = \"Perry\"\n",
    "string2 = \"12\"\n",
    "string3 = \"!@#\"\n",
    "stringn4 = \"Perry12!@#\""
   ]
  },
  {
   "cell_type": "markdown",
   "metadata": {},
   "source": [
    "### Develop data abstraction using lists to store multiple elements.\n"
   ]
  },
  {
   "cell_type": "code",
   "execution_count": null,
   "metadata": {},
   "outputs": [],
   "source": [
    "# Data abstraction allows for the reduction of a particular body of data to a simplified representation of the whole. \n",
    "# For example, saying that I have a “grocery list” is a lot easier than saying “I have a list with milk, eggs, and cookies.” \n",
    "groceryList = [\"milk\", \"eggs\", \"cookies\"] \n",
    "# bundle ^\n",
    "\n",
    "# In this example, we bundle this data into one term and simplify it. \n",
    "# In programming, you can bundle variables together by type and you can name your bundle (name your list). \n",
    "# With a list, you don’t need to know how many variables will be needed or how the elements will be stored together. \n",
    "# The exam reference sheet will provide notation for lists."
   ]
  },
  {
   "cell_type": "markdown",
   "metadata": {},
   "source": [
    "### How does data abstraction manage complexity in program code?"
   ]
  },
  {
   "cell_type": "code",
   "execution_count": 3,
   "metadata": {},
   "outputs": [
    {
     "name": "stdout",
     "output_type": "stream",
     "text": [
      "Initial List\n",
      "['milk', 'eggs', 'cookies']\n",
      "Print List with Flour addeded\n",
      "['milk', 'chocolate', 'cookies', 'flour']\n",
      "Print List with Milk removed\n",
      "['chocolate', 'cookies', 'flour']\n"
     ]
    }
   ],
   "source": [
    "# Data abstraction can manage complexity in programs by bundling data together. \n",
    "# This can result in a program that is easier to develop and maintain. \n",
    "# It also allows multiple related items to be treated as a single value. \n",
    "\n",
    "# You also need less variables since one variable holds all the other ones and it allows you to easily modify these variables.\n",
    "groceryList = [\"milk\", \"eggs\", \"cookies\"] # nice and short\n",
    "\n",
    "# long and bad\n",
    "item1 = \"milk\"\n",
    "item2 = \"eggs\"\n",
    "item3 = \"cookies\"\n",
    "\n",
    "# modify variables:\n",
    "groceryList = [\"milk\", \"eggs\", \"cookies\"] # nice and short\n",
    "print(\"Initial List\")\n",
    "print(groceryList)\n",
    "\n",
    "# replace the index 1 with chocolate\n",
    "groceryList[1] = \"chocolate\" # notice how index 1 is the 2nd element (AP exam index at 1)\n",
    "\n",
    "# add a new element\n",
    "groceryList.append(\"flour\")\n",
    "print(\"Print List with Flour addeded\")\n",
    "print(groceryList)\n",
    "\n",
    "\n",
    "# remove element\n",
    "groceryList.remove(\"milk\")\n",
    "print(\"Print List with Milk removed\")\n",
    "print(groceryList)\n"
   ]
  },
  {
   "cell_type": "markdown",
   "metadata": {},
   "source": [
    "<hr style=\"solid\">\n",
    "\n",
    "## JSON implementation\n",
    "\n",
    "JSON stands for JavaScript Object Notation. It is a lightweight format for storing and transporting data. It has several uses. For example, if someone is managing an inventory of cars, they can use JSON to import data and export it.\n",
    "\n",
    "JSON is used when data is sent from a web server to a webpage.\n",
    "\n",
    "So the car person can use JSON to display their current inventory of cars to sell on their webpage.\n",
    "\n",
    "### Converting from PYTHON TO JSON"
   ]
  },
  {
   "cell_type": "code",
   "execution_count": 14,
   "metadata": {},
   "outputs": [
    {
     "name": "stdout",
     "output_type": "stream",
     "text": [
      "{\"name\": \"John\", \"age\": 30, \"city\": \"New York\"}\n"
     ]
    }
   ],
   "source": [
    "import json # you will need to import this library\n",
    "\n",
    "# python dictionary\n",
    "x = {\n",
    "  \"name\": \"John\",\n",
    "  \"age\": 30,\n",
    "  \"city\": \"New York\"\n",
    "}\n",
    "\n",
    "# convert into JSON\n",
    "# we first CALL the library and use the dumps() function\n",
    "# to call the library and use dumps(), we do json.dumps()\n",
    "\n",
    "# note: do you know of function machines in math? where you put in the variable, it does some operations, and outputs it?\n",
    "#       a code function is the same! it takes some data, does some code on it, and outputs it!\n",
    "\n",
    "\n",
    "# essentially, we say \"Hey! JSON library! I would like to use your dumps() function!\"\n",
    "# and then we give the function what we want to dump: \"Here is the thing I want to dump into JSON!\"\n",
    "# then the library says back \"Here you go! Here's your JSON! I stored it in the y variable!\"\n",
    "y = json.dumps(x) \n",
    "\n",
    "\n",
    "print(y) # the result is a JSON string"
   ]
  },
  {
   "cell_type": "markdown",
   "metadata": {},
   "source": [
    "### Formatting"
   ]
  },
  {
   "cell_type": "code",
   "execution_count": 15,
   "metadata": {},
   "outputs": [
    {
     "name": "stdout",
     "output_type": "stream",
     "text": [
      "Indent\n",
      "{\n",
      "    \"name\": \"John\",\n",
      "    \"age\": 30,\n",
      "    \"city\": \"New York\"\n",
      "}\n",
      "\n",
      "Indent + seperator\n",
      "{\n",
      "    \"name\" = \"John\".\n",
      "    \"age\" = 30.\n",
      "    \"city\" = \"New York\"\n",
      "}\n",
      "\n",
      "Indent + seperator + sorted\n",
      "{\n",
      "    \"age\" = 30.\n",
      "    \"city\" = \"New York\".\n",
      "    \"name\" = \"John\"\n",
      "}\n"
     ]
    }
   ],
   "source": [
    "# the result above isn't easy to read. let's fix that by formatting!\n",
    "\n",
    "import json\n",
    "\n",
    "x = {\n",
    "  \"name\": \"John\",\n",
    "  \"age\": 30,\n",
    "  \"city\": \"New York\"\n",
    "}\n",
    "\n",
    "print(\"Indent\")\n",
    "y = json.dumps(x, indent=4) # we call the function but say \"Please indent it for me!\"\n",
    "print(y + \"\\n\") # the \"\\n\" is a newline seperator and adds a space between each print statement\n",
    "\n",
    "print(\"Indent + seperator\")\n",
    "y = json.dumps(x, indent=4, separators=(\".\", \" = \")) # we change the seperator\n",
    "print(y + \"\\n\")\n",
    "\n",
    "print(\"Indent + seperator + sorted\")\n",
    "y = json.dumps(x, indent=4, separators=(\".\", \" = \"), sort_keys=True) # now we are sorting them\n",
    "print(y)\n"
   ]
  },
  {
   "cell_type": "markdown",
   "metadata": {},
   "source": [
    "### Converting from PYTHON TO JSON"
   ]
  },
  {
   "cell_type": "code",
   "execution_count": 4,
   "metadata": {},
   "outputs": [
    {
     "name": "stdout",
     "output_type": "stream",
     "text": [
      "30\n"
     ]
    }
   ],
   "source": [
    "import json\n",
    "\n",
    "x =  '{ \"name\":\"John\", \"age\":30, \"city\":\"New York\"}' # some JSON\n",
    "\n",
    "y = json.loads(x) # parse with loads() function\n",
    "\n",
    "print(y[\"age\"]) # the result is a Python dictionary"
   ]
  },
  {
   "cell_type": "markdown",
   "metadata": {},
   "source": [
    "### Challenge Problem"
   ]
  },
  {
   "cell_type": "code",
   "execution_count": 6,
   "metadata": {},
   "outputs": [
    {
     "name": "stdout",
     "output_type": "stream",
     "text": [
      "Ingredients: ['butter', 'white sugar', 'light brown sugar', 'vanilla extract', 'eggs', 'flour', 'chocolate chips', 'baking soda', 'salt', 'baking powder']\n",
      "Ingredients: ['butter', 'white sugar', 'light brown sugar', 'vanilla extract', 'eggs', 'chocolate chips']\n",
      "Cream: ['butter', 'white sugar', 'light brown sugar', 'vanilla extract', 'eggs']\n",
      "Ingredients: ['chocolate chips']\n",
      "Dough: ['flour', 'baking soda', 'salt', 'baking powder', 'butter', 'white sugar', 'light brown sugar', 'vanilla extract', 'eggs']\n",
      "Dowgh2 ['flour', 'baking soda', 'salt', 'baking powder', 'butter', 'white sugar', 'light brown sugar', 'vanilla extract', 'eggs']\n",
      "Complete Dough: ['flour', 'baking soda', 'salt', 'baking powder', 'butter', 'white sugar', 'light brown sugar', 'vanilla extract', 'eggs', 'chocolate chips']\n",
      "Empty Ingredients: []\n"
     ]
    }
   ],
   "source": [
    "ingredients = [\"butter\", \"white sugar\", \"light brown sugar\", \"vanilla extract\", \"eggs\", \"flour\", \"chocolate chips\", \"baking soda\", \"salt\", \"baking powder\"]\n",
    "# Print this list\n",
    "\n",
    "# << CODE >>\n",
    "print(\"Ingredients:\", ingredients)\n",
    "\n",
    "# Create a list called bowl\n",
    "# Your list must include:\n",
    "# \"flour\"\n",
    "# \"baking soda\"\n",
    "# \"salt\"\n",
    "# \"baking powder\"\n",
    "# When creating this list, make sure to remove these items from the \"ingredients\" list!\n",
    "# Print your list\n",
    "\n",
    "# << CODE >>\n",
    "bowl = [\"flour\", \"baking soda\", \"salt\", \"baking powder\"]\n",
    "print(\"Bowl:\", bowl)\n",
    "# list comprehension\n",
    "ingredients = [ingredient for ingredient in ingredients if ingredient not in bowl]\n",
    "print(\"Ingredients:\", ingredients)\n",
    "\n",
    "# Create a list called cream\n",
    "# Include:\n",
    "# \"butter\"\n",
    "# \"white sugar\"\n",
    "# \"light brown sugar\"\n",
    "# \"vanilla extract\"\n",
    "# \"eggs\"\n",
    "# When creating this list, make sure to remove these items from the \"ingredients\" list!\n",
    "# Print your list\n",
    "\n",
    "# << CODE >>\n",
    "cream = [\"butter\", \"white sugar\", \"light brown sugar\", \"vanilla extract\", \"eggs\"]\n",
    "print(\"Cream:\", cream)\n",
    "# for loop\n",
    "for c in cream:\n",
    "    ingredients.remove(c)\n",
    "print(\"Ingredients:\", ingredients)\n",
    "\n",
    "# Create a list called \"dough\"\n",
    "# Combine the bowl list and cream list together\n",
    "# Print your list\n",
    "\n",
    "# << CODE >>\n",
    "dough = []\n",
    "for b in bowl:\n",
    "    dough.append(b)\n",
    "for c in cream:\n",
    "    dough.append(c)\n",
    "print(\"Dough:\", dough)\n",
    "\n",
    "# short way\n",
    "dough2 = bowl + cream\n",
    "print(\"Dowgh2\", dough2)\n",
    "\n",
    "# Append chocolate chips to the dough list and remove it from the ingredients list\n",
    "# Print the list\n",
    "\n",
    "# << CODE >>\n",
    "dough += [ingredients.pop()]\n",
    "print(\"Complete Dough:\", dough)\n",
    "print(\"Empty Ingredients:\", ingredients)\n",
    "\n",
    "# Create a string that says \"Now roll the dough into balls and place them on cookie sheets!\"\n",
    "# Print it\n",
    "\n",
    "# << CODE >>\n",
    "\n",
    "# Create an int called temperature and set it to 375\n",
    "# Print \"Place in a <<your integer goes here>> F oven for 8-10 minutes and remove just before they start to turn brown.\"\n",
    "\n",
    "# << CODE >>\n",
    "\n",
    "# Create an int called \"cool down\" using pascal case and set it to 2\n",
    "# Print \"Let them sit on the baking pan for <<your integer goes here>> minutes before removing to cooling rack.\"\n",
    "\n",
    "# << CODE >>\n",
    "\n",
    "# Create 5 string (use whatever casing you feel)\n",
    "# First string should be \"Enjoy\"\n",
    "# Second string should be \"your\"\n",
    "# Third string should be \"CHOCOLATE\"\n",
    "# Fourth string should be \"CHIP\"\n",
    "# Fifth string should be \"COOKIES!!!\"\n",
    "# Using ONE print statement, print ALL of these variables (with a space between each)\n",
    "\n",
    "# << CODE >>\n",
    "\n",
    "# JSON CHALLENGE\n",
    "# can your do the whole project by using a JSON list?\n",
    "# can you convert it to a python dictionary and do all these steps?\n",
    "\n",
    "# Yes this is a real cookie recipe. You can find it below if you wanna make them! :)\n",
    "# https://joyfoodsunshine.com/the-most-amazing-chocolate-chip-cookies/"
   ]
  },
  {
   "cell_type": "code",
   "execution_count": 1,
   "metadata": {},
   "outputs": [
    {
     "name": "stdout",
     "output_type": "stream",
     "text": [
      "['butter', 'white sugar', 'light brown sugar', 'vanilla extract', 'eggs', 'chocolate chips']\n"
     ]
    }
   ],
   "source": [
    "ingredients = [\"butter\", \"white sugar\", \"light brown sugar\", \"vanilla extract\", \"eggs\", \"flour\", \"chocolate chips\", \"baking soda\", \"salt\", \"baking powder\"]\n",
    "bowl = [\"flour\", \"baking soda\", \"salt\", \"baking powder\"]\n",
    "\n",
    "ingredients = [item for item in ingredients if item not in bowl]\n",
    "\n",
    "print(ingredients)\n"
   ]
  },
  {
   "cell_type": "markdown",
   "metadata": {},
   "source": [
    "## Hacks\n",
    "Review each of the sections above and produce ...\n",
    "\n",
    "1. A list of data that could work with your personal project\n",
    "2. A dictionary of data that could work with your personal project\n",
    "3. Try to create a mix of list and dictionaries to represent a real world collection of data.\n"
   ]
  }
 ],
 "metadata": {
  "kernelspec": {
   "display_name": "Python 3",
   "language": "python",
   "name": "python3"
  },
  "language_info": {
   "codemirror_mode": {
    "name": "ipython",
    "version": 3
   },
   "file_extension": ".py",
   "mimetype": "text/x-python",
   "name": "python",
   "nbconvert_exporter": "python",
   "pygments_lexer": "ipython3",
   "version": "3.11.4"
  },
  "orig_nbformat": 4
 },
 "nbformat": 4,
 "nbformat_minor": 2
}
