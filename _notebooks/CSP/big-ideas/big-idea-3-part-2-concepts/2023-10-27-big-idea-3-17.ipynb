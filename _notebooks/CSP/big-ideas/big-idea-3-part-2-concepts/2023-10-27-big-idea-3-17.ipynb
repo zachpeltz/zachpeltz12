{
 "cells": [
  {
   "cell_type": "raw",
   "metadata": {
    "vscode": {
     "languageId": "raw"
    }
   },
   "source": [
    "---\n",
    "toc: false\n",
    "comments: true\n",
    "layout: post\n",
    "title: 3.17 Algorithmic Efficiency\n",
    "description: A supplemental blog on algorithmic efficiency. Learn how efficient algorithms solve problems faster and with less resource consumption.\n",
    "permalink: /csp/big-idea/3-17\n",
    "categories: [CSP Big Ideas]\n",
    "author: Isabel Marilla\n",
    "menu: nav/csp_units/csp_unit3_p2_concepts.html\n",
    "---"
   ]
  },
  {
   "cell_type": "markdown",
   "metadata": {},
   "source": [
    "## Algorithmic Efficiency "
   ]
  },
  {
   "cell_type": "markdown",
   "metadata": {},
   "source": [
    "## Introduction\n",
    "\n",
    "`Algorithmic efficiency` refers to the resources an algorithm uses in terms of time and space (memory). Understanding algorithmic efficiency is crucial for writing programs that perform well, especially as the size of the input grows.\n",
    "\n",
    "## Objectives\n",
    "\n",
    "By the end of this lesson, students will be able to:\n",
    "1. **Understand what algorithmic efficiency is.**\n",
    "2. **Analyze the time complexity of algorithms using Big O notation.**\n",
    "3. **Write pseudocode and Python code to demonstrate efficient algorithms.**\n",
    "\n",
    "## Key Concepts\n",
    "\n",
    "1. `Time Complexity`: A measure of the amount of time an algorithm takes to complete as a function of the length of the input.\n",
    "2. `Space Complexity`: A measure of the amount of memory an algorithm uses as a function of the length of the input.\n",
    "3. `Big O Notation`: A mathematical notation that describes the limiting behavior of a function when the argument tends towards a particular value or infinity.\n",
    "\n",
    "## Example Syntax (College Board Pseudocode)**\n",
    "\n",
    "College Board pseudocode uses basic constructs to represent algorithms. Here is an example of a simple loop:\n",
    "\n",
    "```plaintext\n",
    "FOR i ← 1 TO n\n",
    "{\n",
    "    // Code block to execute n times\n",
    "}"
   ]
  },
  {
   "cell_type": "markdown",
   "metadata": {},
   "source": [
    "`Example 1: Linear Search`\n",
    "\n",
    "## Pseudocode\n",
    "Let's write pseudocode for a linear search, which has a time complexity of O(n). This algorithm has a linear time complexity."
   ]
  },
  {
   "cell_type": "code",
   "execution_count": null,
   "metadata": {
    "vscode": {
     "languageId": "html"
    }
   },
   "outputs": [],
   "source": [
    "index ← -1\n",
    "FOR i ← 1 TO n\n",
    "{\n",
    "    IF array[i] = target\n",
    "    {\n",
    "        index ← i\n",
    "        BREAK\n",
    "    }\n",
    "}\n",
    "DISPLAY index\n"
   ]
  },
  {
   "cell_type": "markdown",
   "metadata": {},
   "source": [
    "## Python\n",
    "Here is the equivalent Python code:\n",
    "\n"
   ]
  },
  {
   "cell_type": "code",
   "execution_count": 1,
   "metadata": {
    "vscode": {
     "languageId": "html"
    }
   },
   "outputs": [
    {
     "name": "stdout",
     "output_type": "stream",
     "text": [
      "2\n"
     ]
    }
   ],
   "source": [
    "def linear_search(array, target):\n",
    "    index = -1\n",
    "    for i in range(len(array)):\n",
    "        if array[i] == target:\n",
    "            index = i\n",
    "            break\n",
    "    return index\n",
    "\n",
    "array = [1, 2, 3, 4, 5]\n",
    "target = 3\n",
    "print(linear_search(array, target))  # Output: 2\n"
   ]
  },
  {
   "cell_type": "markdown",
   "metadata": {},
   "source": [
    "`Example 2: Binary Search`\n",
    "\n",
    "## Pseudocode\n",
    "\n",
    "Let's write pseudocode for a binary search, which has a time complexity of O(log n):"
   ]
  },
  {
   "cell_type": "code",
   "execution_count": null,
   "metadata": {
    "vscode": {
     "languageId": "html"
    }
   },
   "outputs": [],
   "source": [
    "left ← 0\n",
    "right ← n - 1\n",
    "index ← -1\n",
    "WHILE left <= right\n",
    "{\n",
    "    mid ← (left + right) / 2\n",
    "    IF array[mid] = target\n",
    "    {\n",
    "        index ← mid\n",
    "        BREAK\n",
    "    }\n",
    "    ELSE IF array[mid] < target\n",
    "    {\n",
    "        left ← mid + 1\n",
    "    }\n",
    "    ELSE\n",
    "    {\n",
    "        right ← mid - 1\n",
    "    }\n",
    "}\n",
    "DISPLAY index\n"
   ]
  },
  {
   "cell_type": "markdown",
   "metadata": {},
   "source": [
    "## Python\n",
    "\n",
    "Here is the equivalent Python code:"
   ]
  },
  {
   "cell_type": "code",
   "execution_count": 9,
   "metadata": {},
   "outputs": [
    {
     "name": "stdout",
     "output_type": "stream",
     "text": [
      "2\n"
     ]
    }
   ],
   "source": [
    "def binary_search(array, target):\n",
    "    left, right = 0, len(array) - 1\n",
    "    index = -1\n",
    "    while left <= right:\n",
    "        mid = (left + right) // 2\n",
    "        if array[mid] == target:\n",
    "            index = mid\n",
    "            break\n",
    "        elif array[mid] < target:\n",
    "            left = mid + 1\n",
    "        else:\n",
    "            right = mid - 1\n",
    "    return index\n",
    "\n",
    "array = [1, 2, 3, 4, 5]\n",
    "target = 3\n",
    "print(binary_search(array, target))  # Output: 2\n"
   ]
  },
  {
   "cell_type": "markdown",
   "metadata": {},
   "source": [
    "`Example 3`\n",
    "Write pseudocode to implement a bubble sort, which has a time complexity of O(n^2). This algorithm has a polynomial time complexity."
   ]
  },
  {
   "cell_type": "code",
   "execution_count": null,
   "metadata": {
    "vscode": {
     "languageId": "html"
    }
   },
   "outputs": [],
   "source": [
    "FOR i ← 0 TO n - 1\n",
    "{\n",
    "    FOR j ← 0 TO n - i - 1\n",
    "    {\n",
    "        IF array[j] > array[j + 1]\n",
    "        {\n",
    "            temp ← array[j]\n",
    "            array[j] ← array[j + 1]\n",
    "            array[j + 1] ← temp\n",
    "        }\n",
    "    }\n",
    "}\n",
    "DISPLAY array\n"
   ]
  },
  {
   "cell_type": "markdown",
   "metadata": {},
   "source": [
    "## Python\n",
    "\n",
    "Here is the equivalent Python code: "
   ]
  },
  {
   "cell_type": "code",
   "execution_count": 4,
   "metadata": {},
   "outputs": [
    {
     "name": "stdout",
     "output_type": "stream",
     "text": [
      "[1, 2, 4, 5, 8]\n"
     ]
    }
   ],
   "source": [
    "def bubble_sort(array):\n",
    "    n = len(array)\n",
    "    for i in range(n):\n",
    "        for j in range(0, n-i-1):\n",
    "            if array[j] > array[j+1]:\n",
    "                array[j], array[j+1] = array[j+1], array[j]\n",
    "    return array\n",
    "\n",
    "array = [5, 1, 4, 2, 8]\n",
    "print(bubble_sort(array))  # Output: [1, 2, 4, 5, 8]\n"
   ]
  },
  {
   "cell_type": "markdown",
   "metadata": {},
   "source": [
    "`Example 3:`\n",
    "Write pseudocode to implement the insertion sort algorithm, which has a time complexity of O(n²). This algorithm has a polynomial time complexity (because n is to the power of a number)"
   ]
  },
  {
   "cell_type": "code",
   "execution_count": null,
   "metadata": {
    "vscode": {
     "languageId": "html"
    }
   },
   "outputs": [],
   "source": [
    "FOR i ← 1 TO n - 1\n",
    "{\n",
    "    key ← array[i]\n",
    "    j ← i - 1\n",
    "    WHILE j >= 0 AND array[j] > key\n",
    "    {\n",
    "        array[j + 1] ← array[j]\n",
    "        j ← j - 1\n",
    "    }\n",
    "    array[j + 1] ← key\n",
    "}\n",
    "DISPLAY array\n"
   ]
  },
  {
   "cell_type": "markdown",
   "metadata": {},
   "source": [
    "## Python\n",
    "Here is the equivalent Python code:"
   ]
  },
  {
   "cell_type": "code",
   "execution_count": 5,
   "metadata": {
    "vscode": {
     "languageId": "html"
    }
   },
   "outputs": [
    {
     "name": "stdout",
     "output_type": "stream",
     "text": [
      "[1, 2, 4, 5, 8]\n"
     ]
    }
   ],
   "source": [
    "def insertion_sort(array):\n",
    "    for i in range(1, len(array)):\n",
    "        key = array[i]\n",
    "        j = i - 1\n",
    "        while j >= 0 and key < array[j]:\n",
    "            array[j + 1] = array[j]\n",
    "            j -= 1\n",
    "        array[j + 1] = key\n",
    "    return array\n",
    "\n",
    "array = [5, 1, 4, 2, 8]\n",
    "print(insertion_sort(array))  # Output: [1, 2, 4, 5, 8]\n"
   ]
  },
  {
   "cell_type": "markdown",
   "metadata": {},
   "source": [
    "`Example 4:`\n",
    "Write pseudocode to implement the fibonacci algorithm, which has a time complexity of O(2^n). This means that is an exponential algorithm. "
   ]
  },
  {
   "cell_type": "code",
   "execution_count": null,
   "metadata": {
    "vscode": {
     "languageId": "html"
    }
   },
   "outputs": [],
   "source": [
    "FUNCTION Fibonacci(n)\n",
    "{\n",
    "    IF n <= 1\n",
    "    {\n",
    "        RETURN n\n",
    "    }\n",
    "    ELSE\n",
    "    {\n",
    "        RETURN Fibonacci(n-1) + Fibonacci(n-2)\n",
    "    }\n",
    "}\n",
    "DISPLAY Fibonacci(n)\n"
   ]
  },
  {
   "cell_type": "markdown",
   "metadata": {},
   "source": [
    "## Python\n",
    "Here is the equivalent Python code:"
   ]
  },
  {
   "cell_type": "code",
   "execution_count": 8,
   "metadata": {
    "vscode": {
     "languageId": "html"
    }
   },
   "outputs": [
    {
     "data": {
      "text/plain": [
       "832040"
      ]
     },
     "execution_count": 8,
     "metadata": {},
     "output_type": "execute_result"
    }
   ],
   "source": [
    "def fibonacci(n):\n",
    "    if n <= 1:\n",
    "        return n\n",
    "    else:\n",
    "        return fibonacci(n-1) + fibonacci(n-2)\n",
    "\n",
    "fibonacci(30)"
   ]
  },
  {
   "cell_type": "markdown",
   "metadata": {},
   "source": [
    "# Time Complexity Using Python Time Module\n",
    "\n",
    " Now that we've considered some basic examples, let's play around with how long different types of algorithms take. Remember, time is just one measure of algorithmic efficiency. Collegeboard considers  linear/polynomial/logarithmic to be algorithms run in reasonable time, while exponential algorithms run in unreasonable time. "
   ]
  },
  {
   "cell_type": "code",
   "execution_count": 11,
   "metadata": {},
   "outputs": [
    {
     "name": "stdout",
     "output_type": "stream",
     "text": [
      "Linear Search Time: 0.0003268718719482422 seconds\n",
      "Binary Search Time: 3.719329833984375e-05 seconds\n",
      "Bubble Sort Time: 3.1948089599609375e-05 seconds\n",
      "Fibonacci (Exponential) Time: 0.230820894241333 seconds\n"
     ]
    }
   ],
   "source": [
    "import time\n",
    "# Linear Search\n",
    "def linear_search(array, target):\n",
    "    index = -1\n",
    "    for i in range(len(array)):\n",
    "        if array[i] == target:\n",
    "            index = i\n",
    "            break\n",
    "    return index\n",
    "\n",
    "array = list(range(1, 10001))  # Large array for timing\n",
    "target = 9999\n",
    "\n",
    "start_time = time.time()\n",
    "linear_search(array, target)\n",
    "end_time = time.time()\n",
    "\n",
    "print(f\"Linear Search Time: {end_time - start_time} seconds\")\n",
    "\n",
    "\n",
    "# Binary Search\n",
    "\n",
    "def binary_search(array, target):\n",
    "    left, right = 0, len(array) - 1\n",
    "    index = -1\n",
    "    while left <= right:\n",
    "        mid = (left + right) // 2\n",
    "        if array[mid] == target:\n",
    "            index = mid\n",
    "            break\n",
    "        elif array[mid] < target:\n",
    "            left = mid + 1\n",
    "        else:\n",
    "            right = mid - 1\n",
    "    return index\n",
    "\n",
    "start_time = time.time()\n",
    "binary_search(array, target)\n",
    "end_time = time.time()\n",
    "\n",
    "print(f\"Binary Search Time: {end_time - start_time} seconds\")\n",
    "\n",
    "\n",
    "# Bubble Sort\n",
    "\n",
    "\n",
    "def bubble_sort(array):\n",
    "    n = len(array)\n",
    "    for i in range(n):\n",
    "        for j in range(0, n-i-1):\n",
    "            if array[j] > array[j+1]:\n",
    "                array[j], array[j+1] = array[j+1], array[j]\n",
    "    return array\n",
    "\n",
    "array = [5, 1, 4, 2, 8]\n",
    "\n",
    "start_time = time.time()\n",
    "bubble_sort(array)\n",
    "end_time = time.time()\n",
    "\n",
    "print(f\"Bubble Sort Time: {end_time - start_time} seconds\")\n",
    "\n",
    "# Fibonnaci\n",
    "\n",
    "def fibonacci(n):\n",
    "    if n <= 1:\n",
    "        return n\n",
    "    else:\n",
    "        return fibonacci(n-1) + fibonacci(n-2)\n",
    "\n",
    "n = 30  # Choosing a smaller n for timing\n",
    "\n",
    "start_time = time.time()\n",
    "fibonacci(n)\n",
    "end_time = time.time()\n",
    "\n",
    "print(f\"Fibonacci (Exponential) Time: {end_time - start_time} seconds\")\n",
    "\n",
    "\n",
    "\n",
    "\n",
    "\n"
   ]
  },
  {
   "cell_type": "markdown",
   "metadata": {},
   "source": [
    "# Hacks\n",
    "\n",
    "Review each of the sections above and produce ...\n",
    "\n",
    "- Write pseudocode and Python code to implement and time an insertion sort algorithm.\n",
    "- Compare the performance of insertion sort (O(n^2)) with bubble sort (O(n^2)) for different sizes of input arrays.\n"
   ]
  }
 ],
 "metadata": {
  "kernelspec": {
   "display_name": "Python 3",
   "language": "python",
   "name": "python3"
  },
  "language_info": {
   "codemirror_mode": {
    "name": "ipython",
    "version": 3
   },
   "file_extension": ".py",
   "mimetype": "text/x-python",
   "name": "python",
   "nbconvert_exporter": "python",
   "pygments_lexer": "ipython3",
   "version": "3.11.4"
  }
 },
 "nbformat": 4,
 "nbformat_minor": 2
}
