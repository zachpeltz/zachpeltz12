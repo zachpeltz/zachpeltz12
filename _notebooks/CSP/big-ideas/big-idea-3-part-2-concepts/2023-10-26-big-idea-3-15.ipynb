{
 "cells": [
  {
   "cell_type": "raw",
   "metadata": {
    "vscode": {
     "languageId": "raw"
    }
   },
   "source": [
    "---\n",
    "toc: false\n",
    "comments: true\n",
    "layout: post\n",
    "title: 3.15 Random Values\n",
    "description: A supplemental blog on random values. Learn how random values are often used in simulations, games, etc.\n",
    "permalink: /csp/big-idea/3-15\n",
    "categories: [CSP Big Ideas]\n",
    "author: Isabel Marilla\n",
    "menu: nav/csp_units/csp_unit3_p2_concepts.html\n",
    "---"
   ]
  },
  {
   "cell_type": "markdown",
   "metadata": {},
   "source": [
    "# Random Values"
   ]
  },
  {
   "cell_type": "markdown",
   "metadata": {},
   "source": [
    "## Introduction\n",
    "\n",
    "**Random values** are widely used in programming for various applications such as simulations, games, security, and testing. Randomness introduces variability and helps create unpredictable outcomes.\n",
    "\n",
    "## Objectives\n",
    "\n",
    "By the end of this lesson, students will be able to:\n",
    "1. **Understand what random values are.**\n",
    "2. **Write pseudocode using random value generation.**\n",
    "3. **Apply random values in practical scenarios.**\n",
    "\n",
    "## **<span style=\"color:blue\">Key Concepts</span>**\n",
    "\n",
    "1. `Random Values`: Values generated in such a way that each value within a specified range has an equal chance of being selected.\n",
    "2. `Random Number Generators (RNGs)`: Algorithms or functions that produce random values.\n",
    "\n",
    "## Example Syntax (College Board Pseudo code)\n",
    "\n",
    "College Board pseudocode uses the following structure for generating random values:\n",
    "\n",
    "```plaintext\n",
    "RANDOM(a, b)\n",
    "\n",
    "Where a and b are the lower and upper bounds of the range (inclusive)."
   ]
  },
  {
   "cell_type": "markdown",
   "metadata": {},
   "source": [
    "<span style=\"color:blue\">Example 1: Rolling a Die</span>\n",
    "Pseudocode\n",
    "Let's write pseudocode to simulate rolling a six-sided die:"
   ]
  },
  {
   "cell_type": "raw",
   "metadata": {
    "vscode": {
     "languageId": "raw"
    }
   },
   "source": [
    "result ← RANDOM(1, 6)\n",
    "DISPLAY result\n"
   ]
  },
  {
   "cell_type": "markdown",
   "metadata": {},
   "source": [
    "<span style=\"color:blue\">Example 2: Random Decision Making</span>\n",
    "Pseudocode\n",
    "Let's consider a scenario where we make a random decision between \"yes\" and \"no\":"
   ]
  },
  {
   "cell_type": "raw",
   "metadata": {
    "vscode": {
     "languageId": "raw"
    }
   },
   "source": [
    "decision ← RANDOM(1, 2)\n",
    "IF decision = 1\n",
    "{\n",
    "    DISPLAY \"Yes\"\n",
    "}\n",
    "ELSE\n",
    "{\n",
    "    DISPLAY \"No\"\n",
    "}\n"
   ]
  },
  {
   "cell_type": "markdown",
   "metadata": {},
   "source": [
    "## Python\n",
    "Here is the equivalent Python code:\n",
    "\n"
   ]
  },
  {
   "cell_type": "code",
   "execution_count": 1,
   "metadata": {},
   "outputs": [
    {
     "name": "stdout",
     "output_type": "stream",
     "text": [
      "No\n"
     ]
    }
   ],
   "source": [
    "import random\n",
    "\n",
    "decision = random.randint(1, 2)\n",
    "if decision == 1:\n",
    "    print(\"Yes\")\n",
    "else:\n",
    "    print(\"No\")\n"
   ]
  },
  {
   "cell_type": "markdown",
   "metadata": {},
   "source": [
    "<span style=\"color:blue\">Example 3:</span>\n",
    "Write pseudocode to simulate drawing a random card from a standard deck of 52 cards:\n",
    "\n",
    "Generate a random number between 1 and 52.\n",
    "Display the card number."
   ]
  },
  {
   "cell_type": "raw",
   "metadata": {
    "vscode": {
     "languageId": "raw"
    }
   },
   "source": [
    "card ← RANDOM(1, 52)\n",
    "DISPLAY \"Card number: \" + card\n"
   ]
  },
  {
   "cell_type": "markdown",
   "metadata": {},
   "source": [
    "## Python\n",
    "Here is the equivalent Python code:\n",
    "\n"
   ]
  },
  {
   "cell_type": "code",
   "execution_count": 3,
   "metadata": {},
   "outputs": [
    {
     "name": "stdout",
     "output_type": "stream",
     "text": [
      "Card number: 52\n"
     ]
    }
   ],
   "source": [
    "import random\n",
    "\n",
    "card = random.randint(1, 52)\n",
    "print(\"Card number:\", card)\n"
   ]
  },
  {
   "cell_type": "markdown",
   "metadata": {},
   "source": [
    "<span style=\"color:blue\">Summary</span>\n",
    "<span style=\"background-color:lightgrey\">Random values</span> introduce variability and unpredictability into programs, making them essential for various applications. By understanding how to generate and use random values, you can enhance your programs with elements of randomness.\n",
    "\n"
   ]
  },
  {
   "cell_type": "markdown",
   "metadata": {},
   "source": [
    "\n",
    "## Hacks\n",
    "Review each of the sections above and produce ...\n",
    "\n",
    "- Write pseudocode to simulate flipping a coin 10 times and display the result of each flip.\n",
    "- Write a python segment to generate a random password of 8 characters, using uppercase letters, lowercase letters, and digits."
   ]
  }
 ],
 "metadata": {
  "kernelspec": {
   "display_name": "Python 3",
   "language": "python",
   "name": "python3"
  },
  "language_info": {
   "codemirror_mode": {
    "name": "ipython",
    "version": 3
   },
   "file_extension": ".py",
   "mimetype": "text/x-python",
   "name": "python",
   "nbconvert_exporter": "python",
   "pygments_lexer": "ipython3",
   "version": "3.11.9"
  }
 },
 "nbformat": 4,
 "nbformat_minor": 2
}
