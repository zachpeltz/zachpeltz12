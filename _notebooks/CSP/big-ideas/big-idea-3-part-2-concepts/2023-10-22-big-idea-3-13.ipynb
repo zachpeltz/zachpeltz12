{
 "cells": [
  {
   "cell_type": "raw",
   "metadata": {
    "vscode": {
     "languageId": "raw"
    }
   },
   "source": [
    "---\n",
    "toc: false\n",
    "comments: true\n",
    "layout: post\n",
    "title: 3.13 Developing Procedures\n",
    "description: Student led teaching on Developing   Procedures. Learn how to create  functions or methods that encapsulate specific tasks. \n",
    "permalink: /csp/big-idea/3-13\n",
    "categories: [CSP Big Ideas]\n",
    "author:  Abbey, Nupur, Sreeja, Tanvi\n",
    "menu: nav/csp_units/csp_unit3_p2_concepts.html\n",
    "---"
   ]
  },
  {
   "cell_type": "markdown",
   "metadata": {},
   "source": [
    "## Developing Procedures and Procedural Abstraction\n",
    "\n",
    "Procedures are an example of abstraction. \n",
    "\n",
    "(In fact, it's part of a special form of abstraction known as procedural abstraction.) \n",
    "\n",
    "This is because you can call a procedure without knowing how it works. A common built-in procedure in programming languages is the print() procedure.\n",
    "\n",
    "Procedures allow you to solve a large problem based on the solution to smaller sub-problems. \n"
   ]
  },
  {
   "cell_type": "markdown",
   "metadata": {},
   "source": [
    "When you divide a computer program into separate sub-programs, it's known as modularity.\n",
    "Procedures can also help you simplify your code and improve its readability.\n",
    "Instead of this:\n"
   ]
  },
  {
   "cell_type": "code",
   "execution_count": 5,
   "metadata": {},
   "outputs": [
    {
     "name": "stdout",
     "output_type": "stream",
     "text": [
      "12\n",
      "10\n",
      "12\n"
     ]
    }
   ],
   "source": [
    "first_number = 7\n",
    "second_number = 5\n",
    "sum_value = first_number + second_number\n",
    "print (sum_value)\n",
    "\n",
    "first_number = 8\n",
    "second_number = 2\n",
    "sum_value = first_number + second_number\n",
    "print (sum_value)\n",
    "\n",
    "first_number = 9\n",
    "second_number = 3\n",
    "sum_value = first_number + second_number\n",
    "print (sum_value)\n"
   ]
  },
  {
   "cell_type": "markdown",
   "metadata": {},
   "source": [
    "You can do this:"
   ]
  },
  {
   "cell_type": "code",
   "execution_count": 6,
   "metadata": {},
   "outputs": [
    {
     "name": "stdout",
     "output_type": "stream",
     "text": [
      "12\n",
      "10\n",
      "12\n"
     ]
    }
   ],
   "source": [
    "def summing_machine(first_number, second_number):\n",
    "  sum_value = first_number + second_number\n",
    "  print (sum_value)\n",
    "\n",
    "summing_machine(5, 7)\n",
    "summing_machine(8, 2)\n",
    "summing_machine(9, 3)\n"
   ]
  },
  {
   "cell_type": "markdown",
   "metadata": {},
   "source": [
    "\n",
    "This is especially important in larger programs, where you might already be looking at hundreds of lines of code.\n",
    "\n",
    "\n",
    "Procedures can be reused. Parameters usually represent general categories of data, such as numbers or strings. \n",
    "\n",
    "This means you could use one procedure for a wide range of individual scenarios.\n",
    "\n",
    "Remember that placing a return statement inside a procedure will cause an immediate return from the procedure back to where the procedure is called. \n",
    "\n",
    "The return statement may appear at any point inside the procedure.\n",
    "\n",
    "Procedural abstraction also allows programmers the flexibility to modify or fix procedures without affecting the whole program, as long as the procedure continues to function in the same way. \n",
    "\n",
    "Furthermore, they can make a change or edit once, in the procedure, and it will be implemented everywhere the procedure is called."
   ]
  },
  {
   "cell_type": "markdown",
   "metadata": {},
   "source": [
    "## Example: Create a Python program that generates multiplication tables for a specific number up to a specified limit. \n"
   ]
  },
  {
   "cell_type": "code",
   "execution_count": 7,
   "metadata": {},
   "outputs": [
    {
     "name": "stdout",
     "output_type": "stream",
     "text": [
      "Multiplication Table for 5 (Up to 10):\n",
      "\n",
      "5 x 1 = 5\n",
      "5 x 2 = 10\n",
      "5 x 3 = 15\n",
      "5 x 4 = 20\n",
      "5 x 5 = 25\n",
      "5 x 6 = 30\n",
      "5 x 7 = 35\n",
      "5 x 8 = 40\n",
      "5 x 9 = 45\n",
      "5 x 10 = 50\n"
     ]
    }
   ],
   "source": [
    "def generate_multiplication_table(number, limit):\n",
    "    \"\"\"\n",
    "    Generates a multiplication table for the given number up to the specified limit.\n",
    "    \n",
    "    :param number: The number for which to generate the table.\n",
    "    :param limit: The upper limit of the table (e.g., how far the multiplication will go).\n",
    "    \"\"\"\n",
    "    print(f\"Multiplication Table for {number} (Up to {limit}):\\n\")\n",
    "    \n",
    "    for i in range(1, limit + 1):\n",
    "        result = number * i\n",
    "        print(f\"{number} x {i} = {result}\")\n",
    "\n",
    "# Usage\n",
    "generate_multiplication_table(5, 10)"
   ]
  },
  {
   "cell_type": "markdown",
   "metadata": {},
   "source": [
    "## Anatomy of Python Classes\n",
    "\n",
    "Class Definition: Classes are defined using the class keyword, followed by the class name, and a colon. \n",
    "\n",
    "The class body is indented beneath the class definition."
   ]
  },
  {
   "cell_type": "code",
   "execution_count": null,
   "metadata": {},
   "outputs": [],
   "source": [
    "class MyClass:\n",
    "    # class body\n",
    "    Pass\n"
   ]
  },
  {
   "cell_type": "markdown",
   "metadata": {},
   "source": [
    "Attributes: These are variables that belong to a class. \n",
    "\n",
    "They can be accessed using the dot notation on an instance of the class.\n"
   ]
  },
  {
   "cell_type": "code",
   "execution_count": null,
   "metadata": {},
   "outputs": [],
   "source": [
    "class MyClass:\n",
    "    def __init__(self, attribute1, attribute2):\n",
    "        self.attribute1 = attribute1\n",
    "        self.attribute2 = attribute2\n"
   ]
  },
  {
   "cell_type": "markdown",
   "metadata": {},
   "source": [
    "Methods: These are functions that are defined within a class. \n",
    "    \n",
    "    They can perform specific operations on the object or modify its attributes."
   ]
  },
  {
   "cell_type": "code",
   "execution_count": null,
   "metadata": {},
   "outputs": [],
   "source": [
    "class MyClass:\n",
    "    def my_method(self):\n",
    "        # method body\n",
    "        pass\n"
   ]
  },
  {
   "cell_type": "markdown",
   "metadata": {},
   "source": [
    "Constructor: The __init__ method is a constructor in Python classes. \n",
    "\n",
    "It is called when an object is created and allows the class to initialize the object's attributes."
   ]
  },
  {
   "cell_type": "code",
   "execution_count": null,
   "metadata": {},
   "outputs": [],
   "source": [
    "\n",
    "class MyClass:\n",
    "    def __init__(self, attribute1, attribute2):\n",
    "        self.attribute1 = attribute1\n",
    "        self.attribute2 = attribute2"
   ]
  },
  {
   "cell_type": "markdown",
   "metadata": {},
   "source": [
    "Self: It represents the instance of the class and is used to access the class's attributes and methods."
   ]
  },
  {
   "cell_type": "code",
   "execution_count": null,
   "metadata": {},
   "outputs": [],
   "source": [
    "\n",
    "class MyClass:\n",
    "    def my_method(self):\n",
    "        print(self.attribute1)"
   ]
  },
  {
   "cell_type": "markdown",
   "metadata": {},
   "source": [
    "## Hacks\n",
    "\n",
    "Review each of the following and produce...\n",
    " - A Python function called procedural_abstraction that demonstrates procedural abstraction by performing a specific task. Your function should take at least one parameter and return a result. \n",
    "  -  A Python function called summing_machine that takes two parameters, first_number and second_number, and returns the sum of these numbers. Use this function to calculate the sum of 7 and 5. Print the result.\n",
    "\n"
   ]
  }
 ],
 "metadata": {
  "kernelspec": {
   "display_name": "Python 3",
   "language": "python",
   "name": "python3"
  },
  "language_info": {
   "codemirror_mode": {
    "name": "ipython",
    "version": 3
   },
   "file_extension": ".py",
   "mimetype": "text/x-python",
   "name": "python",
   "nbconvert_exporter": "python",
   "pygments_lexer": "ipython3",
   "version": "3.11.4"
  }
 },
 "nbformat": 4,
 "nbformat_minor": 2
}
