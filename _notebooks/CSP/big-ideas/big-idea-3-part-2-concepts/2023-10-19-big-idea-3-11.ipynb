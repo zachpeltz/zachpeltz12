{
 "cells": [
  {
   "cell_type": "raw",
   "metadata": {
    "vscode": {
     "languageId": "raw"
    }
   },
   "source": [
    "---\n",
    "toc: false\n",
    "comments: true\n",
    "layout: post\n",
    "title: 3.11 Search\n",
    "description: Student led teaching on Search. Learn about searches, such as binary search and how they vary in efficiency and the way they work.\n",
    "permalink: /csp/big-idea/3-11\n",
    "categories: [CSP Big Ideas]\n",
    "author:  Brandon, Ninaad, Aaron, Eshaan, (p5) David, Austin, Peyton, Aiden (p1)\n",
    "menu: nav/csp_units/csp_unit3_p2_concepts.html\n",
    "---"
   ]
  },
  {
   "cell_type": "markdown",
   "metadata": {},
   "source": [
    "## Search"
   ]
  },
  {
   "cell_type": "markdown",
   "metadata": {},
   "source": [
    "\n",
    "A search algorithm is an algorithm that retrieves information stored in a data structure or calculated in the search space of a problem domain, with either discrete or continuous values."
   ]
  },
  {
   "cell_type": "markdown",
   "metadata": {},
   "source": [
    "**Linear Search**\n",
    "\n",
    "The most basic way of searching in which each element is searched in the order it appears in the list. The list doesn't need to be organized.\n",
    "\n",
    "For the code given below, the algorithm compares each value to the previous value, and if the value is smaller than the previous value, that value becomes the new min. The algorithm continues until it reaches the end of the list. This should be  similar to the hack you did  from Lists (idea 3.10)! "
   ]
  },
  {
   "cell_type": "code",
   "execution_count": null,
   "metadata": {
    "vscode": {
     "languageId": "html"
    }
   },
   "outputs": [],
   "source": [
    "nums[] ← [86, 75, 98, 100, 71, 65, 84]\n",
    "\n",
    "min ← nums[0] \n",
    "\n",
    "FOR EACH score IN nums[] DO\n",
    "    IF score < min THEN\n",
    "        min ← score\n",
    "    END IF\n",
    "END FOR\n",
    "\n",
    "OUTPUT \"The minimum value in the list is:\", min\n"
   ]
  },
  {
   "cell_type": "markdown",
   "metadata": {},
   "source": [
    "## Python Code"
   ]
  },
  {
   "cell_type": "code",
   "execution_count": 2,
   "metadata": {},
   "outputs": [
    {
     "name": "stdout",
     "output_type": "stream",
     "text": [
      "[86, 75, 98, 100, 71, 65, 84]\n",
      "The minimum value in the list is: 65\n"
     ]
    }
   ],
   "source": [
    "nums = [86, 75, 98, 100, 71, 65, 84]\n",
    "print(nums)\n",
    "\n",
    "min = nums[0]\n",
    "\n",
    "for score in nums:\n",
    "    if (score < min):\n",
    "        min = score\n",
    "\n",
    "print(\"The minimum value in the list is:\", min)"
   ]
  },
  {
   "cell_type": "markdown",
   "metadata": {},
   "source": [
    "**Binary Search**\n",
    "\n",
    "A binary search, also known as half-interval search, logarithmic search, or binary chop is a search algorithm that finds the position of a target value within a sorted array.\n",
    "\n",
    "- Binary Search is a method of searching for an element in a list. <br>\n",
    "- Binary Search is faster than Linear Search <br>\n",
    "- Binary search works on sorted arrays. \n",
    "\n",
    "     - Binary search begins by comparing an element in the middle of the array with the target value. \n",
    "\n",
    "     - If the target value matches the element:\n",
    "\n",
    "         - Its position in the array is returned and exit the program.\n",
    "\n",
    "     - If the target value is less than the element:\n",
    "\n",
    "         - The search continues in the lower half of the array. Go to Step-2\n",
    "\n",
    "     - If the target value is greater than the element, the search continues in the upper half of the \n",
    "     array. Go to Step-2\n",
    "     \n",
    "     - Go back to Step-2\n",
    "\n",
    "\n",
    "\n",
    "\n",
    "![image](https://media.geeksforgeeks.org/wp-content/uploads/20220309171621/BinarySearch.png)<br>\n",
    "\n",
    "\n",
    "\n",
    "\n",
    "\n",
    "\n",
    "\n",
    "\n",
    "- Worst Case Scenario: 4 Iterations <br> <br><br>"
   ]
  },
  {
   "cell_type": "code",
   "execution_count": 3,
   "metadata": {},
   "outputs": [
    {
     "name": "stdout",
     "output_type": "stream",
     "text": [
      "The Element is in index 3\n"
     ]
    }
   ],
   "source": [
    "# Returns index of x in arr if present, else -1\n",
    "def binary_search(arr, low, high, x):\n",
    " \n",
    "    # Check base case\n",
    "    if high >= low:\n",
    " \n",
    "        mid = (high + low) // 2\n",
    " \n",
    "        # If element is present at the middle itself\n",
    "        if arr[mid] == x:\n",
    "            return mid\n",
    " \n",
    "        # If element is smaller than mid, then it can only\n",
    "        # be present in left subarray\n",
    "        elif arr[mid] > x:\n",
    "            return binary_search(arr, low, mid - 1, x)\n",
    " \n",
    "        # Else the element can only be present in right subarray\n",
    "        else:\n",
    "            return binary_search(arr, mid + 1, high, x)\n",
    " \n",
    "    else:\n",
    "        # Element is not present in the array\n",
    "        return -1\n",
    " \n",
    "# Test array\n",
    "arr = [ 2, 3, 4, 10, 40 ]\n",
    "x = 10\n",
    " \n",
    "# Function call\n",
    "result = binary_search(arr, 0, len(arr)-1, x)\n",
    " \n",
    "if result != -1:\n",
    "    print(\"The Element is in index\", str(result))\n",
    "else:\n",
    "    print(\"Element is not present in array\")"
   ]
  },
  {
   "cell_type": "markdown",
   "metadata": {},
   "source": [
    "# Big O Notation\n",
    "\n",
    "Usually used to denote how much run time an algorithm takes or how much memory is used by an algorithm.\n",
    "\n",
    "In our case we are using it to show how many tries it will take for a search algorithm to find something. \n",
    "\n",
    "Linear Search vs Binary Search big O notation:\n",
    "    \n",
    "     - Linear search complexity is denoted by O(n) as every element in the array is compared only once. \n",
    "    \n",
    "         - In linear search, best-case complexity is O(1) where the element is found at the first index. \n",
    "    \n",
    "         - Worst-case complexity is O(n) where the element is found at the last index or the element is not present in the array.\n",
    "    \n",
    "     - Binary search, best-case complexity is O(1) where the element is found at the middle index. The worst-case complexity is O(log base 2 n).\n",
    "\n",
    "## Hacks\n",
    "Review each of the following and produce....\n",
    "\n",
    "- A binary search algorithm that sorts for the value 25. \n",
    "    - nums = [12, 23, 25, 45, 47, 89, 91]\n",
    "\n",
    "- A python function that can determine the worst case number of iterations of a binary search for an array of length 20."
   ]
  }
 ],
 "metadata": {
  "kernelspec": {
   "display_name": "Python 3",
   "language": "python",
   "name": "python3"
  },
  "language_info": {
   "codemirror_mode": {
    "name": "ipython",
    "version": 3
   },
   "file_extension": ".py",
   "mimetype": "text/x-python",
   "name": "python",
   "nbconvert_exporter": "python",
   "pygments_lexer": "ipython3",
   "version": "3.11.4"
  }
 },
 "nbformat": 4,
 "nbformat_minor": 2
}
