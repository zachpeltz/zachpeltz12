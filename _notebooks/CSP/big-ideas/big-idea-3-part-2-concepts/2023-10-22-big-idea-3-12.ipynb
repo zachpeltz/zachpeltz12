{
 "cells": [
  {
   "cell_type": "raw",
   "metadata": {
    "vscode": {
     "languageId": "raw"
    }
   },
   "source": [
    "---\n",
    "toc: false\n",
    "comments: true\n",
    "layout: post\n",
    "title: 3.12 Calling Procedures. \n",
    "description: Student led teaching on Calling Procedures. Learn about how procedures and how calling  allows for code reuse and modularity. \n",
    "permalink: /csp/big-idea/3-12\n",
    "categories: [CSP Big Ideas]\n",
    "author:  Abbey, Nupur, Sreeja, Tanvi\n",
    "menu: nav/csp_units/csp_unit3_p2_concepts.html\n",
    "---"
   ]
  },
  {
   "cell_type": "markdown",
   "metadata": {},
   "source": [
    "##  Calling Procedures\n",
    "\n",
    "\n",
    "\n"
   ]
  },
  {
   "cell_type": "markdown",
   "metadata": {},
   "source": [
    "## Vocab\n",
    "Procedure- A named group of programming instructions that may have parameters and return values\n",
    "They are referred to by different names, such as method or function, depending on the programming language\n",
    "\n",
    "Parameter- input value of a procedure. Arguments specify the values of the parameters when a procedure is called\n",
    "\n",
    "A Procedure call- interrupts the sequential execution of statements, causing the program to execute the statements wtithin the procedure before continuing . Once the last statement in the proceed has been executed, flow of control is returned to the point immediately following where procedure was called.\n",
    "\n",
    "\n",
    "\n",
    "A procedure is a group of programming instructions. They're also known as methods or functions, depending on the programming language. You can use a procedure to use the same set of instructions, again and again, without having to rewrite it into your code.In AP Pseudocode, here's how they'll represent procedures: <img src=\"https://runestone.academy/ns/books/published/mobilecsp/_static/assets/img/AP_Procedures.png\"\n",
    "width=\"400\"\n",
    "height=\"200\"\n",
    "/>\n"
   ]
  },
  {
   "cell_type": "code",
   "execution_count": null,
   "metadata": {},
   "outputs": [],
   "source": [
    "first_number = 5\n",
    "second_number = 7\n",
    "sum_value = first_number + second_number\n",
    "print (sum_value)\n"
   ]
  },
  {
   "cell_type": "markdown",
   "metadata": {},
   "source": [
    "It goes without saying that, if you wanted to sum more than one set of numbers at a time, you'd have to rewrite these lines over and over again...\n",
    "\n",
    "Let's see how we'd go about writing this as a function, or a procedure in Python.\n",
    "\n",
    "A function in Python looks like this:\n"
   ]
  },
  {
   "cell_type": "code",
   "execution_count": null,
   "metadata": {},
   "outputs": [],
   "source": [
    "def name_of_function (parameter1, parameter2):\n",
    "  #code statements here\n"
   ]
  },
  {
   "cell_type": "markdown",
   "metadata": {},
   "source": [
    "So our summing machine would look like this!\n"
   ]
  },
  {
   "cell_type": "code",
   "execution_count": null,
   "metadata": {},
   "outputs": [],
   "source": [
    "def summing_machine(first_number, second_number):\n",
    "  print (first_number + second_number)\n"
   ]
  },
  {
   "cell_type": "markdown",
   "metadata": {},
   "source": [
    "When you call a procedure, your program acts like those lines of code are written out. Once it's done executing those code lines, your program goes back to reading code sequentially.\n",
    "\n",
    "When you call that procedure with defined values or variables, those values are known as arguments.\n"
   ]
  },
  {
   "cell_type": "code",
   "execution_count": null,
   "metadata": {},
   "outputs": [],
   "source": [
    "def summing_machine(first_number, second_number):\n",
    "  print (first_number + second_number)\n",
    "\n",
    "summing_machine(5, 7)\n",
    "#In this example, 5 and 7 are examples of arguments.\n",
    "\n"
   ]
  },
  {
   "cell_type": "markdown",
   "metadata": {},
   "source": [
    "For example:"
   ]
  },
  {
   "cell_type": "code",
   "execution_count": null,
   "metadata": {},
   "outputs": [],
   "source": [
    "def summing_machine(first_number, second_number):\n",
    "  value = first_number + second_number\n",
    "  return (value)\n",
    "\n",
    "answer = summing_machine(5, 7)\n",
    "print (answer)\n",
    "\n",
    "#you can use this to manipulate the value the function returns as well.\n",
    "\n",
    "print (answer + 1)"
   ]
  },
  {
   "cell_type": "markdown",
   "metadata": {},
   "source": [
    "LETS LOOK AT AN EXAMPLE:  \n",
    "\n",
    "In this example this is a simple procedure to create a code for calculating the area\n"
   ]
  },
  {
   "cell_type": "code",
   "execution_count": 18,
   "metadata": {},
   "outputs": [
    {
     "name": "stdout",
     "output_type": "stream",
     "text": [
      "The area of the first rectangle is 15\n"
     ]
    }
   ],
   "source": [
    "\n",
    "\n",
    "# Define the calculate_area procedure\n",
    "def calculate_area(length, width):\n",
    "    # Calculate the area here\n",
    "    area = length * width\n",
    "    return area\n",
    "\n",
    "\n",
    "# Call the procedure with different values\n",
    "length1 = 5\n",
    "width1 = 3\n",
    "area1 = calculate_area(length1, width1)\n",
    "\n",
    "\n",
    "\n",
    "\n",
    "# Print the results\n",
    "print(f\"The area of the first rectangle is {area1}\")\n",
    "\n",
    "\n",
    "\n",
    "\n",
    "\n",
    "\n",
    "\n",
    "\n",
    "    \n",
    "\n",
    "\n"
   ]
  },
  {
   "cell_type": "markdown",
   "metadata": {},
   "source": [
    "## Hacks \n",
    "\n",
    "\n",
    "Review the following and complete\n",
    "- Code a procedure that finds the square root of any given number and call it to find the square root of 64\n",
    "- The following questions from Collegeboard: \n",
    "\n",
    "\n",
    "\n",
    "\n",
    "\n"
   ]
  },
  {
   "cell_type": "markdown",
   "metadata": {},
   "source": [
    "# Quiz: \n",
    "\n",
    "## 1 In Python, what can be done by a value returned by a procedure?\n",
    "\n",
    "a. Define input variables for another procedure\n",
    "\n",
    "b. Print it to console\n",
    "\n",
    "c. Call another procedure with it\n",
    "\n",
    "d. Assign it to a variable or use it in expressions\n",
    "\n",
    "\n",
    "\n",
    "## 2. When a Procedure is called, what happens to the programs execution?\n",
    "\n",
    "a. it prints the result of the procedure\n",
    "\n",
    "b. it exits the program and terminates execution\n",
    "\n",
    "c. it moves to the next line of code in the program\n",
    "\n",
    "d. it acts as if the lines of code on the procedure are written out\n",
    "\n",
    "\n",
    "\n",
    "\n",
    "\n",
    "## 3 Which of the following is an example of a procedural call in Python?\n",
    "\n",
    "a. `def summing_machine(first_number, second_number)`\n",
    "\n",
    "b. `summing_machine(5, 7)`\n",
    "\n",
    "c. `print(first_number + second_number)`\n",
    "\n",
    "d. `return(value)`\n"
   ]
  },
  {
   "cell_type": "code",
   "execution_count": 22,
   "metadata": {},
   "outputs": [
    {
     "name": "stdout",
     "output_type": "stream",
     "text": [
      "1\n"
     ]
    }
   ],
   "source": [
    "firstnum = 1\n",
    "secondnum = 2\n",
    "thirdnum = 3\n",
    "fourthnum = 4\n",
    "\n",
    "print(firstnum)\n"
   ]
  },
  {
   "cell_type": "markdown",
   "metadata": {},
   "source": []
  },
  {
   "cell_type": "code",
   "execution_count": 13,
   "metadata": {},
   "outputs": [
    {
     "name": "stdout",
     "output_type": "stream",
     "text": [
      "12\n",
      "10\n",
      "12\n"
     ]
    }
   ],
   "source": []
  },
  {
   "cell_type": "markdown",
   "metadata": {},
   "source": [
    "\n"
   ]
  },
  {
   "cell_type": "code",
   "execution_count": 24,
   "metadata": {},
   "outputs": [
    {
     "name": "stdout",
     "output_type": "stream",
     "text": [
      "12\n",
      "10\n",
      "12\n"
     ]
    }
   ],
   "source": []
  },
  {
   "cell_type": "markdown",
   "metadata": {},
   "source": [
    "\n",
    "\n"
   ]
  },
  {
   "cell_type": "markdown",
   "metadata": {},
   "source": [
    "\n"
   ]
  },
  {
   "cell_type": "code",
   "execution_count": 14,
   "metadata": {},
   "outputs": [
    {
     "name": "stdout",
     "output_type": "stream",
     "text": [
      "Multiplication Table for 5 (Up to 10):\n",
      "\n",
      "5 x 1 = 5\n",
      "5 x 2 = 10\n",
      "5 x 3 = 15\n",
      "5 x 4 = 20\n",
      "5 x 5 = 25\n",
      "5 x 6 = 30\n",
      "5 x 7 = 35\n",
      "5 x 8 = 40\n",
      "5 x 9 = 45\n",
      "5 x 10 = 50\n"
     ]
    }
   ],
   "source": [
    "\n"
   ]
  },
  {
   "cell_type": "markdown",
   "metadata": {},
   "source": []
  },
  {
   "cell_type": "markdown",
   "metadata": {},
   "source": [
    "\n"
   ]
  },
  {
   "cell_type": "code",
   "execution_count": null,
   "metadata": {},
   "outputs": [],
   "source": []
  },
  {
   "cell_type": "markdown",
   "metadata": {},
   "source": [
    "\n"
   ]
  },
  {
   "cell_type": "code",
   "execution_count": null,
   "metadata": {},
   "outputs": [],
   "source": []
  },
  {
   "cell_type": "markdown",
   "metadata": {},
   "source": [
    "\n",
    "\n"
   ]
  },
  {
   "cell_type": "code",
   "execution_count": null,
   "metadata": {},
   "outputs": [],
   "source": []
  },
  {
   "cell_type": "markdown",
   "metadata": {},
   "source": [
    "\n"
   ]
  },
  {
   "cell_type": "code",
   "execution_count": null,
   "metadata": {},
   "outputs": [],
   "source": [
    "\n"
   ]
  },
  {
   "cell_type": "markdown",
   "metadata": {},
   "source": [
    "\n"
   ]
  },
  {
   "cell_type": "code",
   "execution_count": null,
   "metadata": {},
   "outputs": [],
   "source": [
    "\n"
   ]
  },
  {
   "cell_type": "markdown",
   "metadata": {},
   "source": [
    "\n"
   ]
  }
 ],
 "metadata": {
  "kernelspec": {
   "display_name": "Python 3",
   "language": "python",
   "name": "python3"
  },
  "language_info": {
   "codemirror_mode": {
    "name": "ipython",
    "version": 3
   },
   "file_extension": ".py",
   "mimetype": "text/x-python",
   "name": "python",
   "nbconvert_exporter": "python",
   "pygments_lexer": "ipython3",
   "version": "3.11.4"
  },
  "orig_nbformat": 4
 },
 "nbformat": 4,
 "nbformat_minor": 2
}
