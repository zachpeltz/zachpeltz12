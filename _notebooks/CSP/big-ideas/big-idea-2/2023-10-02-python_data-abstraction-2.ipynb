{
 "cells": [
  {
   "cell_type": "raw",
   "metadata": {
    "vscode": {
     "languageId": "raw"
    }
   },
   "source": [
    "---\n",
    "comments: true\n",
    "layout: post\n",
    "title: Big Idea 3.1 - Variables and Assignments\n",
    "description: College Board topics 3.1-3.2\n",
    "toc: true\n",
    "author: Sharon, Tara, Alisha, Alara, Grace\n",
    "---"
   ]
  },
  {
   "cell_type": "markdown",
   "metadata": {},
   "source": [
    "# 3.1 - What are variables \n",
    "#### Sharon Kodali\n",
    "\n",
    "Variables: an abstraction inside a program that can hold a value \n",
    "\n",
    "A variable can be thought of as a container or a box that holds information that your program can use or modify \n",
    "\n",
    "Variables help you manage and organize your work with data, making your code more organized, readable, and adaptable. \n",
    "\n",
    "## different data types to store variables in\n",
    "- integer \n",
    "        used to store numbers that can later be used in mathematical operations\n",
    "        ex: age or temperature\n",
    "- Text(string)\n",
    "        Used to store texts lists and words that can later be referenced \n",
    "        ex: Name, phone number, or address\n",
    "-  Boolean\n",
    "        used to store simply of true or false\n",
    "        ex: is it raining\n",
    "\n",
    "\n",
    "## Correct way to name variables\n",
    "\n",
    "incorrect:\n",
    "        my highs-coreinthegame or n\n",
    "- too long and can make the code messy \n",
    "- dashes are not allowed when naming variables \n",
    "- spaces are not allowed when naming variables \n",
    "-  descriptive enough to easily recall what the variable repersents\n",
    "\n",
    "correct:\n",
    "    highscore or numstudents or israining\n",
    "- short \n",
    "- descriptive\n",
    "- easy to distingush type of variable\n"
   ]
  },
  {
   "cell_type": "markdown",
   "metadata": {},
   "source": [
    "## 3.1 Hacks\n",
    "\n",
    "### instructions: Determine what would be the the best variable name and data type for the specific prompt\n",
    "\n",
    "- storing if someones pet is a dog\n",
    "- storing someones birthday\n",
    "- storing the amount of money someone is spending \n",
    "- storing if it is sunny\n",
    "\n",
    "#### Homework: write a greeting using variables in python "
   ]
  },
  {
   "cell_type": "markdown",
   "metadata": {},
   "source": [
    "# Naming Conventions\n",
    "\n",
    "    - Must start with a letter or an underscore\n",
    "    - Cannot start with a number \n",
    "    - Can only have alphanumeric characters or underscores \n",
    "    - Are case sensitive \n",
    "    - Cannot be python keywords such as 'else'\n"
   ]
  },
  {
   "cell_type": "code",
   "execution_count": 1,
   "metadata": {},
   "outputs": [
    {
     "name": "stdout",
     "output_type": "stream",
     "text": [
      "Tara\n"
     ]
    }
   ],
   "source": [
    "myName = \"Tara\"\n",
    "print(myName)"
   ]
  },
  {
   "cell_type": "code",
   "execution_count": 2,
   "metadata": {},
   "outputs": [
    {
     "ename": "SyntaxError",
     "evalue": "invalid decimal literal (1241567343.py, line 1)",
     "output_type": "error",
     "traceback": [
      "\u001b[0;36m  Cell \u001b[0;32mIn[2], line 1\u001b[0;36m\u001b[0m\n\u001b[0;31m    1Tara = \"16\"\u001b[0m\n\u001b[0m    ^\u001b[0m\n\u001b[0;31mSyntaxError\u001b[0m\u001b[0;31m:\u001b[0m invalid decimal literal\n"
     ]
    }
   ],
   "source": [
    "1Tara = \"16\""
   ]
  },
  {
   "cell_type": "code",
   "execution_count": null,
   "metadata": {},
   "outputs": [],
   "source": [
    "myAge = 16 \n",
    "myage = 46\n",
    "\n",
    "print(myAge)\n",
    "print(myage)"
   ]
  },
  {
   "cell_type": "code",
   "execution_count": null,
   "metadata": {},
   "outputs": [],
   "source": [
    "else = 22"
   ]
  },
  {
   "cell_type": "markdown",
   "metadata": {},
   "source": [
    "# Primitive v. Collection Data Types \n",
    "\n",
    "## Primitive Data Types \n",
    "    - int \n",
    "    - string \n",
    "    - float \n",
    "    - boolean \n",
    "\n",
    "## Collection Data Types \n",
    "    - list \n",
    "    - dictionary "
   ]
  },
  {
   "cell_type": "code",
   "execution_count": null,
   "metadata": {},
   "outputs": [],
   "source": [
    "myInt = 20\n",
    "\n",
    "myString = \"My name is Tara\"\n",
    "\n",
    "myFloat = 77.29\n",
    "\n",
    "myBool = False "
   ]
  },
  {
   "cell_type": "code",
   "execution_count": null,
   "metadata": {},
   "outputs": [],
   "source": [
    "agesOfMyFriendsList = [16, 20, 15, 12]\n",
    "\n",
    "print(agesOfMyFriendsList)"
   ]
  },
  {
   "cell_type": "code",
   "execution_count": null,
   "metadata": {},
   "outputs": [],
   "source": [
    "agesOfMyFriendsDictionary = { \"Tara\" : 16, \"Tanisha\" : 15, \"Dylan\" : 12, \"Tara \" : 17}\n",
    "\n",
    "\n",
    "print(agesOfMyFriendsDictionary[\"Tara\"])\n",
    "\n",
    "print(agesOfMyFriendsDictionary[\"Tara \"])\n"
   ]
  },
  {
   "cell_type": "markdown",
   "metadata": {},
   "source": [
    "# Concatenation \n",
    "\n",
    "## 'Joining' of strings and other types "
   ]
  },
  {
   "cell_type": "code",
   "execution_count": null,
   "metadata": {},
   "outputs": [],
   "source": [
    "myFirstName = \"Tara\"\n",
    "\n",
    "myLastName = \"Sehdave\"\n",
    "\n",
    "print(myFirstName + \" \" + myLastName)"
   ]
  },
  {
   "cell_type": "code",
   "execution_count": null,
   "metadata": {},
   "outputs": [],
   "source": [
    "myFirstInt = 5\n",
    "\n",
    "mySecondInt = 10 \n",
    "\n",
    "print(myFirstInt + mySecondInt)"
   ]
  },
  {
   "cell_type": "markdown",
   "metadata": {},
   "source": [
    "# Formatting allows us to display values using pre-decided rules "
   ]
  },
  {
   "cell_type": "code",
   "execution_count": null,
   "metadata": {},
   "outputs": [],
   "source": [
    "message = \"My first name is {0} and my last name is {1}\"\n",
    "\n",
    "print(message.format(\"Tara\", \"Sehdave\"))\n",
    "\n",
    "print(message.format(\"Tanisha\", \"Patil\"))"
   ]
  },
  {
   "cell_type": "code",
   "execution_count": null,
   "metadata": {},
   "outputs": [],
   "source": [
    "x = .77 \n",
    "\n",
    "message = \"Show this as a percentage {0:.0%}\"\n",
    "\n",
    "print(message.format(x))\n",
    "\n",
    "print(message.format(.25))"
   ]
  },
  {
   "cell_type": "code",
   "execution_count": null,
   "metadata": {},
   "outputs": [],
   "source": [
    "message = \"The binary value of {0} is {0:b} and the binary value of {1} is {1:b}\"\n",
    "\n",
    "print(message.format(7, 6836))"
   ]
  },
  {
   "cell_type": "markdown",
   "metadata": {},
   "source": [
    "# Conversions "
   ]
  },
  {
   "cell_type": "code",
   "execution_count": null,
   "metadata": {},
   "outputs": [],
   "source": [
    "import json\n",
    "\n",
    "myDictionary = {\"A\": 1, \"B\": 2}\n",
    "\n",
    "print(myDictionary) \n",
    "\n",
    "myStringDictionary = json.dumps(myDictionary)\n",
    "\n",
    "print(myStringDictionary)\n",
    "\n",
    "myDictionaryRecreated = json.loads(myStringDictionary)\n",
    "\n",
    "print(myDictionaryRecreated)\n"
   ]
  },
  {
   "cell_type": "code",
   "execution_count": null,
   "metadata": {},
   "outputs": [],
   "source": [
    "# Python Data Types in CB Pseudo Code \n",
    "\n",
    "## Primitive Types \n",
    "\n",
    "a <-- expression \n",
    "- myInt <-- 18\n",
    "- myString <-- \"My name is Tara\"\n",
    "- myFloat <-- 6.8\n",
    "- myBool <-- False \n",
    "\n",
    "# Collection Types \n",
    "\n",
    "- myList <-- [1, 2, 3]\n",
    "- No dictionary "
   ]
  },
  {
   "cell_type": "markdown",
   "metadata": {},
   "source": [
    "# Data Type Practice  "
   ]
  },
  {
   "cell_type": "markdown",
   "metadata": {},
   "source": [
    "### Question 1: Integer Operation\n",
    "1. Declare two integer variables, `num1Int` and `num2Int`, and assign them values of your choice.\n",
    "2. Calculate the sum of `num1Int` and `num2Int`\n",
    "4. Print the sum\n",
    "\n",
    "### Question 2: Float Operation\n",
    "1. Declare two float variables, `float1` and `float2`, and assign them values of your choice.\n",
    "2. Calculate the quotient of 'float1' and 'float2'\n",
    "3. Print the quotient \n",
    "\n",
    "### Question 3: Format Manipulation \n",
    "1. Write a message that equals a sentence with two placeholder variables\n",
    "2. Write two strings with two placeholder variables to insert into the message \n",
    "3. Print that message "
   ]
  },
  {
   "cell_type": "markdown",
   "metadata": {},
   "source": [
    "# Answers "
   ]
  },
  {
   "cell_type": "code",
   "execution_count": null,
   "metadata": {},
   "outputs": [],
   "source": [
    "# Integer Operations\n",
    "\n",
    "num1Int = 16\n",
    "\n",
    "num2Int = 12\n",
    "\n",
    "print(num1Int + num2Int)"
   ]
  },
  {
   "cell_type": "code",
   "execution_count": null,
   "metadata": {},
   "outputs": [],
   "source": [
    "# Float Operation\n",
    "\n",
    "float1 = 1.00\n",
    "\n",
    "float2 = .75 \n",
    "\n",
    "print(float1 / float2 )"
   ]
  },
  {
   "cell_type": "code",
   "execution_count": null,
   "metadata": {},
   "outputs": [],
   "source": [
    "# Format Manipulation \n",
    "\n",
    "message = \"{0} is {1} years old\"\n",
    "\n",
    "print(message.format(\"Tara\", \"16\"))\n",
    "\n",
    "print (message.format(\"Sharon\", \"8\"))\n",
    "\n",
    "print (message.format(\"Dylan\", \"80\"))"
   ]
  },
  {
   "cell_type": "markdown",
   "metadata": {},
   "source": [
    "# <code style=\"color: #4e804f\">☆ Topic 3.2 ☆</code>\n",
    "> ### <code style=\"color:#4e804f;\">☆ Using lists as an abstraction to manage a program's complexity</code>\n",
    "> ### <code style=\"color:#4e804f;\">☆ learn about the lists section of the exam reference sheet</code>\n",
    "\n",
    "## Things to remember\n",
    "- use lists to store multiple elements \n",
    "- data abstraction provides a seperation between abstract parts of a datatype and the actual details of it\n",
    "- it can be created using lists\n",
    "- the exam reference sheets has list notations\n",
    "- the reference sheet has a list structure with index values 1-#of elements in the list. if list index is less that 1 or greater than the list\n",
    "- variables must be **bundled** together\n",
    "    - strings, characters, words, numbers\n",
    "- give one name to a set of cells \n"
   ]
  },
  {
   "cell_type": "code",
   "execution_count": null,
   "metadata": {},
   "outputs": [],
   "source": [
    "num =[1, 2, 3, 4]\n",
    "abc = [\"a\", \"b\", \"c\"]\n",
    "colors = [\"red\", \"green\", \"blue\"]\n",
    "emptylist = []\n",
    "\n",
    "#replacing\n",
    "alist = [10, 20, 30, 40, 50]\n",
    "blist = [20, 40, 60, 80, 100]\n",
    "alist = blist\n",
    "\n",
    "print(alist)\n",
    "#what will be the output of this code?\n"
   ]
  },
  {
   "cell_type": "code",
   "execution_count": null,
   "metadata": {},
   "outputs": [],
   "source": [
    "%%javascript\n",
    "# Define an array with elements\n",
    "const colors = [\"Red\", \"Green\", \"Blue\", \"Yellow\"];\n",
    "# Access elements using indexes\n",
    "const firstColor = colors[0]; // Index 0: \"Red\"\n",
    "const secondColor = colors[1]; // Index 1: \"Green\"\n",
    "#  Modify an element at a specific index\n",
    "colors[2] = \"Purple\"; // Index 2 is changed from \"Blue\" to \"Purple\"\n",
    "# Add a new element to the array\n",
    "colors.push(\"Orange\"); // Adds \"Orange\" to the end of the array\n",
    "# Print elements and their indexes\n",
    "console.log(\"First Color:\", firstColor);\n",
    "console.log(\"Second Color:\", secondColor);\n",
    "console.log(\"Updated Colors Array:\", colors);\n",
    "# Define a string\n",
    "const greeting = \"Hello, World!\";\n",
    "# Print the string\n",
    "console.log(greeting);"
   ]
  },
  {
   "cell_type": "markdown",
   "metadata": {},
   "source": [
    "# 3.2.3 Data Abstraction\n",
    "-Manages complexity of data collection\n",
    "-Program easier to develop and maintain\n",
    "-Lists\n",
    "-If a list index is less than 1 or greater than the length of the list, an error message will be produced\n",
    "### How lists help with complexity\n",
    "-Less variables (like one variable that holds multiple numbers instead of one variable for each number)\n",
    "-Changes number of variables\n",
    "-Consistency\n",
    "-Helps readability\n",
    "### Example\n",
    "variable1 = 2\n",
    "variable2 = 5\n",
    "variable3 = 4\n",
    "### Would be simplified like this!\n",
    "scores = [2, 5, 4]\n",
    "# Activity - Turn this into a list!\n",
    "variable1 = 7\n",
    "variable2 = 9\n",
    "variable3 = 2\n",
    "variable4 = 8"
   ]
  }
 ],
 "metadata": {
  "kernelspec": {
   "display_name": "Python 3 (ipykernel)",
   "language": "python",
   "name": "python3"
  },
  "language_info": {
   "codemirror_mode": {
    "name": "ipython",
    "version": 3
   },
   "file_extension": ".py",
   "mimetype": "text/x-python",
   "name": "python",
   "nbconvert_exporter": "python",
   "pygments_lexer": "ipython3",
   "version": "3.11.5"
  }
 },
 "nbformat": 4,
 "nbformat_minor": 4
}
