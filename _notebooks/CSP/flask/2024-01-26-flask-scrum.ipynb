{
 "cells": [
  {
   "cell_type": "raw",
   "metadata": {
    "vscode": {
     "languageId": "raw"
    }
   },
   "source": [
    "---\n",
    "layout: post\n",
    "title: Scrum planning and tracking a Flask project\n",
    "description: Flask is the type of project that has multiple layers and components that need to be developed and tested. This post will show you how to use Scrum practices to plan and track your Flask project.\n",
    "permalink: /flask-scrum\n",
    "menu: nav/flask.html\n",
    "toc: true\n",
    "---"
   ]
  },
  {
   "cell_type": "markdown",
   "metadata": {
    "vscode": {
     "languageId": "raw"
    }
   },
   "source": [
    "## Scrum Work\n",
    "In the Agile methodology, Scrum is a framework that is used to implement Agile development. Scrum is a lightweight process framework for agile development, and the most widely-used one. The Scrum process is adaptable to elements like group size, time of sprints, and tools used to guide the process.\n",
    "\n",
    "- Group size in our Scrums starts at 6 people, but depending on the the project and Teacher direction we have gone to sizes of 12, the whole class, and have spanned across multiple classes.\n",
    "- Sprints are shown in Classroom planning.  These typically have elements like checkpoints, showcases, demos, and live reviews.\n",
    "- The Key tools are Issues, Scrum Boards, Repositories.  We center our Scrum on the GitHub tool chain.  These tools are used to share plans, share code, and derive analytics on participation."
   ]
  },
  {
   "cell_type": "markdown",
   "metadata": {},
   "source": [
    "## Hacks\n",
    "Key deliverables of this Tech Talk...\n",
    "- Build Team Agile Manifesto.\n",
    "- Build Team Agile Methodology Diagram, work in Manifesto elements, and add Team Member roles.\n",
    "- Establish key development roles\n",
    "- [Start design](https://github.com/nighthawkcoders/kasmv2-flask/issues/1)\n",
    "- Create Individual Issues and a Scrum Board as output of a Team Stand-up Meeting.  \n",
    "- Start pull request process\n",
    "\n",
    "![]({{site.baseurl}}/images/scrum.png)"
   ]
  }
 ],
 "metadata": {
  "language_info": {
   "name": "python"
  }
 },
 "nbformat": 4,
 "nbformat_minor": 2
}
