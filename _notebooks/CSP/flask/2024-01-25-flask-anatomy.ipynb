{
 "cells": [
  {
   "attachments": {},
   "cell_type": "raw",
   "metadata": {
    "vscode": {
     "languageId": "raw"
    }
   },
   "source": [
    "---\n",
    "layout: post\n",
    "title: Anatomy of Python Flask\n",
    "description: A discussion of key elements in a Python Flask backend project.  This includes preparing a project for deployment.\n",
    "categories: [Python, Flask]\n",
    "permalink: /flask-anatomy\n",
    "menu: nav/flask.html\n",
    "toc: true\n",
    "---"
   ]
  },
  {
   "attachments": {},
   "cell_type": "markdown",
   "metadata": {},
   "source": [
    "## Getting Started with Anatomy\n",
    "\n",
    "In order to get started you need to learn the parts of the system, you get started you will need to  ...\n",
    "\n",
    "- Review the README.md to add additional support this lesson.  \n",
    "- Developing a home page.\n",
    "- Learn lifecyle of code, run local server test, and then sync to deploy to GitHub Pages.\n",
    "- Learn the tools you have setup.\n"
   ]
  },
  {
   "attachments": {},
   "cell_type": "markdown",
   "metadata": {},
   "source": [
    "## Files and Directories in this Project\n",
    "> These are some of the key files and directories in this project. Understanding these files will speed up your development.  \n",
    "\n",
    "- `README.md`: This file contains instructions for setting up the necessary tools and cloning the project. A README file is a standard component of all properly set up GitHub projects.\n",
    "\n",
    "- `requirements.txt`: This file lists the dependencies required to turn this Python project into a Flask/Python project. It may also include other backend dependencies, such as dependencies for working with a database.\n",
    "\n",
    "- `main.py`: This Python source file is used to run the project. Running this file starts a Flask web server locally on localhost. During development, this is the file you use to run, test, and debug the project.\n",
    "\n",
    "- `Dockerfile` and `docker-compose.yml`: These files are used to run and test the project in a Docker container. They allow you to simulate the project's deployment on a server, such as an AWS EC2 instance. Running these files helps ensure that your tools and dependencies work correctly on different machines.\n",
    "\n",
    "- `instances`: This directory is the standard location for storing data files that you want to remain on the server. For example, SQLite database files can be stored in this directory.  Files stored in this location will persist after web application restart, everyting outside of instances will be recreated at restart.\n",
    "\n",
    "- `static`: This directory is the standard location for files that you want to be cached by the web server. It is typically used for image files (JPEG, PNG, etc.) or JavaScript files that remain constant during the execution of the web server.\n",
    "\n",
    "- `api`: This directory contains code that receives and responds to requests from external servers. It serves as the interface between the external world and the logic and code in the rest of the project.\n",
    "\n",
    "- `model`: This directory contains files that implement the backend functionality for many of the files in the api directory. For example, there may be files in the model directory that directly interact with the database.\n",
    "\n",
    "- `templates`: This directory contains files and subdirectories used to support the home and error pages of the website.\n",
    "\n",
    "- `.gitignore`: This file specifies elements to be excluded from version control. Files are excluded when they are derived and not considered part of the project's original source. In the VSCode Explorer, you may notice some files appearing dimmed, indicating that they are intentionally excluded from version control based on the rules defined in .gitignore.\n",
    "\n",
    "Please note that there are many other key files and directories in a Flask Python backend server, but we will highlight them as the development progresses."
   ]
  },
  {
   "attachments": {},
   "cell_type": "markdown",
   "metadata": {},
   "source": [
    "\n",
    "### Dockerfile and docker-compose.yml\n",
    "> Make sure your docker files are created using these examples.  These files are the best way to determine if your web application is ready for deployment.\n",
    "\n",
    "Examining and understanding these files will help you understand a great deal about the requirement of your project.\n",
    "\n",
    "- Dockerfile \n",
    "    - a python environment is used as or deployment container, check the version\n",
    "    - python3-pip is installed, as pip is the package manager\n",
    "    - requirement.txt is used to update project dependencies in the container\n",
    "    - gunicorn is used to run a production version of python/flask, in this configuration 3 workers or 3 instances of the server are run.  This balances load.\n",
    "    - main:app means the main.py is the primary file and app contains server configuration\n",
    "    \n",
    "- docker-compose.yml\n",
    "    - image name the docker container\n",
    "    - port declares address for web application on web server\n",
    "    - volumes declares that the instance directory contains persistant data\n",
    "    - restart tells web applciation to come back up if something like power outage or reboot takes down web server\n"
   ]
  },
  {
   "cell_type": "code",
   "execution_count": null,
   "metadata": {
    "vscode": {
     "languageId": "shellscript"
    }
   },
   "outputs": [],
   "source": [
    "FROM docker.io/python:3.11\n",
    "\n",
    "WORKDIR /\n",
    "\n",
    "# --- [Install python and pip] ---\n",
    "RUN apt-get update && apt-get upgrade -y && \\\n",
    "    apt-get install -y python3 python3-pip git\n",
    "COPY . /\n",
    "\n",
    "RUN pip install --no-cache-dir -r requirements.txt\n",
    "RUN pip install gunicorn\n",
    "\n",
    "ENV GUNICORN_CMD_ARGS=\"--workers=3 --bind=0.0.0.0:8080\"\n",
    "\n",
    "EXPOSE 8080\n",
    "\n",
    "CMD [ \"gunicorn\", \"main:app\" ]"
   ]
  },
  {
   "cell_type": "code",
   "execution_count": null,
   "metadata": {
    "vscode": {
     "languageId": "shellscript"
    }
   },
   "outputs": [],
   "source": [
    "version: '3'\n",
    "services:\n",
    "        web:\n",
    "                image: flask_port_v1 # Change the image name to something unique to your project, aka my_unique_name_v1\n",
    "                build: .\n",
    "                ports:\n",
    "                        - \"8---:8080\" # Edit the number on the left to match the port you selected\n",
    "                volumes:\n",
    "                        - ./volumes:/volumes\n",
    "                        - ./instance:/instance\n",
    "                restart: unless-stopped"
   ]
  },
  {
   "cell_type": "markdown",
   "metadata": {},
   "source": [
    "### Time to Review the README\n",
    "\n",
    "Open the README of the Flask project and read through it. The README is your starting point for understanding and developing the project. It provides essential information and instructions. Note that some familiarity with tools like Python, GitHub, and code editors (e.g., VSCode) is assumed.\n",
    "\n",
    "If you have support need on this Project, be sure to add Utterance to the bottom of this or other articles in the Flask Intro series. Here is the [Issues Link](https://github.com/nighthawkcoders/flask_2025/issues) for searching, reviewing, and tracking progress on yours and others comments.\n",
    "\n",
    "#### Standards and Practices for a Good README\n",
    "\n",
    "A well-crafted README typically includes the following sections:\n",
    "\n",
    "1. **Project Title**: Clearly state the name of the project.\n",
    "2. **Description**: Provide a brief overview of what the project does and its purpose.\n",
    "3. **Installation Instructions**: Step-by-step guide on how to set up the project locally.\n",
    "4. **Usage**: Examples and instructions on how to use the project.\n",
    "5. **History**: A brief summary of recent developments in the project. This high-level summary is helpful for understanding the project's evolution as it is often hard to determine from individual commits.\n",
    "\n",
    "By following these standards and practices, you ensure that your README is informative and helpful to anyone who wants to understand or contribute to your project."
   ]
  }
 ],
 "metadata": {
  "kernelspec": {
   "display_name": "Java",
   "language": "java",
   "name": "java"
  },
  "language_info": {
   "codemirror_mode": "java",
   "file_extension": ".jshell",
   "mimetype": "text/x-java-source",
   "name": "java",
   "pygments_lexer": "java",
   "version": "17.0.3+7"
  },
  "orig_nbformat": 4
 },
 "nbformat": 4,
 "nbformat_minor": 2
}
